{
 "cells": [
  {
   "cell_type": "code",
   "execution_count": null,
   "metadata": {},
   "outputs": [],
   "source": [
    "import pandas as pd\n",
    "import seaborn as sns\n",
    "import numpy as np\n",
    "import matplotlib.pyplot as plt\n",
    "from factor_analyzer import FactorAnalyzer\n",
    "from sklearn.decomposition import FactorAnalysis\n",
    "from sklearn.preprocessing import StandardScaler\n",
    "from factor_analyzer.factor_analyzer import calculate_bartlett_sphericity\n",
    "from factor_analyzer.factor_analyzer import calculate_kmo\n",
    "from mpl_toolkits.mplot3d import Axes3D"
   ]
  },
  {
   "cell_type": "code",
   "execution_count": 2,
   "metadata": {},
   "outputs": [
    {
     "name": "stdout",
     "output_type": "stream",
     "text": [
      "shape of train:  (7767, 563) shape of test:  (3162, 563)\n"
     ]
    }
   ],
   "source": [
    "train = pd.read_csv(\"./input/Train/train.csv\")\n",
    "test = pd.read_csv(\"./input/Test/test.csv\")\n",
    "\n",
    "print(\"shape of train: \", train.shape, \"shape of test: \", test.shape)"
   ]
  },
  {
   "cell_type": "code",
   "execution_count": 3,
   "metadata": {},
   "outputs": [
    {
     "name": "stdout",
     "output_type": "stream",
     "text": [
      "False\n",
      "False\n"
     ]
    }
   ],
   "source": [
    "print(train.isnull().values.any())\n",
    "print(test.isnull().values.any())"
   ]
  },
  {
   "cell_type": "markdown",
   "metadata": {},
   "source": [
    "Observation: Train data and test data is divided in approximately 70:30. There are no missing values."
   ]
  },
  {
   "cell_type": "markdown",
   "metadata": {},
   "source": [
    "### Visualizations for Train data"
   ]
  },
  {
   "cell_type": "code",
   "execution_count": null,
   "metadata": {},
   "outputs": [],
   "source": [
    "print(train.Activity.value_counts())"
   ]
  },
  {
   "cell_type": "code",
   "execution_count": null,
   "metadata": {},
   "outputs": [],
   "source": [
    "plt.figure(figsize = (30,10))\n",
    "sns.countplot(x=train.Activity)\n",
    "plt.xlabel('Activity')\n",
    "plt.ylabel('count')\n",
    "plt.title('Frequency of Activities in Train Set')\n",
    "plt.show()"
   ]
  },
  {
   "cell_type": "code",
   "execution_count": null,
   "metadata": {},
   "outputs": [],
   "source": [
    "# Stacked Bar Chart for different activities with regards to subjects\n",
    "\n",
    "stack_group = train.groupby(['subject', 'Activity']).size().unstack()\n",
    "stack_group.plot(kind='bar', stacked=True, figsize=(17, 8), title = 'Activity count w.r.t Subjects in train')\n",
    "plt.show()"
   ]
  },
  {
   "cell_type": "markdown",
   "metadata": {},
   "source": [
    "### Visualizations for Test data"
   ]
  },
  {
   "cell_type": "code",
   "execution_count": null,
   "metadata": {},
   "outputs": [],
   "source": [
    "print(test.Activity.value_counts())"
   ]
  },
  {
   "cell_type": "code",
   "execution_count": null,
   "metadata": {},
   "outputs": [],
   "source": [
    "plt.figure(figsize = (30,10))\n",
    "sns.countplot(x=test.Activity)\n",
    "plt.xlabel('Activity')\n",
    "plt.ylabel('count')\n",
    "plt.title('Frequency of Activities in test')\n",
    "plt.show()"
   ]
  },
  {
   "cell_type": "code",
   "execution_count": null,
   "metadata": {
    "scrolled": true
   },
   "outputs": [],
   "source": [
    "# Stacked Bar Chart for different activities with regards to subjects\n",
    "\n",
    "stack_group = test.groupby(['subject', 'Activity']).size().unstack()\n",
    "stack_group.plot(kind='bar', stacked=True, figsize=(17, 8), title = 'Activity count w.r.t Subjects in test')\n",
    "plt.show()"
   ]
  },
  {
   "cell_type": "markdown",
   "metadata": {},
   "source": [
    "### Principal Component Analysis (PCA)\n",
    "We want to use PCA to reduce the the multidimension features in our data into fewer dimensions to better understand the data distribution. We are interested to find out whether the classes are separable using these selected principal components."
   ]
  },
  {
   "cell_type": "code",
   "execution_count": null,
   "metadata": {},
   "outputs": [],
   "source": [
    "# First, we need to standardize the data to get better performance\n",
    "from sklearn.preprocessing import StandardScaler\n",
    "features = train.columns.values.tolist()\n",
    "features.remove('Activity')\n",
    "\n",
    "# Separating out the features\n",
    "x = train.loc[:, features].values\n",
    "\n",
    "# Separating out the target\n",
    "y = train.loc[:,['Activity']].values\n",
    "\n",
    "# Standardizing the features\n",
    "x = StandardScaler().fit_transform(x)"
   ]
  },
  {
   "cell_type": "markdown",
   "metadata": {},
   "source": [
    "#### 2 Components PCA"
   ]
  },
  {
   "cell_type": "code",
   "execution_count": null,
   "metadata": {},
   "outputs": [],
   "source": [
    "from sklearn.decomposition import PCA\n",
    "pca = PCA(n_components=2)\n",
    "PC = pca.fit_transform(x)\n",
    "principalDf = pd.DataFrame(data = PC\n",
    "             , columns = ['PC1', 'PC2'])"
   ]
  },
  {
   "cell_type": "code",
   "execution_count": null,
   "metadata": {},
   "outputs": [],
   "source": [
    "finalDf = pd.concat([principalDf, train[['Activity']]], axis = 1)"
   ]
  },
  {
   "cell_type": "code",
   "execution_count": null,
   "metadata": {},
   "outputs": [],
   "source": [
    "fig = plt.figure(figsize = (8,8))\n",
    "ax = fig.add_subplot(1,1,1) \n",
    "ax.set_xlabel('PC1', fontsize = 15)\n",
    "ax.set_ylabel('PC2', fontsize = 15)\n",
    "ax.set_title('PCA with 2 components', fontsize = 20)\n",
    "targets = train['Activity'].unique()\n",
    "\n",
    "for target in targets:\n",
    "    indicesToKeep = finalDf['Activity'] == target\n",
    "    ax.scatter(finalDf.loc[indicesToKeep, 'PC1']\n",
    "               , finalDf.loc[indicesToKeep, 'PC2']\n",
    "               , s = 50)\n",
    "ax.legend(targets)\n",
    "ax.grid()"
   ]
  },
  {
   "cell_type": "code",
   "execution_count": null,
   "metadata": {},
   "outputs": [],
   "source": [
    "pca.explained_variance_ratio_"
   ]
  },
  {
   "cell_type": "markdown",
   "metadata": {},
   "source": [
    "From the result above we can see that the first principal component contains 48.15% of the variance and the second principal component contains 8.08% of the variance. Together, the two components contain 56.23% of the information, which is not very representative. The classes are also overlapping."
   ]
  },
  {
   "cell_type": "markdown",
   "metadata": {},
   "source": [
    "#### 3 Components PCA"
   ]
  },
  {
   "cell_type": "code",
   "execution_count": null,
   "metadata": {},
   "outputs": [],
   "source": [
    "pca3 = PCA(n_components=3)\n",
    "PC3 = pca3.fit_transform(x)\n",
    "principalDf3 = pd.DataFrame(data = PC3\n",
    "             , columns = ['PC1', 'PC2', 'PC3'])"
   ]
  },
  {
   "cell_type": "code",
   "execution_count": null,
   "metadata": {},
   "outputs": [],
   "source": [
    "finalDf3 = pd.concat([principalDf3, train[['Activity']]], axis = 1)"
   ]
  },
  {
   "cell_type": "code",
   "execution_count": null,
   "metadata": {},
   "outputs": [],
   "source": [
    "fig = plt.figure(figsize = (8,8))\n",
    "ax = fig.add_subplot(1,1,1, projection='3d') \n",
    "ax.set_xlabel('PC1', fontsize = 15)\n",
    "ax.set_ylabel('PC2', fontsize = 15)\n",
    "ax.set_zlabel('PC3', fontsize = 15)\n",
    "ax.set_title('PCA with 3 components', fontsize = 20)\n",
    "targets = train['Activity'].unique()\n",
    "\n",
    "for target in targets:\n",
    "    indicesToKeep = finalDf3['Activity'] == target\n",
    "    ax.scatter(finalDf3.loc[indicesToKeep, 'PC1']\n",
    "               , finalDf3.loc[indicesToKeep, 'PC2']\n",
    "               , finalDf3.loc[indicesToKeep, 'PC3']\n",
    "               , s = 50)\n",
    "ax.legend(targets)\n",
    "ax.grid()"
   ]
  },
  {
   "cell_type": "code",
   "execution_count": null,
   "metadata": {},
   "outputs": [],
   "source": [
    "pca3.explained_variance_ratio_"
   ]
  },
  {
   "cell_type": "markdown",
   "metadata": {},
   "source": [
    "From the variance ratio above we can see that the first principal component contains 48.15% of the variance and the second principal component contains 8.08% of the variance, and the third principal component contains 3.19% of the variance. Together, the three components contain 59.42% of the information, which is still considerably small. The classes are again overlapping."
   ]
  },
  {
   "cell_type": "markdown",
   "metadata": {},
   "source": [
    "## Dimensionality Reduction using Isomap Embedding"
   ]
  },
  {
   "cell_type": "code",
   "execution_count": null,
   "metadata": {},
   "outputs": [],
   "source": [
    "# First, we need to standardize the data to get better performance\n",
    "from sklearn.preprocessing import StandardScaler\n",
    "features = train.columns.values.tolist()\n",
    "features.remove('Activity')\n",
    "\n",
    "# Separating out the features\n",
    "x = train.loc[:, features].values\n",
    "\n",
    "# Separating out the target\n",
    "y = train.loc[:,['Activity']].values\n",
    "\n",
    "# Standardizing the features\n",
    "x = StandardScaler().fit_transform(x)"
   ]
  },
  {
   "cell_type": "code",
   "execution_count": null,
   "metadata": {},
   "outputs": [],
   "source": [
    "from sklearn.manifold import Isomap as ISO\n",
    "\n",
    "iso = ISO(n_components = 2)\n",
    "isomap = iso.fit_transform(x)\n",
    "isomapTempDf = pd.DataFrame(data = isomap, columns = [\"ISO1\", \"ISO2\"])"
   ]
  },
  {
   "cell_type": "code",
   "execution_count": null,
   "metadata": {},
   "outputs": [],
   "source": [
    "isomapFinalDf = pd.concat([isomapTempDf, train[['Activity']]], axis = 1)"
   ]
  },
  {
   "cell_type": "code",
   "execution_count": null,
   "metadata": {},
   "outputs": [],
   "source": [
    "fig = plt.figure(figsize = (16,10))\n",
    "ax = fig.add_subplot(1,1,1) \n",
    "ax.set_xlabel('ISO1', fontsize = 15)\n",
    "ax.set_ylabel('ISO2', fontsize = 15)\n",
    "ax.set_title('Isomap Embedding', fontsize = 20)\n",
    "targets = train['Activity'].unique()\n",
    "\n",
    "for target in targets:\n",
    "    indicesToKeep = isomapFinalDf['Activity'] == target\n",
    "    ax.scatter(isomapFinalDf.loc[indicesToKeep, 'ISO1']\n",
    "               , isomapFinalDf.loc[indicesToKeep, 'ISO2']\n",
    "               , s = 30\n",
    "               , alpha = 0.5)\n",
    "ax.legend(targets)\n",
    "ax.grid()"
   ]
  },
  {
   "cell_type": "markdown",
   "metadata": {},
   "source": [
    "### t-Distributed Stochastic Neighbour Embedding (t-SNE)"
   ]
  },
  {
   "cell_type": "code",
   "execution_count": null,
   "metadata": {},
   "outputs": [],
   "source": [
    "# First, we need to standardize the data to get better performance\n",
    "from sklearn.preprocessing import StandardScaler\n",
    "features = train.columns.values.tolist()\n",
    "features.remove('Activity')\n",
    "\n",
    "# Separating out the features\n",
    "x = train.loc[:, features].values\n",
    "\n",
    "# Separating out the target\n",
    "y = train.loc[:,['Activity']].values\n",
    "\n",
    "# Standardizing the features\n",
    "x = StandardScaler().fit_transform(x)"
   ]
  },
  {
   "cell_type": "code",
   "execution_count": null,
   "metadata": {},
   "outputs": [],
   "source": [
    "from sklearn.manifold import TSNE\n",
    "tsne = TSNE(n_components = 2, perplexity = 50, n_iter = 7000)\n",
    "tsne_results = tsne.fit_transform(x)\n",
    "\n",
    "df_subset = pd.DataFrame(columns = ['tsne-2d-one','tsne-2d-two','Activities'])\n",
    "df_subset['tsne-2d-one'] = tsne_results[:, 0]\n",
    "df_subset['tsne-2d-two'] = tsne_results[:, 1]\n",
    "df_subset['Activities'] = y"
   ]
  },
  {
   "cell_type": "code",
   "execution_count": null,
   "metadata": {},
   "outputs": [],
   "source": [
    "plt.figure(figsize = (16, 10))\n",
    "plt.title('t-SNE with 2 Components')\n",
    "\n",
    "sns.scatterplot(\n",
    "    x = \"tsne-2d-one\", y = \"tsne-2d-two\",\n",
    "    hue = \"Activities\",\n",
    "    palette = \"bright\",\n",
    "    data = df_subset,\n",
    "    legend = \"full\",\n",
    "    alpha = 0.3\n",
    ")\n",
    "\n",
    "plt.show()"
   ]
  },
  {
   "cell_type": "code",
   "execution_count": null,
   "metadata": {},
   "outputs": [],
   "source": [
    "from sklearn.model_selection import train_test_split\n",
    "from sklearn.tree import DecisionTreeClassifier"
   ]
  },
  {
   "cell_type": "code",
   "execution_count": null,
   "metadata": {},
   "outputs": [],
   "source": [
    "features = train.columns.values.tolist()\n",
    "features.remove('Activity')\n",
    "\n",
    "# Separating out the features\n",
    "x = train.loc[:, features].values\n",
    "\n",
    "# Separating out the target\n",
    "y = train.loc[:,['Activity']].values\n",
    "\n",
    "x_train, x_test, y_train, y_test = train_test_split(x, y, test_size=0.25, random_state=1300)"
   ]
  },
  {
   "cell_type": "code",
   "execution_count": null,
   "metadata": {},
   "outputs": [],
   "source": [
    "dt = DecisionTreeClassifier()\n",
    "dt.fit(x_train, y_train)"
   ]
  },
  {
   "cell_type": "code",
   "execution_count": null,
   "metadata": {},
   "outputs": [],
   "source": [
    "dt.score(x_test, y_test)"
   ]
  },
  {
   "cell_type": "code",
   "execution_count": null,
   "metadata": {},
   "outputs": [],
   "source": [
    "dt.score(x_train, y_train)"
   ]
  },
  {
   "cell_type": "code",
   "execution_count": null,
   "metadata": {},
   "outputs": [],
   "source": [
    "from sklearn.ensemble import RandomForestClassifier"
   ]
  },
  {
   "cell_type": "code",
   "execution_count": null,
   "metadata": {},
   "outputs": [],
   "source": [
    "clf_RF_n = [RandomForestClassifier(n_estimators = 50, random_state  = 1300),\n",
    "            RandomForestClassifier(n_estimators = 150, random_state  = 1300),\n",
    "            RandomForestClassifier(n_estimators = 200, random_state  = 1300),\n",
    "            RandomForestClassifier(n_estimators = 400, random_state  = 1300),\n",
    "            RandomForestClassifier(n_estimators = 500, random_state  = 1300)]"
   ]
  },
  {
   "cell_type": "code",
   "execution_count": null,
   "metadata": {},
   "outputs": [],
   "source": [
    "from sklearn.metrics import accuracy_score\n",
    "\n",
    "acc_RF_n = []\n",
    "\n",
    "for clf in clf_RF_n:\n",
    "    fit = clf.fit(x_train, np.ravel(y_train))\n",
    "    pred = fit.predict(x_test)\n",
    "    accuracy = accuracy_score(y_test, pred)\n",
    "    \n",
    "    acc_RF_n.append(accuracy)"
   ]
  },
  {
   "cell_type": "code",
   "execution_count": null,
   "metadata": {},
   "outputs": [],
   "source": [
    "acc_RF_n"
   ]
  },
  {
   "cell_type": "markdown",
   "metadata": {},
   "source": [
    "# Factor Analysis"
   ]
  },
  {
   "cell_type": "markdown",
   "metadata": {},
   "source": [
    "We want to use Factor Analysis to find latent variables which can help us have a clearer interpretation of the variables and model."
   ]
  },
  {
   "cell_type": "code",
   "execution_count": 4,
   "metadata": {},
   "outputs": [],
   "source": [
    "# Loading the data and preprocessing the data\n",
    "# Dropping columns that are unnecessary or are non float.\n",
    "fa_train = train.copy()\n",
    "fa_train = fa_train.sort_values(\"Activity\")\n",
    "fa_train.drop(['subject', 'Activity'], axis = 1, inplace = True)\n",
    "result = fa_train.columns"
   ]
  },
  {
   "cell_type": "code",
   "execution_count": 5,
   "metadata": {},
   "outputs": [
    {
     "data": {
      "text/html": [
       "<div>\n",
       "<style scoped>\n",
       "    .dataframe tbody tr th:only-of-type {\n",
       "        vertical-align: middle;\n",
       "    }\n",
       "\n",
       "    .dataframe tbody tr th {\n",
       "        vertical-align: top;\n",
       "    }\n",
       "\n",
       "    .dataframe thead th {\n",
       "        text-align: right;\n",
       "    }\n",
       "</style>\n",
       "<table border=\"1\" class=\"dataframe\">\n",
       "  <thead>\n",
       "    <tr style=\"text-align: right;\">\n",
       "      <th></th>\n",
       "      <th>tBodyAcc-Mean-1</th>\n",
       "      <th>tBodyAcc-Mean-2</th>\n",
       "      <th>tBodyAcc-Mean-3</th>\n",
       "      <th>tBodyAcc-STD-1</th>\n",
       "      <th>tBodyAcc-STD-2</th>\n",
       "      <th>tBodyAcc-STD-3</th>\n",
       "      <th>tBodyAcc-Mad-1</th>\n",
       "      <th>tBodyAcc-Mad-2</th>\n",
       "      <th>tBodyAcc-Mad-3</th>\n",
       "      <th>tBodyAcc-Max-1</th>\n",
       "      <th>...</th>\n",
       "      <th>fBodyGyroJerkMag-MeanFreq-1</th>\n",
       "      <th>fBodyGyroJerkMag-Skewness-1</th>\n",
       "      <th>fBodyGyroJerkMag-Kurtosis-1</th>\n",
       "      <th>tBodyAcc-AngleWRTGravity-1</th>\n",
       "      <th>tBodyAccJerk-AngleWRTGravity-1</th>\n",
       "      <th>tBodyGyro-AngleWRTGravity-1</th>\n",
       "      <th>tBodyGyroJerk-AngleWRTGravity-1</th>\n",
       "      <th>tXAxisAcc-AngleWRTGravity-1</th>\n",
       "      <th>tYAxisAcc-AngleWRTGravity-1</th>\n",
       "      <th>tZAxisAcc-AngleWRTGravity-1</th>\n",
       "    </tr>\n",
       "  </thead>\n",
       "  <tbody>\n",
       "    <tr>\n",
       "      <th>5873</th>\n",
       "      <td>0.035418</td>\n",
       "      <td>-0.003496</td>\n",
       "      <td>-0.019197</td>\n",
       "      <td>-0.992451</td>\n",
       "      <td>-0.996592</td>\n",
       "      <td>-0.993081</td>\n",
       "      <td>-0.992709</td>\n",
       "      <td>-0.996058</td>\n",
       "      <td>-0.993313</td>\n",
       "      <td>-0.799618</td>\n",
       "      <td>...</td>\n",
       "      <td>0.384303</td>\n",
       "      <td>-0.447457</td>\n",
       "      <td>-0.791666</td>\n",
       "      <td>0.003780</td>\n",
       "      <td>0.010927</td>\n",
       "      <td>-0.522986</td>\n",
       "      <td>0.542506</td>\n",
       "      <td>0.701667</td>\n",
       "      <td>-0.502293</td>\n",
       "      <td>-0.486076</td>\n",
       "    </tr>\n",
       "    <tr>\n",
       "      <th>3535</th>\n",
       "      <td>0.033435</td>\n",
       "      <td>0.013202</td>\n",
       "      <td>-0.026554</td>\n",
       "      <td>-0.992647</td>\n",
       "      <td>-0.955888</td>\n",
       "      <td>-0.979973</td>\n",
       "      <td>-0.992478</td>\n",
       "      <td>-0.952421</td>\n",
       "      <td>-0.981111</td>\n",
       "      <td>-0.799591</td>\n",
       "      <td>...</td>\n",
       "      <td>0.250039</td>\n",
       "      <td>-0.123744</td>\n",
       "      <td>-0.421313</td>\n",
       "      <td>-0.083411</td>\n",
       "      <td>0.042263</td>\n",
       "      <td>-0.056860</td>\n",
       "      <td>-0.118834</td>\n",
       "      <td>0.406107</td>\n",
       "      <td>-0.329966</td>\n",
       "      <td>-0.648314</td>\n",
       "    </tr>\n",
       "    <tr>\n",
       "      <th>3534</th>\n",
       "      <td>0.036000</td>\n",
       "      <td>0.022551</td>\n",
       "      <td>-0.035468</td>\n",
       "      <td>-0.992514</td>\n",
       "      <td>-0.971674</td>\n",
       "      <td>-0.988887</td>\n",
       "      <td>-0.992230</td>\n",
       "      <td>-0.971522</td>\n",
       "      <td>-0.989609</td>\n",
       "      <td>-0.800324</td>\n",
       "      <td>...</td>\n",
       "      <td>0.357742</td>\n",
       "      <td>-0.558631</td>\n",
       "      <td>-0.793670</td>\n",
       "      <td>-0.011265</td>\n",
       "      <td>-0.332927</td>\n",
       "      <td>0.113540</td>\n",
       "      <td>-0.144261</td>\n",
       "      <td>0.403848</td>\n",
       "      <td>-0.317029</td>\n",
       "      <td>-0.660747</td>\n",
       "    </tr>\n",
       "    <tr>\n",
       "      <th>3533</th>\n",
       "      <td>0.039373</td>\n",
       "      <td>-0.002382</td>\n",
       "      <td>-0.023495</td>\n",
       "      <td>-0.996246</td>\n",
       "      <td>-0.967241</td>\n",
       "      <td>-0.981788</td>\n",
       "      <td>-0.996713</td>\n",
       "      <td>-0.966373</td>\n",
       "      <td>-0.984032</td>\n",
       "      <td>-0.800324</td>\n",
       "      <td>...</td>\n",
       "      <td>0.543957</td>\n",
       "      <td>-0.139069</td>\n",
       "      <td>-0.370258</td>\n",
       "      <td>0.533790</td>\n",
       "      <td>-0.051320</td>\n",
       "      <td>0.071092</td>\n",
       "      <td>0.112552</td>\n",
       "      <td>0.404054</td>\n",
       "      <td>-0.314696</td>\n",
       "      <td>-0.663149</td>\n",
       "    </tr>\n",
       "    <tr>\n",
       "      <th>3532</th>\n",
       "      <td>0.041752</td>\n",
       "      <td>-0.023003</td>\n",
       "      <td>-0.006169</td>\n",
       "      <td>-0.993298</td>\n",
       "      <td>-0.987312</td>\n",
       "      <td>-0.988642</td>\n",
       "      <td>-0.993585</td>\n",
       "      <td>-0.987625</td>\n",
       "      <td>-0.989264</td>\n",
       "      <td>-0.793177</td>\n",
       "      <td>...</td>\n",
       "      <td>0.341884</td>\n",
       "      <td>-0.325342</td>\n",
       "      <td>-0.635577</td>\n",
       "      <td>0.021184</td>\n",
       "      <td>0.023187</td>\n",
       "      <td>-0.323193</td>\n",
       "      <td>0.215663</td>\n",
       "      <td>0.405600</td>\n",
       "      <td>-0.324542</td>\n",
       "      <td>-0.653650</td>\n",
       "    </tr>\n",
       "  </tbody>\n",
       "</table>\n",
       "<p>5 rows × 561 columns</p>\n",
       "</div>"
      ],
      "text/plain": [
       "      tBodyAcc-Mean-1                  tBodyAcc-Mean-2                  \\\n",
       "5873                         0.035418                        -0.003496   \n",
       "3535                         0.033435                         0.013202   \n",
       "3534                         0.036000                         0.022551   \n",
       "3533                         0.039373                        -0.002382   \n",
       "3532                         0.041752                        -0.023003   \n",
       "\n",
       "      tBodyAcc-Mean-3                  tBodyAcc-STD-1                   \\\n",
       "5873                        -0.019197                        -0.992451   \n",
       "3535                        -0.026554                        -0.992647   \n",
       "3534                        -0.035468                        -0.992514   \n",
       "3533                        -0.023495                        -0.996246   \n",
       "3532                        -0.006169                        -0.993298   \n",
       "\n",
       "      tBodyAcc-STD-2                   tBodyAcc-STD-3                   \\\n",
       "5873                        -0.996592                        -0.993081   \n",
       "3535                        -0.955888                        -0.979973   \n",
       "3534                        -0.971674                        -0.988887   \n",
       "3533                        -0.967241                        -0.981788   \n",
       "3532                        -0.987312                        -0.988642   \n",
       "\n",
       "      tBodyAcc-Mad-1                   tBodyAcc-Mad-2                   \\\n",
       "5873                        -0.992709                        -0.996058   \n",
       "3535                        -0.992478                        -0.952421   \n",
       "3534                        -0.992230                        -0.971522   \n",
       "3533                        -0.996713                        -0.966373   \n",
       "3532                        -0.993585                        -0.987625   \n",
       "\n",
       "      tBodyAcc-Mad-3                   tBodyAcc-Max-1                   ...  \\\n",
       "5873                        -0.993313                        -0.799618  ...   \n",
       "3535                        -0.981111                        -0.799591  ...   \n",
       "3534                        -0.989609                        -0.800324  ...   \n",
       "3533                        -0.984032                        -0.800324  ...   \n",
       "3532                        -0.989264                        -0.793177  ...   \n",
       "\n",
       "      fBodyGyroJerkMag-MeanFreq-1      fBodyGyroJerkMag-Skewness-1      \\\n",
       "5873                         0.384303                        -0.447457   \n",
       "3535                         0.250039                        -0.123744   \n",
       "3534                         0.357742                        -0.558631   \n",
       "3533                         0.543957                        -0.139069   \n",
       "3532                         0.341884                        -0.325342   \n",
       "\n",
       "      fBodyGyroJerkMag-Kurtosis-1      tBodyAcc-AngleWRTGravity-1       \\\n",
       "5873                        -0.791666                         0.003780   \n",
       "3535                        -0.421313                        -0.083411   \n",
       "3534                        -0.793670                        -0.011265   \n",
       "3533                        -0.370258                         0.533790   \n",
       "3532                        -0.635577                         0.021184   \n",
       "\n",
       "      tBodyAccJerk-AngleWRTGravity-1   tBodyGyro-AngleWRTGravity-1      \\\n",
       "5873                         0.010927                        -0.522986   \n",
       "3535                         0.042263                        -0.056860   \n",
       "3534                        -0.332927                         0.113540   \n",
       "3533                        -0.051320                         0.071092   \n",
       "3532                         0.023187                        -0.323193   \n",
       "\n",
       "      tBodyGyroJerk-AngleWRTGravity-1  tXAxisAcc-AngleWRTGravity-1      \\\n",
       "5873                         0.542506                         0.701667   \n",
       "3535                        -0.118834                         0.406107   \n",
       "3534                        -0.144261                         0.403848   \n",
       "3533                         0.112552                         0.404054   \n",
       "3532                         0.215663                         0.405600   \n",
       "\n",
       "      tYAxisAcc-AngleWRTGravity-1      tZAxisAcc-AngleWRTGravity-1      \n",
       "5873                        -0.502293                        -0.486076  \n",
       "3535                        -0.329966                        -0.648314  \n",
       "3534                        -0.317029                        -0.660747  \n",
       "3533                        -0.314696                        -0.663149  \n",
       "3532                        -0.324542                        -0.653650  \n",
       "\n",
       "[5 rows x 561 columns]"
      ]
     },
     "execution_count": 5,
     "metadata": {},
     "output_type": "execute_result"
    }
   ],
   "source": [
    "fa_train.head()"
   ]
  },
  {
   "cell_type": "code",
   "execution_count": 6,
   "metadata": {},
   "outputs": [],
   "source": [
    "# Scale the data accordingly\n",
    "scaler = StandardScaler()\n",
    "\n",
    "scaled_fa = fa_train.copy()\n",
    "scaled_fa = pd.DataFrame(scaler.fit_transform(scaled_fa), columns = scaled_fa.columns)"
   ]
  },
  {
   "cell_type": "code",
   "execution_count": 7,
   "metadata": {},
   "outputs": [
    {
     "name": "stdout",
     "output_type": "stream",
     "text": [
      "<class 'pandas.core.frame.DataFrame'>\n",
      "RangeIndex: 7767 entries, 0 to 7766\n",
      "Columns: 561 entries, tBodyAcc-Mean-1                 to tZAxisAcc-AngleWRTGravity-1    \n",
      "dtypes: float64(561)\n",
      "memory usage: 33.2 MB\n"
     ]
    }
   ],
   "source": [
    "scaled_fa.info()"
   ]
  },
  {
   "cell_type": "code",
   "execution_count": 8,
   "metadata": {},
   "outputs": [
    {
     "data": {
      "text/html": [
       "<div>\n",
       "<style scoped>\n",
       "    .dataframe tbody tr th:only-of-type {\n",
       "        vertical-align: middle;\n",
       "    }\n",
       "\n",
       "    .dataframe tbody tr th {\n",
       "        vertical-align: top;\n",
       "    }\n",
       "\n",
       "    .dataframe thead th {\n",
       "        text-align: right;\n",
       "    }\n",
       "</style>\n",
       "<table border=\"1\" class=\"dataframe\">\n",
       "  <thead>\n",
       "    <tr style=\"text-align: right;\">\n",
       "      <th></th>\n",
       "      <th>tBodyAcc-Mean-1</th>\n",
       "      <th>tBodyAcc-Mean-2</th>\n",
       "      <th>tBodyAcc-Mean-3</th>\n",
       "      <th>tBodyAcc-STD-1</th>\n",
       "      <th>tBodyAcc-STD-2</th>\n",
       "      <th>tBodyAcc-STD-3</th>\n",
       "      <th>tBodyAcc-Mad-1</th>\n",
       "      <th>tBodyAcc-Mad-2</th>\n",
       "      <th>tBodyAcc-Mad-3</th>\n",
       "      <th>tBodyAcc-Max-1</th>\n",
       "      <th>...</th>\n",
       "      <th>fBodyGyroJerkMag-MeanFreq-1</th>\n",
       "      <th>fBodyGyroJerkMag-Skewness-1</th>\n",
       "      <th>fBodyGyroJerkMag-Kurtosis-1</th>\n",
       "      <th>tBodyAcc-AngleWRTGravity-1</th>\n",
       "      <th>tBodyAccJerk-AngleWRTGravity-1</th>\n",
       "      <th>tBodyGyro-AngleWRTGravity-1</th>\n",
       "      <th>tBodyGyroJerk-AngleWRTGravity-1</th>\n",
       "      <th>tXAxisAcc-AngleWRTGravity-1</th>\n",
       "      <th>tYAxisAcc-AngleWRTGravity-1</th>\n",
       "      <th>tZAxisAcc-AngleWRTGravity-1</th>\n",
       "    </tr>\n",
       "  </thead>\n",
       "  <tbody>\n",
       "    <tr>\n",
       "      <th>0</th>\n",
       "      <td>-0.032757</td>\n",
       "      <td>-0.028506</td>\n",
       "      <td>-0.011595</td>\n",
       "      <td>-0.891227</td>\n",
       "      <td>-0.985398</td>\n",
       "      <td>-0.938409</td>\n",
       "      <td>-0.882169</td>\n",
       "      <td>-0.971813</td>\n",
       "      <td>-0.928679</td>\n",
       "      <td>-0.880198</td>\n",
       "      <td>...</td>\n",
       "      <td>0.937856</td>\n",
       "      <td>-0.417068</td>\n",
       "      <td>-0.550414</td>\n",
       "      <td>-0.039220</td>\n",
       "      <td>-0.017009</td>\n",
       "      <td>-0.885317</td>\n",
       "      <td>1.147747</td>\n",
       "      <td>2.332084</td>\n",
       "      <td>-1.836828</td>\n",
       "      <td>-1.568513</td>\n",
       "    </tr>\n",
       "    <tr>\n",
       "      <th>1</th>\n",
       "      <td>-0.052199</td>\n",
       "      <td>0.138530</td>\n",
       "      <td>-0.093408</td>\n",
       "      <td>-0.891671</td>\n",
       "      <td>-0.874649</td>\n",
       "      <td>-0.897652</td>\n",
       "      <td>-0.881617</td>\n",
       "      <td>-0.846412</td>\n",
       "      <td>-0.883914</td>\n",
       "      <td>-0.880144</td>\n",
       "      <td>...</td>\n",
       "      <td>0.372070</td>\n",
       "      <td>0.614263</td>\n",
       "      <td>0.673647</td>\n",
       "      <td>-0.302396</td>\n",
       "      <td>0.053646</td>\n",
       "      <td>-0.109951</td>\n",
       "      <td>-0.238166</td>\n",
       "      <td>1.751695</td>\n",
       "      <td>-1.264019</td>\n",
       "      <td>-2.155951</td>\n",
       "    </tr>\n",
       "    <tr>\n",
       "      <th>2</th>\n",
       "      <td>-0.027051</td>\n",
       "      <td>0.232056</td>\n",
       "      <td>-0.192543</td>\n",
       "      <td>-0.891370</td>\n",
       "      <td>-0.917600</td>\n",
       "      <td>-0.925368</td>\n",
       "      <td>-0.881022</td>\n",
       "      <td>-0.901303</td>\n",
       "      <td>-0.915090</td>\n",
       "      <td>-0.881612</td>\n",
       "      <td>...</td>\n",
       "      <td>0.825930</td>\n",
       "      <td>-0.771261</td>\n",
       "      <td>-0.557035</td>\n",
       "      <td>-0.084631</td>\n",
       "      <td>-0.792310</td>\n",
       "      <td>0.173496</td>\n",
       "      <td>-0.291451</td>\n",
       "      <td>1.747260</td>\n",
       "      <td>-1.221019</td>\n",
       "      <td>-2.200972</td>\n",
       "    </tr>\n",
       "    <tr>\n",
       "      <th>3</th>\n",
       "      <td>0.006019</td>\n",
       "      <td>-0.017364</td>\n",
       "      <td>-0.059391</td>\n",
       "      <td>-0.899823</td>\n",
       "      <td>-0.905540</td>\n",
       "      <td>-0.903295</td>\n",
       "      <td>-0.891744</td>\n",
       "      <td>-0.886507</td>\n",
       "      <td>-0.894630</td>\n",
       "      <td>-0.881612</td>\n",
       "      <td>...</td>\n",
       "      <td>1.610641</td>\n",
       "      <td>0.565437</td>\n",
       "      <td>0.842390</td>\n",
       "      <td>1.560544</td>\n",
       "      <td>-0.157359</td>\n",
       "      <td>0.102888</td>\n",
       "      <td>0.246730</td>\n",
       "      <td>1.747665</td>\n",
       "      <td>-1.213264</td>\n",
       "      <td>-2.209667</td>\n",
       "    </tr>\n",
       "    <tr>\n",
       "      <th>4</th>\n",
       "      <td>0.029351</td>\n",
       "      <td>-0.223633</td>\n",
       "      <td>0.133289</td>\n",
       "      <td>-0.893146</td>\n",
       "      <td>-0.960148</td>\n",
       "      <td>-0.924606</td>\n",
       "      <td>-0.884264</td>\n",
       "      <td>-0.947580</td>\n",
       "      <td>-0.913823</td>\n",
       "      <td>-0.867297</td>\n",
       "      <td>...</td>\n",
       "      <td>0.759107</td>\n",
       "      <td>-0.028016</td>\n",
       "      <td>-0.034520</td>\n",
       "      <td>0.013310</td>\n",
       "      <td>0.010634</td>\n",
       "      <td>-0.552976</td>\n",
       "      <td>0.462810</td>\n",
       "      <td>1.750700</td>\n",
       "      <td>-1.245993</td>\n",
       "      <td>-2.175275</td>\n",
       "    </tr>\n",
       "  </tbody>\n",
       "</table>\n",
       "<p>5 rows × 561 columns</p>\n",
       "</div>"
      ],
      "text/plain": [
       "   tBodyAcc-Mean-1                  tBodyAcc-Mean-2                  \\\n",
       "0                        -0.032757                        -0.028506   \n",
       "1                        -0.052199                         0.138530   \n",
       "2                        -0.027051                         0.232056   \n",
       "3                         0.006019                        -0.017364   \n",
       "4                         0.029351                        -0.223633   \n",
       "\n",
       "   tBodyAcc-Mean-3                  tBodyAcc-STD-1                   \\\n",
       "0                        -0.011595                        -0.891227   \n",
       "1                        -0.093408                        -0.891671   \n",
       "2                        -0.192543                        -0.891370   \n",
       "3                        -0.059391                        -0.899823   \n",
       "4                         0.133289                        -0.893146   \n",
       "\n",
       "   tBodyAcc-STD-2                   tBodyAcc-STD-3                   \\\n",
       "0                        -0.985398                        -0.938409   \n",
       "1                        -0.874649                        -0.897652   \n",
       "2                        -0.917600                        -0.925368   \n",
       "3                        -0.905540                        -0.903295   \n",
       "4                        -0.960148                        -0.924606   \n",
       "\n",
       "   tBodyAcc-Mad-1                   tBodyAcc-Mad-2                   \\\n",
       "0                        -0.882169                        -0.971813   \n",
       "1                        -0.881617                        -0.846412   \n",
       "2                        -0.881022                        -0.901303   \n",
       "3                        -0.891744                        -0.886507   \n",
       "4                        -0.884264                        -0.947580   \n",
       "\n",
       "   tBodyAcc-Mad-3                   tBodyAcc-Max-1                   ...  \\\n",
       "0                        -0.928679                        -0.880198  ...   \n",
       "1                        -0.883914                        -0.880144  ...   \n",
       "2                        -0.915090                        -0.881612  ...   \n",
       "3                        -0.894630                        -0.881612  ...   \n",
       "4                        -0.913823                        -0.867297  ...   \n",
       "\n",
       "   fBodyGyroJerkMag-MeanFreq-1      fBodyGyroJerkMag-Skewness-1      \\\n",
       "0                         0.937856                        -0.417068   \n",
       "1                         0.372070                         0.614263   \n",
       "2                         0.825930                        -0.771261   \n",
       "3                         1.610641                         0.565437   \n",
       "4                         0.759107                        -0.028016   \n",
       "\n",
       "   fBodyGyroJerkMag-Kurtosis-1      tBodyAcc-AngleWRTGravity-1       \\\n",
       "0                        -0.550414                        -0.039220   \n",
       "1                         0.673647                        -0.302396   \n",
       "2                        -0.557035                        -0.084631   \n",
       "3                         0.842390                         1.560544   \n",
       "4                        -0.034520                         0.013310   \n",
       "\n",
       "   tBodyAccJerk-AngleWRTGravity-1   tBodyGyro-AngleWRTGravity-1      \\\n",
       "0                        -0.017009                        -0.885317   \n",
       "1                         0.053646                        -0.109951   \n",
       "2                        -0.792310                         0.173496   \n",
       "3                        -0.157359                         0.102888   \n",
       "4                         0.010634                        -0.552976   \n",
       "\n",
       "   tBodyGyroJerk-AngleWRTGravity-1  tXAxisAcc-AngleWRTGravity-1      \\\n",
       "0                         1.147747                         2.332084   \n",
       "1                        -0.238166                         1.751695   \n",
       "2                        -0.291451                         1.747260   \n",
       "3                         0.246730                         1.747665   \n",
       "4                         0.462810                         1.750700   \n",
       "\n",
       "   tYAxisAcc-AngleWRTGravity-1      tZAxisAcc-AngleWRTGravity-1      \n",
       "0                        -1.836828                        -1.568513  \n",
       "1                        -1.264019                        -2.155951  \n",
       "2                        -1.221019                        -2.200972  \n",
       "3                        -1.213264                        -2.209667  \n",
       "4                        -1.245993                        -2.175275  \n",
       "\n",
       "[5 rows x 561 columns]"
      ]
     },
     "execution_count": 8,
     "metadata": {},
     "output_type": "execute_result"
    }
   ],
   "source": [
    "scaled_fa.head()"
   ]
  },
  {
   "cell_type": "code",
   "execution_count": 9,
   "metadata": {},
   "outputs": [
    {
     "name": "stdout",
     "output_type": "stream",
     "text": [
      "inf nan\n"
     ]
    },
    {
     "name": "stderr",
     "output_type": "stream",
     "text": [
      "C:\\Users\\Yc\\anaconda3\\lib\\site-packages\\factor_analyzer\\factor_analyzer.py:118: RuntimeWarning: divide by zero encountered in log\n",
      "  statistic = -np.log(corr_det) * (n - 1 - (2 * p + 5) / 6)\n",
      "C:\\Users\\Yc\\anaconda3\\lib\\site-packages\\scipy\\stats\\_continuous_distns.py:1272: RuntimeWarning: invalid value encountered in subtract\n",
      "  return sc.xlogy(df/2.-1, x) - x/2. - sc.gammaln(df/2.) - (np.log(2)*df)/2.\n"
     ]
    }
   ],
   "source": [
    "# Check Adequacy using Bartlett, and the p-value should be 0\n",
    "chi_square_value,p_value=calculate_bartlett_sphericity(scaled_fa)\n",
    "print(chi_square_value, p_value) # = 0"
   ]
  },
  {
   "cell_type": "code",
   "execution_count": 10,
   "metadata": {},
   "outputs": [
    {
     "name": "stderr",
     "output_type": "stream",
     "text": [
      "C:\\Users\\Yc\\anaconda3\\lib\\site-packages\\factor_analyzer\\utils.py:248: UserWarning: The inverse of the variance-covariance matrix was calculated using the Moore-Penrose generalized matrix inversion, due to its determinant being at or very close to zero.\n",
      "  warnings.warn('The inverse of the variance-covariance matrix '\n"
     ]
    },
    {
     "name": "stdout",
     "output_type": "stream",
     "text": [
      "0.9773428026823247\n"
     ]
    }
   ],
   "source": [
    "#A KMO value under 0.6 means that the data is inappropirate for FA\n",
    "kmo_all,kmo_model=calculate_kmo(scaled_fa)\n",
    "print(kmo_model) # = 0.977 > 0.6"
   ]
  },
  {
   "cell_type": "markdown",
   "metadata": {},
   "source": [
    "First run a Factor analysis without any rotation, and setting N = 10, to determine the number of factors to be used in a solution."
   ]
  },
  {
   "cell_type": "code",
   "execution_count": 11,
   "metadata": {},
   "outputs": [
    {
     "data": {
      "text/plain": [
       "FactorAnalyzer(rotation=None, rotation_kwargs={})"
      ]
     },
     "execution_count": 11,
     "metadata": {},
     "output_type": "execute_result"
    }
   ],
   "source": [
    "# Initial Factor Analysis to determine nbumber of factors\n",
    "fa = FactorAnalyzer(10, rotation=None)\n",
    "fa.fit(scaled_fa)\n"
   ]
  },
  {
   "cell_type": "code",
   "execution_count": 12,
   "metadata": {},
   "outputs": [],
   "source": [
    "#Checks the eigen values of the intial analyzer\n",
    "ev, v = fa.get_eigenvalues()"
   ]
  },
  {
   "cell_type": "code",
   "execution_count": 13,
   "metadata": {},
   "outputs": [
    {
     "data": {
      "image/png": "[encoded data removed]",
      "text/plain": [
       "<Figure size 432x288 with 1 Axes>"
      ]
     },
     "metadata": {
      "needs_background": "light"
     },
     "output_type": "display_data"
    }
   ],
   "source": [
    "#Analysing and plotting the Scree plot\n",
    "plt.scatter(range(1,scaled_fa.shape[1]+1),ev)\n",
    "plt.plot(range(1,scaled_fa.shape[1]+1), ev)\n",
    "plt.title(\"Scree Plot\")\n",
    "plt.xlabel(\"Number of Factors\")\n",
    "plt.ylabel(\"Eigenvalue\")\n",
    "plt.grid()\n",
    "plt.show()"
   ]
  },
  {
   "cell_type": "code",
   "execution_count": 28,
   "metadata": {},
   "outputs": [
    {
     "data": {
      "image/png": "[encoded data removed]",
      "text/plain": [
       "<Figure size 432x288 with 1 Axes>"
      ]
     },
     "metadata": {
      "needs_background": "light"
     },
     "output_type": "display_data"
    }
   ],
   "source": [
    "#Zooming in on the Scree plot\n",
    "plt.scatter(range(1,scaled_fa.shape[1]+1),ev)\n",
    "plt.plot(range(1,scaled_fa.shape[1]+1), ev)\n",
    "plt.title(\"Scree Plot\")\n",
    "plt.xlabel(\"Number of Factors\")\n",
    "plt.ylabel(\"Eigenvalue\")\n",
    "plt.xlim(0, 20)\n",
    "plt.grid()\n",
    "plt.axhline(y = 11, color = 'r', linestyle = '--')\n",
    "plt.show()"
   ]
  },
  {
   "cell_type": "markdown",
   "metadata": {},
   "source": [
    "From the Scree plot above, we can see that the \"elbow\" of the graph is around ev = 11 and the number of factors is around 4-5. So factors to the left of the scree plot when y = 12 should be kept and seen as significant while those on the right are deemed as in significant."
   ]
  },
  {
   "cell_type": "code",
   "execution_count": 27,
   "metadata": {},
   "outputs": [],
   "source": [
    "#Filter out eigenvalues that are above 11\n",
    "ev_greater_than1 = ev.copy()\n",
    "ev_greater_than1 = ev_greater_than1[np.where(ev_greater_than1 > 11)]\n",
    "\n",
    "#Number of eigenvalue > 11\n",
    "no_ev_gt1 = len(ev_greater_than1) # = 4"
   ]
  },
  {
   "cell_type": "code",
   "execution_count": 29,
   "metadata": {},
   "outputs": [
    {
     "data": {
      "text/plain": [
       "FactorAnalyzer(n_factors=4, rotation='varimax', rotation_kwargs={})"
      ]
     },
     "execution_count": 29,
     "metadata": {},
     "output_type": "execute_result"
    }
   ],
   "source": [
    "# New FA with Varimax Rotation, using minres\n",
    "fa1 = FactorAnalyzer(4, rotation=\"varimax\", method='minres', use_smc=True)\n",
    "fa1.fit(scaled_fa)"
   ]
  },
  {
   "cell_type": "code",
   "execution_count": 31,
   "metadata": {},
   "outputs": [
    {
     "data": {
      "text/html": [
       "<div>\n",
       "<style scoped>\n",
       "    .dataframe tbody tr th:only-of-type {\n",
       "        vertical-align: middle;\n",
       "    }\n",
       "\n",
       "    .dataframe tbody tr th {\n",
       "        vertical-align: top;\n",
       "    }\n",
       "\n",
       "    .dataframe thead th {\n",
       "        text-align: right;\n",
       "    }\n",
       "</style>\n",
       "<table border=\"1\" class=\"dataframe\">\n",
       "  <thead>\n",
       "    <tr style=\"text-align: right;\">\n",
       "      <th></th>\n",
       "      <th>Factor 1</th>\n",
       "      <th>Factor 2</th>\n",
       "      <th>Factor 3</th>\n",
       "      <th>Factor 4</th>\n",
       "    </tr>\n",
       "  </thead>\n",
       "  <tbody>\n",
       "    <tr>\n",
       "      <th>tBodyAccJerk-STD-1</th>\n",
       "      <td>0.955349</td>\n",
       "      <td>0.029652</td>\n",
       "      <td>0.083073</td>\n",
       "      <td>0.217267</td>\n",
       "    </tr>\n",
       "    <tr>\n",
       "      <th>tBodyAccJerk-Mad-1</th>\n",
       "      <td>0.955236</td>\n",
       "      <td>0.026521</td>\n",
       "      <td>0.080242</td>\n",
       "      <td>0.216464</td>\n",
       "    </tr>\n",
       "    <tr>\n",
       "      <th>fBodyAccJerk-Mean-1</th>\n",
       "      <td>0.955213</td>\n",
       "      <td>0.032790</td>\n",
       "      <td>0.088492</td>\n",
       "      <td>0.207901</td>\n",
       "    </tr>\n",
       "    <tr>\n",
       "      <th>tBodyAccJerkMag-Mean-1</th>\n",
       "      <td>0.953485</td>\n",
       "      <td>0.042498</td>\n",
       "      <td>0.144872</td>\n",
       "      <td>0.232404</td>\n",
       "    </tr>\n",
       "    <tr>\n",
       "      <th>tBodyAccJerkMag-SMA-1</th>\n",
       "      <td>0.953485</td>\n",
       "      <td>0.042498</td>\n",
       "      <td>0.144872</td>\n",
       "      <td>0.232404</td>\n",
       "    </tr>\n",
       "    <tr>\n",
       "      <th>...</th>\n",
       "      <td>...</td>\n",
       "      <td>...</td>\n",
       "      <td>...</td>\n",
       "      <td>...</td>\n",
       "    </tr>\n",
       "    <tr>\n",
       "      <th>tBodyAcc-Min-2</th>\n",
       "      <td>-0.880259</td>\n",
       "      <td>-0.230537</td>\n",
       "      <td>-0.079229</td>\n",
       "      <td>-0.182246</td>\n",
       "    </tr>\n",
       "    <tr>\n",
       "      <th>tBodyGyroJerk-Min-1</th>\n",
       "      <td>-0.885121</td>\n",
       "      <td>-0.042316</td>\n",
       "      <td>-0.090337</td>\n",
       "      <td>-0.207431</td>\n",
       "    </tr>\n",
       "    <tr>\n",
       "      <th>tBodyAcc-Min-1</th>\n",
       "      <td>-0.896222</td>\n",
       "      <td>-0.227784</td>\n",
       "      <td>-0.073784</td>\n",
       "      <td>-0.151554</td>\n",
       "    </tr>\n",
       "    <tr>\n",
       "      <th>tBodyAccJerk-Min-1</th>\n",
       "      <td>-0.901442</td>\n",
       "      <td>-0.058534</td>\n",
       "      <td>-0.091220</td>\n",
       "      <td>-0.259017</td>\n",
       "    </tr>\n",
       "    <tr>\n",
       "      <th>tBodyAccJerk-Min-2</th>\n",
       "      <td>-0.905036</td>\n",
       "      <td>-0.062843</td>\n",
       "      <td>-0.060031</td>\n",
       "      <td>-0.244092</td>\n",
       "    </tr>\n",
       "  </tbody>\n",
       "</table>\n",
       "<p>561 rows × 4 columns</p>\n",
       "</div>"
      ],
      "text/plain": [
       "                                 Factor 1  Factor 2  Factor 3  Factor 4\n",
       "tBodyAccJerk-STD-1               0.955349  0.029652  0.083073  0.217267\n",
       "tBodyAccJerk-Mad-1               0.955236  0.026521  0.080242  0.216464\n",
       "fBodyAccJerk-Mean-1              0.955213  0.032790  0.088492  0.207901\n",
       "tBodyAccJerkMag-Mean-1           0.953485  0.042498  0.144872  0.232404\n",
       "tBodyAccJerkMag-SMA-1            0.953485  0.042498  0.144872  0.232404\n",
       "...                                   ...       ...       ...       ...\n",
       "tBodyAcc-Min-2                  -0.880259 -0.230537 -0.079229 -0.182246\n",
       "tBodyGyroJerk-Min-1             -0.885121 -0.042316 -0.090337 -0.207431\n",
       "tBodyAcc-Min-1                  -0.896222 -0.227784 -0.073784 -0.151554\n",
       "tBodyAccJerk-Min-1              -0.901442 -0.058534 -0.091220 -0.259017\n",
       "tBodyAccJerk-Min-2              -0.905036 -0.062843 -0.060031 -0.244092\n",
       "\n",
       "[561 rows x 4 columns]"
      ]
     },
     "execution_count": 31,
     "metadata": {},
     "output_type": "execute_result"
    }
   ],
   "source": [
    "#Showing the Weights of each variable as a factor to see which features can be considered, sorted in descending order\n",
    "pd.DataFrame(fa1.loadings_, columns = ['Factor 1', 'Factor 2', 'Factor 3', 'Factor 4'], index = [fa_train.columns]).sort_values(by = ['Factor 1', 'Factor 2', 'Factor 3', 'Factor 4'], ascending = False)"
   ]
  },
  {
   "cell_type": "code",
   "execution_count": 39,
   "metadata": {},
   "outputs": [
    {
     "data": {
      "text/html": [
       "<div>\n",
       "<style scoped>\n",
       "    .dataframe tbody tr th:only-of-type {\n",
       "        vertical-align: middle;\n",
       "    }\n",
       "\n",
       "    .dataframe tbody tr th {\n",
       "        vertical-align: top;\n",
       "    }\n",
       "\n",
       "    .dataframe thead th {\n",
       "        text-align: right;\n",
       "    }\n",
       "</style>\n",
       "<table border=\"1\" class=\"dataframe\">\n",
       "  <thead>\n",
       "    <tr style=\"text-align: right;\">\n",
       "      <th></th>\n",
       "      <th>Factor 1</th>\n",
       "      <th>Factor 2</th>\n",
       "      <th>Factor 3</th>\n",
       "      <th>Factor 4</th>\n",
       "    </tr>\n",
       "  </thead>\n",
       "  <tbody>\n",
       "    <tr>\n",
       "      <th>tGravityAcc-ARCoeff-10</th>\n",
       "      <td>-0.215451</td>\n",
       "      <td>0.713598</td>\n",
       "      <td>-0.049375</td>\n",
       "      <td>0.095885</td>\n",
       "    </tr>\n",
       "    <tr>\n",
       "      <th>tBodyAccMag-ARCoeff-2</th>\n",
       "      <td>0.311729</td>\n",
       "      <td>0.699596</td>\n",
       "      <td>-0.083210</td>\n",
       "      <td>0.157639</td>\n",
       "    </tr>\n",
       "    <tr>\n",
       "      <th>tGravityAccMag-ARCoeff-2</th>\n",
       "      <td>0.311729</td>\n",
       "      <td>0.699596</td>\n",
       "      <td>-0.083210</td>\n",
       "      <td>0.157639</td>\n",
       "    </tr>\n",
       "    <tr>\n",
       "      <th>tGravityAcc-ARCoeff-12</th>\n",
       "      <td>-0.108358</td>\n",
       "      <td>0.699427</td>\n",
       "      <td>-0.006932</td>\n",
       "      <td>0.136217</td>\n",
       "    </tr>\n",
       "    <tr>\n",
       "      <th>tGravityAcc-ARCoeff-6</th>\n",
       "      <td>-0.246969</td>\n",
       "      <td>0.651552</td>\n",
       "      <td>0.004359</td>\n",
       "      <td>0.007547</td>\n",
       "    </tr>\n",
       "    <tr>\n",
       "      <th>...</th>\n",
       "      <td>...</td>\n",
       "      <td>...</td>\n",
       "      <td>...</td>\n",
       "      <td>...</td>\n",
       "    </tr>\n",
       "    <tr>\n",
       "      <th>tGravityAcc-ARCoeff-11</th>\n",
       "      <td>0.163534</td>\n",
       "      <td>-0.710466</td>\n",
       "      <td>0.028762</td>\n",
       "      <td>-0.116578</td>\n",
       "    </tr>\n",
       "    <tr>\n",
       "      <th>tBodyAccMag-ARCoeff-1</th>\n",
       "      <td>-0.295502</td>\n",
       "      <td>-0.736635</td>\n",
       "      <td>0.113920</td>\n",
       "      <td>-0.179186</td>\n",
       "    </tr>\n",
       "    <tr>\n",
       "      <th>tGravityAccMag-ARCoeff-1</th>\n",
       "      <td>-0.295502</td>\n",
       "      <td>-0.736635</td>\n",
       "      <td>0.113920</td>\n",
       "      <td>-0.179186</td>\n",
       "    </tr>\n",
       "    <tr>\n",
       "      <th>fBodyAcc-MeanFreq-3</th>\n",
       "      <td>0.008985</td>\n",
       "      <td>-0.736815</td>\n",
       "      <td>0.050621</td>\n",
       "      <td>-0.275014</td>\n",
       "    </tr>\n",
       "    <tr>\n",
       "      <th>fBodyAccMag-MeanFreq-1</th>\n",
       "      <td>0.048701</td>\n",
       "      <td>-0.756346</td>\n",
       "      <td>0.053028</td>\n",
       "      <td>-0.023635</td>\n",
       "    </tr>\n",
       "  </tbody>\n",
       "</table>\n",
       "<p>561 rows × 4 columns</p>\n",
       "</div>"
      ],
      "text/plain": [
       "                                 Factor 1  Factor 2  Factor 3  Factor 4\n",
       "tGravityAcc-ARCoeff-10          -0.215451  0.713598 -0.049375  0.095885\n",
       "tBodyAccMag-ARCoeff-2            0.311729  0.699596 -0.083210  0.157639\n",
       "tGravityAccMag-ARCoeff-2         0.311729  0.699596 -0.083210  0.157639\n",
       "tGravityAcc-ARCoeff-12          -0.108358  0.699427 -0.006932  0.136217\n",
       "tGravityAcc-ARCoeff-6           -0.246969  0.651552  0.004359  0.007547\n",
       "...                                   ...       ...       ...       ...\n",
       "tGravityAcc-ARCoeff-11           0.163534 -0.710466  0.028762 -0.116578\n",
       "tBodyAccMag-ARCoeff-1           -0.295502 -0.736635  0.113920 -0.179186\n",
       "tGravityAccMag-ARCoeff-1        -0.295502 -0.736635  0.113920 -0.179186\n",
       "fBodyAcc-MeanFreq-3              0.008985 -0.736815  0.050621 -0.275014\n",
       "fBodyAccMag-MeanFreq-1           0.048701 -0.756346  0.053028 -0.023635\n",
       "\n",
       "[561 rows x 4 columns]"
      ]
     },
     "execution_count": 39,
     "metadata": {},
     "output_type": "execute_result"
    }
   ],
   "source": [
    "pd.DataFrame(fa1.loadings_, columns = ['Factor 1', 'Factor 2', 'Factor 3', 'Factor 4'], index = [fa_train.columns]).sort_values(by = ['Factor 2'], ascending = False)"
   ]
  },
  {
   "cell_type": "markdown",
   "metadata": {},
   "source": [
    "From the loadings, \n",
    "\n",
    "Factor 1: tBodyAccJerk-STD-1, tBodyAccJerk-Mad-1, fBodyAccJerk-Mean-1, tBodyAccJerkMag-Mean-1, tBodyAccJerkMag-SMA-1\n",
    "\n",
    "Factor 2: tGravityAcc-ARCoeff-10\n",
    "\n",
    "Factor 3: tBodyGyroJerk-Energy-2\n",
    "\n",
    "Factor 4: tGravityAcc-Min-1\n",
    "\n",
    "As Factor 1 has several factors which similar loadings."
   ]
  },
  {
   "cell_type": "code",
   "execution_count": 42,
   "metadata": {},
   "outputs": [
    {
     "data": {
      "text/html": [
       "<div>\n",
       "<style scoped>\n",
       "    .dataframe tbody tr th:only-of-type {\n",
       "        vertical-align: middle;\n",
       "    }\n",
       "\n",
       "    .dataframe tbody tr th {\n",
       "        vertical-align: top;\n",
       "    }\n",
       "\n",
       "    .dataframe thead th {\n",
       "        text-align: right;\n",
       "    }\n",
       "</style>\n",
       "<table border=\"1\" class=\"dataframe\">\n",
       "  <thead>\n",
       "    <tr style=\"text-align: right;\">\n",
       "      <th></th>\n",
       "      <th>Communalities</th>\n",
       "    </tr>\n",
       "  </thead>\n",
       "  <tbody>\n",
       "    <tr>\n",
       "      <th>fBodyAccJerk-SMA-1</th>\n",
       "      <td>0.986456</td>\n",
       "    </tr>\n",
       "    <tr>\n",
       "      <th>tBodyAccJerkMag-Mean-1</th>\n",
       "      <td>0.985940</td>\n",
       "    </tr>\n",
       "    <tr>\n",
       "      <th>tBodyAccJerkMag-SMA-1</th>\n",
       "      <td>0.985940</td>\n",
       "    </tr>\n",
       "    <tr>\n",
       "      <th>tBodyAccJerk-SMA-1</th>\n",
       "      <td>0.985750</td>\n",
       "    </tr>\n",
       "    <tr>\n",
       "      <th>fBodyAcc-SMA-1</th>\n",
       "      <td>0.983543</td>\n",
       "    </tr>\n",
       "    <tr>\n",
       "      <th>...</th>\n",
       "      <td>...</td>\n",
       "    </tr>\n",
       "    <tr>\n",
       "      <th>tBodyAccJerk-Mean-3</th>\n",
       "      <td>0.003149</td>\n",
       "    </tr>\n",
       "    <tr>\n",
       "      <th>tBodyGyroJerk-AngleWRTGravity-1</th>\n",
       "      <td>0.003089</td>\n",
       "    </tr>\n",
       "    <tr>\n",
       "      <th>tBodyGyroJerk-Mean-2</th>\n",
       "      <td>0.001114</td>\n",
       "    </tr>\n",
       "    <tr>\n",
       "      <th>tBodyAccJerk-Mean-1</th>\n",
       "      <td>0.001005</td>\n",
       "    </tr>\n",
       "    <tr>\n",
       "      <th>tBodyGyroJerk-Mean-3</th>\n",
       "      <td>0.000331</td>\n",
       "    </tr>\n",
       "  </tbody>\n",
       "</table>\n",
       "<p>561 rows × 1 columns</p>\n",
       "</div>"
      ],
      "text/plain": [
       "                                 Communalities\n",
       "fBodyAccJerk-SMA-1                    0.986456\n",
       "tBodyAccJerkMag-Mean-1                0.985940\n",
       "tBodyAccJerkMag-SMA-1                 0.985940\n",
       "tBodyAccJerk-SMA-1                    0.985750\n",
       "fBodyAcc-SMA-1                        0.983543\n",
       "...                                        ...\n",
       "tBodyAccJerk-Mean-3                   0.003149\n",
       "tBodyGyroJerk-AngleWRTGravity-1       0.003089\n",
       "tBodyGyroJerk-Mean-2                  0.001114\n",
       "tBodyAccJerk-Mean-1                   0.001005\n",
       "tBodyGyroJerk-Mean-3                  0.000331\n",
       "\n",
       "[561 rows x 1 columns]"
      ]
     },
     "execution_count": 42,
     "metadata": {},
     "output_type": "execute_result"
    }
   ],
   "source": [
    "#Communality of Loading, where values closer to 1 means that that factor explain more of the variance\n",
    "pd.DataFrame(fa1.get_communalities(), columns = [\"Communalities\"], index = [fa_train.columns]).sort_values(by = \"Communalities\", ascending = False)"
   ]
  },
  {
   "cell_type": "code",
   "execution_count": 45,
   "metadata": {},
   "outputs": [
    {
     "data": {
      "text/html": [
       "<div>\n",
       "<style scoped>\n",
       "    .dataframe tbody tr th:only-of-type {\n",
       "        vertical-align: middle;\n",
       "    }\n",
       "\n",
       "    .dataframe tbody tr th {\n",
       "        vertical-align: top;\n",
       "    }\n",
       "\n",
       "    .dataframe thead th {\n",
       "        text-align: right;\n",
       "    }\n",
       "</style>\n",
       "<table border=\"1\" class=\"dataframe\">\n",
       "  <thead>\n",
       "    <tr style=\"text-align: right;\">\n",
       "      <th></th>\n",
       "      <th>Factor 1</th>\n",
       "      <th>Factor 2</th>\n",
       "      <th>Factor 3</th>\n",
       "      <th>Factor 4</th>\n",
       "    </tr>\n",
       "  </thead>\n",
       "  <tbody>\n",
       "    <tr>\n",
       "      <th>Sum Square Loading</th>\n",
       "      <td>237.556777</td>\n",
       "      <td>52.591384</td>\n",
       "      <td>30.002466</td>\n",
       "      <td>26.131129</td>\n",
       "    </tr>\n",
       "    <tr>\n",
       "      <th>Proportional Variance</th>\n",
       "      <td>0.423452</td>\n",
       "      <td>0.093746</td>\n",
       "      <td>0.053480</td>\n",
       "      <td>0.046580</td>\n",
       "    </tr>\n",
       "    <tr>\n",
       "      <th>Cumulative Variance</th>\n",
       "      <td>0.423452</td>\n",
       "      <td>0.517198</td>\n",
       "      <td>0.570678</td>\n",
       "      <td>0.617258</td>\n",
       "    </tr>\n",
       "  </tbody>\n",
       "</table>\n",
       "</div>"
      ],
      "text/plain": [
       "                         Factor 1   Factor 2   Factor 3   Factor 4\n",
       "Sum Square Loading     237.556777  52.591384  30.002466  26.131129\n",
       "Proportional Variance    0.423452   0.093746   0.053480   0.046580\n",
       "Cumulative Variance      0.423452   0.517198   0.570678   0.617258"
      ]
     },
     "execution_count": 45,
     "metadata": {},
     "output_type": "execute_result"
    }
   ],
   "source": [
    "# Showing the Sum of Squared Loading (Variance), Proportional Variance, and Cumulative Variance caused by the 4 factors.\n",
    "pd.DataFrame(fa1.get_factor_variance(), columns = [\"Factor 1\", \"Factor 2\", \"Factor 3\", \"Factor 4\"], index = [\"Sum Square Loading\", \"Proportional Variance\", \"Cumulative Variance\"])"
   ]
  },
  {
   "cell_type": "markdown",
   "metadata": {},
   "source": [
    "From the table above, it can be seen that using the four factors,  can explain around 62% of the variance, which is considered valid but maybe still small (Recommended is > 60% and this is very close to it).\n",
    "\n",
    "However Factor 1 have several with similar loading, so we may need to consider other methods to reduce the dimensionality of the data!"
   ]
  }
 ],
 "metadata": {
  "interpreter": {
   "hash": "52d0e4b0fefd94b2cb6980e387e638c0c22f7eeec79f53bd58ff8a79f97fe231"
  },
  "kernelspec": {
   "display_name": "Python 3",
   "language": "python",
   "name": "python3"
  },
  "language_info": {
   "codemirror_mode": {
    "name": "ipython",
    "version": 3
   },
   "file_extension": ".py",
   "mimetype": "text/x-python",
   "name": "python",
   "nbconvert_exporter": "python",
   "pygments_lexer": "ipython3",
   "version": "3.8.8"
  }
 },
 "nbformat": 4,
 "nbformat_minor": 4
}

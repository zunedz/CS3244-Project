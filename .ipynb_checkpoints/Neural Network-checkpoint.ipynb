{
 "cells": [
  {
   "cell_type": "code",
   "execution_count": 1,
   "metadata": {},
   "outputs": [],
   "source": [
    "import pandas as pd\n",
    "import seaborn as sns\n",
    "import numpy as np\n",
    "import matplotlib.pyplot as plt\n",
    "from factor_analyzer import FactorAnalyzer\n",
    "from sklearn.decomposition import FactorAnalysis\n",
    "from sklearn.preprocessing import StandardScaler\n",
    "from mpl_toolkits.mplot3d import Axes3D\n",
    "from sklearn.pipeline import Pipeline"
   ]
  },
  {
   "cell_type": "code",
   "execution_count": 2,
   "metadata": {},
   "outputs": [
    {
     "name": "stdout",
     "output_type": "stream",
     "text": [
      "shape of train:  (7767, 563) shape of test:  (3162, 563)\n"
     ]
    }
   ],
   "source": [
    "train = pd.read_csv(\"./input/Train/train.csv\")\n",
    "test = pd.read_csv(\"./input/Test/test.csv\")\n",
    "\n",
    "print(\"shape of train: \", train.shape, \"shape of test: \", test.shape)"
   ]
  },
  {
   "cell_type": "code",
   "execution_count": 3,
   "metadata": {},
   "outputs": [],
   "source": [
    "from sklearn.model_selection import train_test_split\n",
    "from sklearn.preprocessing import StandardScaler"
   ]
  },
  {
   "cell_type": "code",
   "execution_count": 231,
   "metadata": {},
   "outputs": [
    {
     "name": "stdout",
     "output_type": "stream",
     "text": [
      "(5825, 561)\n",
      "(3162, 561)\n"
     ]
    }
   ],
   "source": [
    "# First, we need to standardize the data to get better performance\n",
    "features = train.columns.values.tolist()\n",
    "features.remove('Activity')\n",
    "features.remove('subject')\n",
    "\n",
    "# Separating out the features\n",
    "x = train.loc[:, features].values\n",
    "test_features = test.loc[:, features].values\n",
    "\n",
    "# Separating out the target\n",
    "y = train.loc[:,['Activity']].values\n",
    "test_labels = test.loc[:,['Activity']].values\n",
    "\n",
    "train_features, validation_features, train_labels, validation_labels = train_test_split(x, y, test_size=0.25, random_state=1300)\n",
    "\n",
    "train_labels = pd.DataFrame(train_labels, columns=['Activity'])\n",
    "validation_labels = pd.DataFrame(validation_labels, columns=['Activity'])\n",
    "print(train_features.shape)\n",
    "print(test_features.shape)"
   ]
  },
  {
   "cell_type": "code",
   "execution_count": 6,
   "metadata": {},
   "outputs": [],
   "source": [
    "from sklearn.neural_network import MLPClassifier"
   ]
  },
  {
   "cell_type": "code",
   "execution_count": 195,
   "metadata": {},
   "outputs": [],
   "source": [
    "mlp = MLPClassifier(hidden_layer_sizes=(10, 10), max_iter=1000, solver='adam', activation='relu', verbose=False)"
   ]
  },
  {
   "cell_type": "code",
   "execution_count": 196,
   "metadata": {},
   "outputs": [
    {
     "data": {
      "text/plain": [
       "MLPClassifier(hidden_layer_sizes=(10, 10), max_iter=1000)"
      ]
     },
     "execution_count": 196,
     "metadata": {},
     "output_type": "execute_result"
    }
   ],
   "source": [
    "mlp.fit(train_features, np.ravel(train_labels))"
   ]
  },
  {
   "cell_type": "code",
   "execution_count": 197,
   "metadata": {},
   "outputs": [
    {
     "data": {
      "text/plain": [
       "array(['WALKING', 'WALKING_DOWNSTAIRS', 'LAYING', ..., 'WALKING',\n",
       "       'STANDING', 'WALKING_DOWNSTAIRS'], dtype='<U18')"
      ]
     },
     "execution_count": 197,
     "metadata": {},
     "output_type": "execute_result"
    }
   ],
   "source": [
    "pred_train = mlp.predict(train_features)\n",
    "pred_train"
   ]
  },
  {
   "cell_type": "code",
   "execution_count": 198,
   "metadata": {},
   "outputs": [],
   "source": [
    "from sklearn.metrics import classification_report, confusion_matrix"
   ]
  },
  {
   "cell_type": "code",
   "execution_count": 199,
   "metadata": {},
   "outputs": [
    {
     "data": {
      "text/plain": [
       "array([[1049,    0,    0,    0,    0,    0,    0,    0,    0,    0,    0,\n",
       "           0],\n",
       "       [   0,   36,    8,    0,    0,    0,    0,    0,    0,    0,    0,\n",
       "           0],\n",
       "       [   1,   13,   25,    0,    0,    0,    0,    0,    0,    0,    0,\n",
       "           0],\n",
       "       [   0,    0,    0,  926,    0,    1,   30,    0,    0,    0,    0,\n",
       "           0],\n",
       "       [   0,    0,    0,    0,   43,    0,    0,   12,    0,    0,    0,\n",
       "           0],\n",
       "       [   0,    0,    0,    1,    0,   14,    0,    0,    1,    0,    0,\n",
       "           0],\n",
       "       [   0,    0,    0,    7,    0,    0, 1059,    0,    0,    0,    0,\n",
       "           0],\n",
       "       [   0,    0,    2,    0,    3,    0,    0,   64,    1,    0,    0,\n",
       "           0],\n",
       "       [   0,    0,    0,    0,    0,    0,    0,    1,   38,    0,    0,\n",
       "           0],\n",
       "       [   0,    0,    0,    0,    0,    0,    0,    0,    0,  928,    0,\n",
       "           0],\n",
       "       [   0,    0,    0,    0,    0,    0,    0,    0,    0,    0,  757,\n",
       "           0],\n",
       "       [   0,    0,    0,    0,    0,    0,    0,    0,    0,    0,    0,\n",
       "         805]], dtype=int64)"
      ]
     },
     "execution_count": 199,
     "metadata": {},
     "output_type": "execute_result"
    }
   ],
   "source": [
    "confusion_matrix(train_labels, pred_train)"
   ]
  },
  {
   "cell_type": "code",
   "execution_count": 200,
   "metadata": {},
   "outputs": [
    {
     "name": "stdout",
     "output_type": "stream",
     "text": [
      "                    precision    recall  f1-score   support\n",
      "\n",
      "            LAYING       1.00      1.00      1.00      1049\n",
      "        LIE_TO_SIT       0.73      0.82      0.77        44\n",
      "      LIE_TO_STAND       0.71      0.64      0.68        39\n",
      "           SITTING       0.99      0.97      0.98       957\n",
      "        SIT_TO_LIE       0.93      0.78      0.85        55\n",
      "      SIT_TO_STAND       0.93      0.88      0.90        16\n",
      "          STANDING       0.97      0.99      0.98      1066\n",
      "      STAND_TO_LIE       0.83      0.91      0.87        70\n",
      "      STAND_TO_SIT       0.95      0.97      0.96        39\n",
      "           WALKING       1.00      1.00      1.00       928\n",
      "WALKING_DOWNSTAIRS       1.00      1.00      1.00       757\n",
      "  WALKING_UPSTAIRS       1.00      1.00      1.00       805\n",
      "\n",
      "          accuracy                           0.99      5825\n",
      "         macro avg       0.92      0.91      0.92      5825\n",
      "      weighted avg       0.99      0.99      0.99      5825\n",
      "\n"
     ]
    }
   ],
   "source": [
    "print(classification_report(train_labels, pred_train, zero_division=0))"
   ]
  },
  {
   "cell_type": "code",
   "execution_count": 201,
   "metadata": {},
   "outputs": [
    {
     "data": {
      "text/plain": [
       "array(['STANDING', 'WALKING_UPSTAIRS', 'SITTING', ...,\n",
       "       'WALKING_DOWNSTAIRS', 'LAYING', 'LAYING'], dtype='<U18')"
      ]
     },
     "execution_count": 201,
     "metadata": {},
     "output_type": "execute_result"
    }
   ],
   "source": [
    "pred = mlp.predict(validation_features)\n",
    "pred"
   ]
  },
  {
   "cell_type": "code",
   "execution_count": 202,
   "metadata": {},
   "outputs": [
    {
     "data": {
      "text/plain": [
       "array([[360,   0,   2,   1,   1,   0,   0,   0,   0,   0,   0,   0],\n",
       "       [  0,  14,   1,   0,   0,   0,   0,   1,   0,   0,   0,   0],\n",
       "       [  0,   8,   8,   1,   0,   0,   0,   1,   0,   0,   0,   0],\n",
       "       [  0,   0,   0, 311,   0,   0,  25,   0,   0,   0,   0,   0],\n",
       "       [  0,   0,   0,   0,  10,   1,   1,   7,   1,   0,   0,   0],\n",
       "       [  0,   0,   0,   1,   0,   5,   0,   0,   1,   0,   0,   0],\n",
       "       [  0,   0,   0,   5,   0,   0, 352,   0,   0,   0,   0,   0],\n",
       "       [  0,   0,   0,   0,   6,   0,   0,  13,   1,   0,   0,   0],\n",
       "       [  0,   0,   0,   0,   0,   0,   0,   0,   8,   0,   0,   0],\n",
       "       [  0,   0,   0,   0,   0,   0,   0,   0,   0, 297,   1,   0],\n",
       "       [  0,   0,   0,   0,   0,   0,   0,   0,   0,   1, 229,   0],\n",
       "       [  0,   0,   0,   0,   0,   0,   0,   0,   0,   0,   2, 266]],\n",
       "      dtype=int64)"
      ]
     },
     "execution_count": 202,
     "metadata": {},
     "output_type": "execute_result"
    }
   ],
   "source": [
    "confusion_matrix(validation_labels, pred)"
   ]
  },
  {
   "cell_type": "code",
   "execution_count": 203,
   "metadata": {},
   "outputs": [
    {
     "name": "stdout",
     "output_type": "stream",
     "text": [
      "                    precision    recall  f1-score   support\n",
      "\n",
      "            LAYING       1.00      0.99      0.99       364\n",
      "        LIE_TO_SIT       0.64      0.88      0.74        16\n",
      "      LIE_TO_STAND       0.73      0.44      0.55        18\n",
      "           SITTING       0.97      0.93      0.95       336\n",
      "        SIT_TO_LIE       0.59      0.50      0.54        20\n",
      "      SIT_TO_STAND       0.83      0.71      0.77         7\n",
      "          STANDING       0.93      0.99      0.96       357\n",
      "      STAND_TO_LIE       0.59      0.65      0.62        20\n",
      "      STAND_TO_SIT       0.73      1.00      0.84         8\n",
      "           WALKING       1.00      1.00      1.00       298\n",
      "WALKING_DOWNSTAIRS       0.99      1.00      0.99       230\n",
      "  WALKING_UPSTAIRS       1.00      0.99      1.00       268\n",
      "\n",
      "          accuracy                           0.96      1942\n",
      "         macro avg       0.83      0.84      0.83      1942\n",
      "      weighted avg       0.97      0.96      0.96      1942\n",
      "\n"
     ]
    }
   ],
   "source": [
    "print(classification_report(validation_labels, pred, zero_division=0))"
   ]
  },
  {
   "cell_type": "code",
   "execution_count": 204,
   "metadata": {},
   "outputs": [
    {
     "name": "stdout",
     "output_type": "stream",
     "text": [
      "(3162, 561)\n"
     ]
    }
   ],
   "source": [
    "# First, we need to standardize the data to get better performance\n",
    "test_features = test.columns.values.tolist()\n",
    "test_features.remove('Activity')\n",
    "test_features.remove('subject')\n",
    "\n",
    "# Separating out the features\n",
    "x_test = test.loc[:, test_features].values\n",
    "\n",
    "# Separating out the target\n",
    "y_test = test.loc[:,['Activity']].values\n",
    "\n",
    "print(x_test.shape)"
   ]
  },
  {
   "cell_type": "code",
   "execution_count": 205,
   "metadata": {},
   "outputs": [
    {
     "data": {
      "text/plain": [
       "array(['STANDING', 'STANDING', 'STANDING', ..., 'WALKING_UPSTAIRS',\n",
       "       'WALKING_UPSTAIRS', 'WALKING_UPSTAIRS'], dtype='<U18')"
      ]
     },
     "execution_count": 205,
     "metadata": {},
     "output_type": "execute_result"
    }
   ],
   "source": [
    "result = mlp.predict(x_test)\n",
    "result"
   ]
  },
  {
   "cell_type": "code",
   "execution_count": 206,
   "metadata": {},
   "outputs": [
    {
     "data": {
      "text/plain": [
       "array([[539,   0,   3,   0,   0,   0,   2,   0,   0,   0,   0,   1],\n",
       "       [  0,  16,   8,   0,   0,   0,   0,   0,   1,   0,   0,   0],\n",
       "       [  0,  13,  10,   0,   0,   0,   0,   1,   2,   0,   0,   1],\n",
       "       [  0,   0,   0, 427,   0,   0,  77,   1,   3,   0,   0,   0],\n",
       "       [  0,   0,   0,   0,  21,   0,   0,  10,   0,   0,   0,   1],\n",
       "       [  0,   0,   0,   0,   0,   9,   0,   0,   1,   0,   0,   0],\n",
       "       [  0,   0,   0,   8,   0,   0, 545,   0,   2,   1,   0,   0],\n",
       "       [  0,   1,   0,   1,  10,   0,   2,  24,   9,   0,   0,   2],\n",
       "       [  0,   0,   0,   2,   0,   2,   0,   3,  14,   1,   0,   1],\n",
       "       [  0,   0,   0,   0,   0,   0,   0,   0,   0, 479,   3,  14],\n",
       "       [  0,   0,   0,   0,   0,   0,   0,   0,   0,   9, 395,  16],\n",
       "       [  0,   0,   0,   0,   0,   0,   0,   1,   3,  51,   3, 413]],\n",
       "      dtype=int64)"
      ]
     },
     "execution_count": 206,
     "metadata": {},
     "output_type": "execute_result"
    }
   ],
   "source": [
    "confusion_matrix(y_test, result)"
   ]
  },
  {
   "cell_type": "code",
   "execution_count": 208,
   "metadata": {},
   "outputs": [
    {
     "name": "stdout",
     "output_type": "stream",
     "text": [
      "                    precision    recall  f1-score   support\n",
      "\n",
      "            LAYING       1.00      0.99      0.99       545\n",
      "        LIE_TO_SIT       0.53      0.64      0.58        25\n",
      "      LIE_TO_STAND       0.48      0.37      0.42        27\n",
      "           SITTING       0.97      0.84      0.90       508\n",
      "        SIT_TO_LIE       0.68      0.66      0.67        32\n",
      "      SIT_TO_STAND       0.82      0.90      0.86        10\n",
      "          STANDING       0.87      0.98      0.92       556\n",
      "      STAND_TO_LIE       0.60      0.49      0.54        49\n",
      "      STAND_TO_SIT       0.40      0.61      0.48        23\n",
      "           WALKING       0.89      0.97      0.92       496\n",
      "WALKING_DOWNSTAIRS       0.99      0.94      0.96       420\n",
      "  WALKING_UPSTAIRS       0.92      0.88      0.90       471\n",
      "\n",
      "          accuracy                           0.91      3162\n",
      "         macro avg       0.76      0.77      0.76      3162\n",
      "      weighted avg       0.92      0.91      0.91      3162\n",
      "\n"
     ]
    }
   ],
   "source": [
    "print(classification_report(y_test, result, zero_division=0))"
   ]
  },
  {
   "cell_type": "markdown",
   "metadata": {},
   "source": [
    "### Train on selected features from RFE"
   ]
  },
  {
   "cell_type": "code",
   "execution_count": 218,
   "metadata": {},
   "outputs": [
    {
     "data": {
      "text/plain": [
       "(220,)"
      ]
     },
     "execution_count": 218,
     "metadata": {},
     "output_type": "execute_result"
    }
   ],
   "source": [
    "rfe_features = np.array(['tBodyAcc-Mean-1                ', 'tBodyAcc-Mean-2                ',\n",
    " 'tBodyAcc-Mean-3                ', 'tBodyAcc-STD-1                 ',\n",
    " 'tBodyAcc-Mad-1                 ', 'tBodyAcc-Max-1                 ',\n",
    " 'tBodyAcc-Max-2                 ', 'tBodyAcc-Min-1                 ',\n",
    " 'tBodyAcc-SMA-1                 ', 'tBodyAcc-Energy-1              ',\n",
    " 'tBodyAcc-Energy-2              ', 'tBodyAcc-IQR-1                 ',\n",
    " 'tBodyAcc-ropy-1                ', 'tBodyAcc-ropy-1                .1',\n",
    " 'tBodyAcc-ropy-1                .2', 'tBodyAcc-Correlation-1         ',\n",
    " 'tBodyAcc-Correlation-2         ', 'tBodyAcc-Correlation-3         ',\n",
    " 'tGravityAcc-Mean-1             ', 'tGravityAcc-Mean-2             ',\n",
    " 'tGravityAcc-Mean-3             ', 'tGravityAcc-STD-1              ',\n",
    " 'tGravityAcc-STD-2              ', 'tGravityAcc-STD-3              ',\n",
    " 'tGravityAcc-Mad-1              ', 'tGravityAcc-Mad-2              ',\n",
    " 'tGravityAcc-Mad-3              ', 'tGravityAcc-Max-1              ',\n",
    " 'tGravityAcc-Max-2              ', 'tGravityAcc-Max-3              ',\n",
    " 'tGravityAcc-Min-1              ', 'tGravityAcc-Min-2              ',\n",
    " 'tGravityAcc-Min-3              ', 'tGravityAcc-SMA-1              ',\n",
    " 'tGravityAcc-Energy-1           ', 'tGravityAcc-Energy-2           ',\n",
    " 'tGravityAcc-Energy-3           ', 'tGravityAcc-IQR-1              ',\n",
    " 'tGravityAcc-IQR-2              ', 'tGravityAcc-ropy-1             ',\n",
    " 'tGravityAcc-ropy-1             .1', 'tGravityAcc-ARCoeff-1          ',\n",
    " 'tGravityAcc-ARCoeff-2          ', 'tGravityAcc-ARCoeff-3          ',\n",
    " 'tGravityAcc-ARCoeff-4          ', 'tGravityAcc-ARCoeff-5          ',\n",
    " 'tGravityAcc-ARCoeff-6          ', 'tGravityAcc-ARCoeff-7          ',\n",
    " 'tGravityAcc-ARCoeff-8          ', 'tGravityAcc-ARCoeff-9          ',\n",
    " 'tGravityAcc-ARCoeff-10         ', 'tGravityAcc-ARCoeff-11         ',\n",
    " 'tGravityAcc-ARCoeff-12         ', 'tGravityAcc-Correlation-1      ',\n",
    " 'tGravityAcc-Correlation-2      ', 'tGravityAcc-Correlation-3      ',\n",
    " 'tBodyAccJerk-STD-1             ', 'tBodyAccJerk-STD-2             ',\n",
    " 'tBodyAccJerk-Mad-1             ', 'tBodyAccJerk-Mad-2             ',\n",
    " 'tBodyAccJerk-Max-1             ', 'tBodyAccJerk-Max-3             ',\n",
    " 'tBodyAccJerk-SMA-1             ', 'tBodyAccJerk-Energy-1          ',\n",
    " 'tBodyAccJerk-Energy-3          ', 'tBodyAccJerk-IQR-1             ',\n",
    " 'tBodyAccJerk-IQR-2             ', 'tBodyAccJerk-IQR-3             ',\n",
    " 'tBodyAccJerk-ropy-1            ', 'tBodyAccJerk-ropy-1            .1',\n",
    " 'tBodyAccJerk-ropy-1            .2', 'tBodyAccJerk-Correlation-1     ',\n",
    " 'tBodyGyro-Mean-1               ', 'tBodyGyro-Mean-3               ',\n",
    " 'tBodyGyro-STD-1                ', 'tBodyGyro-STD-2                ',\n",
    " 'tBodyGyro-STD-3                ', 'tBodyGyro-Mad-1                ',\n",
    " 'tBodyGyro-Mad-2                ', 'tBodyGyro-Mad-3                ',\n",
    " 'tBodyGyro-Max-1                ', 'tBodyGyro-Min-1                ',\n",
    " 'tBodyGyro-SMA-1                ', 'tBodyGyro-Energy-1             ',\n",
    " 'tBodyGyro-Energy-2             ', 'tBodyGyro-Energy-3             ',\n",
    " 'tBodyGyro-IQR-1                ', 'tBodyGyro-IQR-2                ',\n",
    " 'tBodyGyro-IQR-3                ', 'tBodyGyro-ropy-1               ',\n",
    " 'tBodyGyro-ARCoeff-5            ', 'tBodyGyro-Correlation-1        ',\n",
    " 'tBodyGyro-Correlation-2        ', 'tBodyGyro-Correlation-3        ',\n",
    " 'tBodyGyroJerk-STD-1            ', 'tBodyGyroJerk-Mad-1            ',\n",
    " 'tBodyGyroJerk-Mad-3            ', 'tBodyGyroJerk-Min-1            ',\n",
    " 'tBodyGyroJerk-SMA-1            ', 'tBodyGyroJerk-Energy-1         ',\n",
    " 'tBodyGyroJerk-IQR-1            ', 'tBodyGyroJerk-IQR-3            ',\n",
    " 'tBodyGyroJerk-ropy-1           ', 'tBodyGyroJerk-ropy-1           .2',\n",
    " 'tBodyGyroJerk-ARCoeff-1        ', 'tBodyGyroJerk-ARCoeff-3        ',\n",
    " 'tBodyGyroJerk-Correlation-1    ', 'tBodyGyroJerk-Correlation-2    ',\n",
    " 'tBodyAccMag-Mean-1             ', 'tBodyAccMag-STD-1              ',\n",
    " 'tBodyAccMag-Mad-1              ', 'tBodyAccMag-Max-1              ',\n",
    " 'tBodyAccMag-SMA-1              ', 'tBodyAccMag-Energy-1           ',\n",
    " 'tBodyAccMag-ARCoeff-1          ', 'tBodyAccMag-ARCoeff-2          ',\n",
    " 'tGravityAccMag-Mean-1          ', 'tGravityAccMag-STD-1           ',\n",
    " 'tGravityAccMag-Mad-1           ', 'tGravityAccMag-Max-1           ',\n",
    " 'tGravityAccMag-SMA-1           ', 'tGravityAccMag-Energy-1        ',\n",
    " 'tGravityAccMag-ARCoeff-1       ', 'tGravityAccMag-ARCoeff-2       ',\n",
    " 'tBodyAccJerkMag-Mean-1         ', 'tBodyAccJerkMag-STD-1          ',\n",
    " 'tBodyAccJerkMag-Mad-1          ', 'tBodyAccJerkMag-SMA-1          ',\n",
    " 'tBodyAccJerkMag-Energy-1       ', 'tBodyAccJerkMag-IQR-1          ',\n",
    " 'tBodyAccJerkMag-ropy-1         ', 'tBodyGyroMag-Mean-1            ',\n",
    " 'tBodyGyroMag-SMA-1             ', 'tBodyGyroJerkMag-Mean-1        ',\n",
    " 'fBodyAcc-Mean-1                ', 'fBodyAcc-STD-1                 ',\n",
    " 'fBodyAcc-Mad-1                 ', 'fBodyAcc-Max-1                 ',\n",
    " 'fBodyAcc-Max-2                 ', 'fBodyAcc-Energy-1              ',\n",
    " 'fBodyAcc-MaxInds-1             ', 'fBodyAcc-MeanFreq-3            ',\n",
    " 'fBodyAcc-Skewness-1            ', 'fBodyAcc-Kurtosis-1            ',\n",
    " 'fBodyAcc-Skewness-1            .1', 'fBodyAcc-Kurtosis-1            .1',\n",
    " 'fBodyAcc-BandsEnergyOld-1      ', 'fBodyAcc-BandsEnergyOld-2      ',\n",
    " 'fBodyAcc-BandsEnergyOld-9      ', 'fBodyAcc-BandsEnergyOld-13     ',\n",
    " 'fBodyAcc-BandsEnergyOld-15     ', 'fBodyAcc-BandsEnergyOld-29     ',\n",
    " 'fBodyAcc-BandsEnergyOld-31     ', 'fBodyAcc-BandsEnergyOld-38     ',\n",
    " 'fBodyAccJerk-Mean-1            ', 'fBodyAccJerk-STD-1             ',\n",
    " 'fBodyAccJerk-STD-2             ', 'fBodyAccJerk-Mad-1             ',\n",
    " 'fBodyAccJerk-Max-1             ', 'fBodyAccJerk-SMA-1             ',\n",
    " 'fBodyAccJerk-Energy-1          ', 'fBodyAccJerk-ropy-1            ',\n",
    " 'fBodyAccJerk-MaxInds-1         ', 'fBodyAccJerk-MaxInds-3         ',\n",
    " 'fBodyAccJerk-BandsEnergyOld-1  ', 'fBodyAccJerk-BandsEnergyOld-9  ',\n",
    " 'fBodyAccJerk-BandsEnergyOld-13 ', 'fBodyAccJerk-BandsEnergyOld-29 ',\n",
    " 'fBodyAccJerk-BandsEnergyOld-31 ', 'fBodyAccJerk-BandsEnergyOld-38 ',\n",
    " 'fBodyGyro-Mean-1               ', 'fBodyGyro-Mean-2               ',\n",
    " 'fBodyGyro-STD-1                ', 'fBodyGyro-STD-2                ',\n",
    " 'fBodyGyro-STD-3                ', 'fBodyGyro-Mad-1                ',\n",
    " 'fBodyGyro-Mad-2                ', 'fBodyGyro-Max-1                ',\n",
    " 'fBodyGyro-Max-2                ', 'fBodyGyro-Max-3                ',\n",
    " 'fBodyGyro-Energy-1             ', 'fBodyGyro-Energy-2             ',\n",
    " 'fBodyGyro-Energy-3             ', 'fBodyGyro-ropy-1               ',\n",
    " 'fBodyGyro-ropy-1               .1', 'fBodyGyro-MaxInds-1            ',\n",
    " 'fBodyGyro-MaxInds-2            ', 'fBodyGyro-MaxInds-3            ',\n",
    " 'fBodyGyro-MeanFreq-1           ', 'fBodyGyro-Skewness-1           .1',\n",
    " 'fBodyGyro-Skewness-1           .2', 'fBodyGyro-Kurtosis-1           .2',\n",
    " 'fBodyGyro-BandsEnergyOld-1     ', 'fBodyGyro-BandsEnergyOld-2     ',\n",
    " 'fBodyGyro-BandsEnergyOld-9     ', 'fBodyGyro-BandsEnergyOld-13    ',\n",
    " 'fBodyGyro-BandsEnergyOld-15    ', 'fBodyGyro-BandsEnergyOld-23    ',\n",
    " 'fBodyGyro-BandsEnergyOld-27    ', 'fBodyGyro-BandsEnergyOld-29    ',\n",
    " 'fBodyGyro-BandsEnergyOld-37    ', 'fBodyGyro-BandsEnergyOld-41    ',\n",
    " 'fBodyAccMag-Mean-1             ', 'fBodyAccMag-STD-1              ',\n",
    " 'fBodyAccMag-Mad-1              ', 'fBodyAccMag-Max-1              ',\n",
    " 'fBodyAccMag-SMA-1              ', 'fBodyAccMag-Energy-1           ',\n",
    " 'fBodyAccMag-IQR-1              ', 'fBodyAccMag-ropy-1             ',\n",
    " 'fBodyAccMag-MaxInds-1          ', 'fBodyAccMag-MeanFreq-1         ',\n",
    " 'fBodyAccJerkMag-STD-1          ', 'fBodyAccJerkMag-Max-1          ',\n",
    " 'fBodyAccJerkMag-Energy-1       ', 'fBodyGyroMag-MeanFreq-1        ',\n",
    " 'tBodyGyro-AngleWRTGravity-1    ', 'tXAxisAcc-AngleWRTGravity-1    ',\n",
    " 'tYAxisAcc-AngleWRTGravity-1    ', 'tZAxisAcc-AngleWRTGravity-1    '])\n",
    "\n",
    "rfe_features.shape"
   ]
  },
  {
   "cell_type": "markdown",
   "metadata": {},
   "source": [
    "### MLP on SMOTE Data"
   ]
  },
  {
   "cell_type": "code",
   "execution_count": null,
   "metadata": {},
   "outputs": [],
   "source": []
  },
  {
   "cell_type": "code",
   "execution_count": null,
   "metadata": {},
   "outputs": [],
   "source": []
  },
  {
   "cell_type": "code",
   "execution_count": 234,
   "metadata": {},
   "outputs": [],
   "source": [
    "# Imports\n",
    "import tensorflow\n",
    "from tensorflow.keras.datasets import mnist\n",
    "from tensorflow.keras.models import Sequential\n",
    "from tensorflow.keras.layers import Dense\n",
    "from tensorflow.keras.utils import to_categorical\n",
    "\n",
    "# Configuration options\n",
    "feature_vector_length = 561\n",
    "num_classes = 12"
   ]
  },
  {
   "cell_type": "code",
   "execution_count": 238,
   "metadata": {},
   "outputs": [
    {
     "data": {
      "text/html": [
       "<div>\n",
       "<style scoped>\n",
       "    .dataframe tbody tr th:only-of-type {\n",
       "        vertical-align: middle;\n",
       "    }\n",
       "\n",
       "    .dataframe tbody tr th {\n",
       "        vertical-align: top;\n",
       "    }\n",
       "\n",
       "    .dataframe thead th {\n",
       "        text-align: right;\n",
       "    }\n",
       "</style>\n",
       "<table border=\"1\" class=\"dataframe\">\n",
       "  <thead>\n",
       "    <tr style=\"text-align: right;\">\n",
       "      <th></th>\n",
       "      <th>Labels</th>\n",
       "    </tr>\n",
       "  </thead>\n",
       "  <tbody>\n",
       "    <tr>\n",
       "      <th>0</th>\n",
       "      <td>5</td>\n",
       "    </tr>\n",
       "    <tr>\n",
       "      <th>1</th>\n",
       "      <td>5</td>\n",
       "    </tr>\n",
       "    <tr>\n",
       "      <th>2</th>\n",
       "      <td>5</td>\n",
       "    </tr>\n",
       "    <tr>\n",
       "      <th>3</th>\n",
       "      <td>5</td>\n",
       "    </tr>\n",
       "    <tr>\n",
       "      <th>4</th>\n",
       "      <td>5</td>\n",
       "    </tr>\n",
       "    <tr>\n",
       "      <th>...</th>\n",
       "      <td>...</td>\n",
       "    </tr>\n",
       "    <tr>\n",
       "      <th>7762</th>\n",
       "      <td>2</td>\n",
       "    </tr>\n",
       "    <tr>\n",
       "      <th>7763</th>\n",
       "      <td>2</td>\n",
       "    </tr>\n",
       "    <tr>\n",
       "      <th>7764</th>\n",
       "      <td>2</td>\n",
       "    </tr>\n",
       "    <tr>\n",
       "      <th>7765</th>\n",
       "      <td>2</td>\n",
       "    </tr>\n",
       "    <tr>\n",
       "      <th>7766</th>\n",
       "      <td>2</td>\n",
       "    </tr>\n",
       "  </tbody>\n",
       "</table>\n",
       "<p>7767 rows × 1 columns</p>\n",
       "</div>"
      ],
      "text/plain": [
       "      Labels\n",
       "0          5\n",
       "1          5\n",
       "2          5\n",
       "3          5\n",
       "4          5\n",
       "...      ...\n",
       "7762       2\n",
       "7763       2\n",
       "7764       2\n",
       "7765       2\n",
       "7766       2\n",
       "\n",
       "[7767 rows x 1 columns]"
      ]
     },
     "execution_count": 238,
     "metadata": {},
     "output_type": "execute_result"
    }
   ],
   "source": [
    "map = {\n",
    "  \"WALKING\": 1,\n",
    "  \"WALKING_UPSTAIRS \": 2,\n",
    "  \"WALKING_DOWNSTAIRS\": 3,\n",
    "  \"SITTING\": 4,\n",
    "  \"STANDING\": 5,\n",
    "  \"LAYING\": 6,\n",
    "  \"STAND_TO_SIT\": 7,\n",
    "  \"SIT_TO_STAND\": 8,\n",
    "  \"SIT_TO_LIE\": 9,\n",
    "  \"LIE_TO_SIT\": 10,\n",
    "  \"STAND_TO_LIE\": 11,\n",
    "  \"LIE_TO_STAND\": 12\n",
    "}\n"
   ]
  },
  {
   "cell_type": "code",
   "execution_count": 233,
   "metadata": {},
   "outputs": [
    {
     "ename": "ValueError",
     "evalue": "invalid literal for int() with base 10: 'WALKING'",
     "output_type": "error",
     "traceback": [
      "\u001b[1;31m---------------------------------------------------------------------------\u001b[0m",
      "\u001b[1;31mValueError\u001b[0m                                Traceback (most recent call last)",
      "\u001b[1;32m<ipython-input-233-899afe7cdc00>\u001b[0m in \u001b[0;36m<module>\u001b[1;34m\u001b[0m\n\u001b[0;32m      2\u001b[0m \u001b[0mX_test\u001b[0m \u001b[1;33m=\u001b[0m \u001b[0mtest_features\u001b[0m\u001b[1;33m\u001b[0m\u001b[1;33m\u001b[0m\u001b[0m\n\u001b[0;32m      3\u001b[0m \u001b[1;33m\u001b[0m\u001b[0m\n\u001b[1;32m----> 4\u001b[1;33m \u001b[0mY_train\u001b[0m \u001b[1;33m=\u001b[0m \u001b[0mto_categorical\u001b[0m\u001b[1;33m(\u001b[0m\u001b[0mtrain_labels\u001b[0m\u001b[1;33m,\u001b[0m \u001b[0mnum_classes\u001b[0m\u001b[1;33m)\u001b[0m\u001b[1;33m\u001b[0m\u001b[1;33m\u001b[0m\u001b[0m\n\u001b[0m",
      "\u001b[1;32mD:\\Users\\admin\\lib\\site-packages\\keras\\utils\\np_utils.py\u001b[0m in \u001b[0;36mto_categorical\u001b[1;34m(y, num_classes, dtype)\u001b[0m\n\u001b[0;32m     64\u001b[0m \u001b[1;33m\u001b[0m\u001b[0m\n\u001b[0;32m     65\u001b[0m   \"\"\"\n\u001b[1;32m---> 66\u001b[1;33m   \u001b[0my\u001b[0m \u001b[1;33m=\u001b[0m \u001b[0mnp\u001b[0m\u001b[1;33m.\u001b[0m\u001b[0marray\u001b[0m\u001b[1;33m(\u001b[0m\u001b[0my\u001b[0m\u001b[1;33m,\u001b[0m \u001b[0mdtype\u001b[0m\u001b[1;33m=\u001b[0m\u001b[1;34m'int'\u001b[0m\u001b[1;33m)\u001b[0m\u001b[1;33m\u001b[0m\u001b[1;33m\u001b[0m\u001b[0m\n\u001b[0m\u001b[0;32m     67\u001b[0m   \u001b[0minput_shape\u001b[0m \u001b[1;33m=\u001b[0m \u001b[0my\u001b[0m\u001b[1;33m.\u001b[0m\u001b[0mshape\u001b[0m\u001b[1;33m\u001b[0m\u001b[1;33m\u001b[0m\u001b[0m\n\u001b[0;32m     68\u001b[0m   \u001b[1;32mif\u001b[0m \u001b[0minput_shape\u001b[0m \u001b[1;32mand\u001b[0m \u001b[0minput_shape\u001b[0m\u001b[1;33m[\u001b[0m\u001b[1;33m-\u001b[0m\u001b[1;36m1\u001b[0m\u001b[1;33m]\u001b[0m \u001b[1;33m==\u001b[0m \u001b[1;36m1\u001b[0m \u001b[1;32mand\u001b[0m \u001b[0mlen\u001b[0m\u001b[1;33m(\u001b[0m\u001b[0minput_shape\u001b[0m\u001b[1;33m)\u001b[0m \u001b[1;33m>\u001b[0m \u001b[1;36m1\u001b[0m\u001b[1;33m:\u001b[0m\u001b[1;33m\u001b[0m\u001b[1;33m\u001b[0m\u001b[0m\n",
      "\u001b[1;32mD:\\Users\\admin\\lib\\site-packages\\pandas\\core\\generic.py\u001b[0m in \u001b[0;36m__array__\u001b[1;34m(self, dtype)\u001b[0m\n\u001b[0;32m   1779\u001b[0m \u001b[1;33m\u001b[0m\u001b[0m\n\u001b[0;32m   1780\u001b[0m     \u001b[1;32mdef\u001b[0m \u001b[0m__array__\u001b[0m\u001b[1;33m(\u001b[0m\u001b[0mself\u001b[0m\u001b[1;33m,\u001b[0m \u001b[0mdtype\u001b[0m\u001b[1;33m=\u001b[0m\u001b[1;32mNone\u001b[0m\u001b[1;33m)\u001b[0m \u001b[1;33m->\u001b[0m \u001b[0mnp\u001b[0m\u001b[1;33m.\u001b[0m\u001b[0mndarray\u001b[0m\u001b[1;33m:\u001b[0m\u001b[1;33m\u001b[0m\u001b[1;33m\u001b[0m\u001b[0m\n\u001b[1;32m-> 1781\u001b[1;33m         \u001b[1;32mreturn\u001b[0m \u001b[0mnp\u001b[0m\u001b[1;33m.\u001b[0m\u001b[0masarray\u001b[0m\u001b[1;33m(\u001b[0m\u001b[0mself\u001b[0m\u001b[1;33m.\u001b[0m\u001b[0m_values\u001b[0m\u001b[1;33m,\u001b[0m \u001b[0mdtype\u001b[0m\u001b[1;33m=\u001b[0m\u001b[0mdtype\u001b[0m\u001b[1;33m)\u001b[0m\u001b[1;33m\u001b[0m\u001b[1;33m\u001b[0m\u001b[0m\n\u001b[0m\u001b[0;32m   1782\u001b[0m \u001b[1;33m\u001b[0m\u001b[0m\n\u001b[0;32m   1783\u001b[0m     \u001b[1;32mdef\u001b[0m \u001b[0m__array_wrap__\u001b[0m\u001b[1;33m(\u001b[0m\u001b[0mself\u001b[0m\u001b[1;33m,\u001b[0m \u001b[0mresult\u001b[0m\u001b[1;33m,\u001b[0m \u001b[0mcontext\u001b[0m\u001b[1;33m=\u001b[0m\u001b[1;32mNone\u001b[0m\u001b[1;33m)\u001b[0m\u001b[1;33m:\u001b[0m\u001b[1;33m\u001b[0m\u001b[1;33m\u001b[0m\u001b[0m\n",
      "\u001b[1;32mD:\\Users\\admin\\lib\\site-packages\\numpy\\core\\_asarray.py\u001b[0m in \u001b[0;36masarray\u001b[1;34m(a, dtype, order)\u001b[0m\n\u001b[0;32m     81\u001b[0m \u001b[1;33m\u001b[0m\u001b[0m\n\u001b[0;32m     82\u001b[0m     \"\"\"\n\u001b[1;32m---> 83\u001b[1;33m     \u001b[1;32mreturn\u001b[0m \u001b[0marray\u001b[0m\u001b[1;33m(\u001b[0m\u001b[0ma\u001b[0m\u001b[1;33m,\u001b[0m \u001b[0mdtype\u001b[0m\u001b[1;33m,\u001b[0m \u001b[0mcopy\u001b[0m\u001b[1;33m=\u001b[0m\u001b[1;32mFalse\u001b[0m\u001b[1;33m,\u001b[0m \u001b[0morder\u001b[0m\u001b[1;33m=\u001b[0m\u001b[0morder\u001b[0m\u001b[1;33m)\u001b[0m\u001b[1;33m\u001b[0m\u001b[1;33m\u001b[0m\u001b[0m\n\u001b[0m\u001b[0;32m     84\u001b[0m \u001b[1;33m\u001b[0m\u001b[0m\n\u001b[0;32m     85\u001b[0m \u001b[1;33m\u001b[0m\u001b[0m\n",
      "\u001b[1;31mValueError\u001b[0m: invalid literal for int() with base 10: 'WALKING'"
     ]
    }
   ],
   "source": [
    "X_train = train_features\n",
    "X_test = test_features\n",
    "\n",
    "Y_train = to_categorical(train_class, num_classes)"
   ]
  },
  {
   "cell_type": "code",
   "execution_count": 223,
   "metadata": {},
   "outputs": [],
   "source": [
    "input_shape = (feature_vector_length,)\n",
    "\n",
    "model = Sequential()\n",
    "model.add(Dense(350, input_shape=input_shape, activation='relu'))\n",
    "model.add(Dense(50, activation='relu'))\n",
    "model.add(Dense(num_classes, activation='softmax'))"
   ]
  },
  {
   "cell_type": "code",
   "execution_count": 227,
   "metadata": {},
   "outputs": [
    {
     "name": "stdout",
     "output_type": "stream",
     "text": [
      "Epoch 1/10\n"
     ]
    },
    {
     "ename": "ValueError",
     "evalue": "in user code:\n\n    D:\\Users\\admin\\lib\\site-packages\\keras\\engine\\training.py:853 train_function  *\n        return step_function(self, iterator)\n    D:\\Users\\admin\\lib\\site-packages\\keras\\engine\\training.py:842 step_function  **\n        outputs = model.distribute_strategy.run(run_step, args=(data,))\n    D:\\Users\\admin\\lib\\site-packages\\tensorflow\\python\\distribute\\distribute_lib.py:1286 run\n        return self._extended.call_for_each_replica(fn, args=args, kwargs=kwargs)\n    D:\\Users\\admin\\lib\\site-packages\\tensorflow\\python\\distribute\\distribute_lib.py:2849 call_for_each_replica\n        return self._call_for_each_replica(fn, args, kwargs)\n    D:\\Users\\admin\\lib\\site-packages\\tensorflow\\python\\distribute\\distribute_lib.py:3632 _call_for_each_replica\n        return fn(*args, **kwargs)\n    D:\\Users\\admin\\lib\\site-packages\\keras\\engine\\training.py:835 run_step  **\n        outputs = model.train_step(data)\n    D:\\Users\\admin\\lib\\site-packages\\keras\\engine\\training.py:788 train_step\n        loss = self.compiled_loss(\n    D:\\Users\\admin\\lib\\site-packages\\keras\\engine\\compile_utils.py:201 __call__\n        loss_value = loss_obj(y_t, y_p, sample_weight=sw)\n    D:\\Users\\admin\\lib\\site-packages\\keras\\losses.py:141 __call__\n        losses = call_fn(y_true, y_pred)\n    D:\\Users\\admin\\lib\\site-packages\\keras\\losses.py:245 call  **\n        return ag_fn(y_true, y_pred, **self._fn_kwargs)\n    D:\\Users\\admin\\lib\\site-packages\\tensorflow\\python\\util\\dispatch.py:206 wrapper\n        return target(*args, **kwargs)\n    D:\\Users\\admin\\lib\\site-packages\\keras\\losses.py:1665 categorical_crossentropy\n        return backend.categorical_crossentropy(\n    D:\\Users\\admin\\lib\\site-packages\\tensorflow\\python\\util\\dispatch.py:206 wrapper\n        return target(*args, **kwargs)\n    D:\\Users\\admin\\lib\\site-packages\\keras\\backend.py:4839 categorical_crossentropy\n        target.shape.assert_is_compatible_with(output.shape)\n    D:\\Users\\admin\\lib\\site-packages\\tensorflow\\python\\framework\\tensor_shape.py:1161 assert_is_compatible_with\n        raise ValueError(\"Shapes %s and %s are incompatible\" % (self, other))\n\n    ValueError: Shapes (None, 1) and (None, 12) are incompatible\n",
     "output_type": "error",
     "traceback": [
      "\u001b[1;31m---------------------------------------------------------------------------\u001b[0m",
      "\u001b[1;31mValueError\u001b[0m                                Traceback (most recent call last)",
      "\u001b[1;32m<ipython-input-227-44983a71e271>\u001b[0m in \u001b[0;36m<module>\u001b[1;34m\u001b[0m\n\u001b[0;32m      1\u001b[0m \u001b[0mmodel\u001b[0m\u001b[1;33m.\u001b[0m\u001b[0mcompile\u001b[0m\u001b[1;33m(\u001b[0m\u001b[0mloss\u001b[0m\u001b[1;33m=\u001b[0m\u001b[1;34m'categorical_crossentropy'\u001b[0m\u001b[1;33m,\u001b[0m \u001b[0moptimizer\u001b[0m\u001b[1;33m=\u001b[0m\u001b[1;34m'adam'\u001b[0m\u001b[1;33m,\u001b[0m \u001b[0mmetrics\u001b[0m\u001b[1;33m=\u001b[0m\u001b[1;33m[\u001b[0m\u001b[1;34m'accuracy'\u001b[0m\u001b[1;33m]\u001b[0m\u001b[1;33m)\u001b[0m\u001b[1;33m\u001b[0m\u001b[1;33m\u001b[0m\u001b[0m\n\u001b[1;32m----> 2\u001b[1;33m \u001b[0mmodel\u001b[0m\u001b[1;33m.\u001b[0m\u001b[0mfit\u001b[0m\u001b[1;33m(\u001b[0m\u001b[0mtrain_features\u001b[0m\u001b[1;33m,\u001b[0m \u001b[0mtrain_labels\u001b[0m\u001b[1;33m,\u001b[0m \u001b[0mepochs\u001b[0m\u001b[1;33m=\u001b[0m\u001b[1;36m10\u001b[0m\u001b[1;33m,\u001b[0m \u001b[0mbatch_size\u001b[0m\u001b[1;33m=\u001b[0m\u001b[1;36m250\u001b[0m\u001b[1;33m,\u001b[0m \u001b[0mverbose\u001b[0m\u001b[1;33m=\u001b[0m\u001b[1;36m1\u001b[0m\u001b[1;33m,\u001b[0m \u001b[0mvalidation_split\u001b[0m\u001b[1;33m=\u001b[0m\u001b[1;36m0.2\u001b[0m\u001b[1;33m)\u001b[0m\u001b[1;33m\u001b[0m\u001b[1;33m\u001b[0m\u001b[0m\n\u001b[0m",
      "\u001b[1;32mD:\\Users\\admin\\lib\\site-packages\\keras\\engine\\training.py\u001b[0m in \u001b[0;36mfit\u001b[1;34m(self, x, y, batch_size, epochs, verbose, callbacks, validation_split, validation_data, shuffle, class_weight, sample_weight, initial_epoch, steps_per_epoch, validation_steps, validation_batch_size, validation_freq, max_queue_size, workers, use_multiprocessing)\u001b[0m\n\u001b[0;32m   1182\u001b[0m                 _r=1):\n\u001b[0;32m   1183\u001b[0m               \u001b[0mcallbacks\u001b[0m\u001b[1;33m.\u001b[0m\u001b[0mon_train_batch_begin\u001b[0m\u001b[1;33m(\u001b[0m\u001b[0mstep\u001b[0m\u001b[1;33m)\u001b[0m\u001b[1;33m\u001b[0m\u001b[1;33m\u001b[0m\u001b[0m\n\u001b[1;32m-> 1184\u001b[1;33m               \u001b[0mtmp_logs\u001b[0m \u001b[1;33m=\u001b[0m \u001b[0mself\u001b[0m\u001b[1;33m.\u001b[0m\u001b[0mtrain_function\u001b[0m\u001b[1;33m(\u001b[0m\u001b[0miterator\u001b[0m\u001b[1;33m)\u001b[0m\u001b[1;33m\u001b[0m\u001b[1;33m\u001b[0m\u001b[0m\n\u001b[0m\u001b[0;32m   1185\u001b[0m               \u001b[1;32mif\u001b[0m \u001b[0mdata_handler\u001b[0m\u001b[1;33m.\u001b[0m\u001b[0mshould_sync\u001b[0m\u001b[1;33m:\u001b[0m\u001b[1;33m\u001b[0m\u001b[1;33m\u001b[0m\u001b[0m\n\u001b[0;32m   1186\u001b[0m                 \u001b[0mcontext\u001b[0m\u001b[1;33m.\u001b[0m\u001b[0masync_wait\u001b[0m\u001b[1;33m(\u001b[0m\u001b[1;33m)\u001b[0m\u001b[1;33m\u001b[0m\u001b[1;33m\u001b[0m\u001b[0m\n",
      "\u001b[1;32mD:\\Users\\admin\\lib\\site-packages\\tensorflow\\python\\eager\\def_function.py\u001b[0m in \u001b[0;36m__call__\u001b[1;34m(self, *args, **kwds)\u001b[0m\n\u001b[0;32m    883\u001b[0m \u001b[1;33m\u001b[0m\u001b[0m\n\u001b[0;32m    884\u001b[0m       \u001b[1;32mwith\u001b[0m \u001b[0mOptionalXlaContext\u001b[0m\u001b[1;33m(\u001b[0m\u001b[0mself\u001b[0m\u001b[1;33m.\u001b[0m\u001b[0m_jit_compile\u001b[0m\u001b[1;33m)\u001b[0m\u001b[1;33m:\u001b[0m\u001b[1;33m\u001b[0m\u001b[1;33m\u001b[0m\u001b[0m\n\u001b[1;32m--> 885\u001b[1;33m         \u001b[0mresult\u001b[0m \u001b[1;33m=\u001b[0m \u001b[0mself\u001b[0m\u001b[1;33m.\u001b[0m\u001b[0m_call\u001b[0m\u001b[1;33m(\u001b[0m\u001b[1;33m*\u001b[0m\u001b[0margs\u001b[0m\u001b[1;33m,\u001b[0m \u001b[1;33m**\u001b[0m\u001b[0mkwds\u001b[0m\u001b[1;33m)\u001b[0m\u001b[1;33m\u001b[0m\u001b[1;33m\u001b[0m\u001b[0m\n\u001b[0m\u001b[0;32m    886\u001b[0m \u001b[1;33m\u001b[0m\u001b[0m\n\u001b[0;32m    887\u001b[0m       \u001b[0mnew_tracing_count\u001b[0m \u001b[1;33m=\u001b[0m \u001b[0mself\u001b[0m\u001b[1;33m.\u001b[0m\u001b[0mexperimental_get_tracing_count\u001b[0m\u001b[1;33m(\u001b[0m\u001b[1;33m)\u001b[0m\u001b[1;33m\u001b[0m\u001b[1;33m\u001b[0m\u001b[0m\n",
      "\u001b[1;32mD:\\Users\\admin\\lib\\site-packages\\tensorflow\\python\\eager\\def_function.py\u001b[0m in \u001b[0;36m_call\u001b[1;34m(self, *args, **kwds)\u001b[0m\n\u001b[0;32m    931\u001b[0m       \u001b[1;31m# This is the first call of __call__, so we have to initialize.\u001b[0m\u001b[1;33m\u001b[0m\u001b[1;33m\u001b[0m\u001b[1;33m\u001b[0m\u001b[0m\n\u001b[0;32m    932\u001b[0m       \u001b[0minitializers\u001b[0m \u001b[1;33m=\u001b[0m \u001b[1;33m[\u001b[0m\u001b[1;33m]\u001b[0m\u001b[1;33m\u001b[0m\u001b[1;33m\u001b[0m\u001b[0m\n\u001b[1;32m--> 933\u001b[1;33m       \u001b[0mself\u001b[0m\u001b[1;33m.\u001b[0m\u001b[0m_initialize\u001b[0m\u001b[1;33m(\u001b[0m\u001b[0margs\u001b[0m\u001b[1;33m,\u001b[0m \u001b[0mkwds\u001b[0m\u001b[1;33m,\u001b[0m \u001b[0madd_initializers_to\u001b[0m\u001b[1;33m=\u001b[0m\u001b[0minitializers\u001b[0m\u001b[1;33m)\u001b[0m\u001b[1;33m\u001b[0m\u001b[1;33m\u001b[0m\u001b[0m\n\u001b[0m\u001b[0;32m    934\u001b[0m     \u001b[1;32mfinally\u001b[0m\u001b[1;33m:\u001b[0m\u001b[1;33m\u001b[0m\u001b[1;33m\u001b[0m\u001b[0m\n\u001b[0;32m    935\u001b[0m       \u001b[1;31m# At this point we know that the initialization is complete (or less\u001b[0m\u001b[1;33m\u001b[0m\u001b[1;33m\u001b[0m\u001b[1;33m\u001b[0m\u001b[0m\n",
      "\u001b[1;32mD:\\Users\\admin\\lib\\site-packages\\tensorflow\\python\\eager\\def_function.py\u001b[0m in \u001b[0;36m_initialize\u001b[1;34m(self, args, kwds, add_initializers_to)\u001b[0m\n\u001b[0;32m    757\u001b[0m     \u001b[0mself\u001b[0m\u001b[1;33m.\u001b[0m\u001b[0m_graph_deleter\u001b[0m \u001b[1;33m=\u001b[0m \u001b[0mFunctionDeleter\u001b[0m\u001b[1;33m(\u001b[0m\u001b[0mself\u001b[0m\u001b[1;33m.\u001b[0m\u001b[0m_lifted_initializer_graph\u001b[0m\u001b[1;33m)\u001b[0m\u001b[1;33m\u001b[0m\u001b[1;33m\u001b[0m\u001b[0m\n\u001b[0;32m    758\u001b[0m     self._concrete_stateful_fn = (\n\u001b[1;32m--> 759\u001b[1;33m         self._stateful_fn._get_concrete_function_internal_garbage_collected(  # pylint: disable=protected-access\n\u001b[0m\u001b[0;32m    760\u001b[0m             *args, **kwds))\n\u001b[0;32m    761\u001b[0m \u001b[1;33m\u001b[0m\u001b[0m\n",
      "\u001b[1;32mD:\\Users\\admin\\lib\\site-packages\\tensorflow\\python\\eager\\function.py\u001b[0m in \u001b[0;36m_get_concrete_function_internal_garbage_collected\u001b[1;34m(self, *args, **kwargs)\u001b[0m\n\u001b[0;32m   3064\u001b[0m       \u001b[0margs\u001b[0m\u001b[1;33m,\u001b[0m \u001b[0mkwargs\u001b[0m \u001b[1;33m=\u001b[0m \u001b[1;32mNone\u001b[0m\u001b[1;33m,\u001b[0m \u001b[1;32mNone\u001b[0m\u001b[1;33m\u001b[0m\u001b[1;33m\u001b[0m\u001b[0m\n\u001b[0;32m   3065\u001b[0m     \u001b[1;32mwith\u001b[0m \u001b[0mself\u001b[0m\u001b[1;33m.\u001b[0m\u001b[0m_lock\u001b[0m\u001b[1;33m:\u001b[0m\u001b[1;33m\u001b[0m\u001b[1;33m\u001b[0m\u001b[0m\n\u001b[1;32m-> 3066\u001b[1;33m       \u001b[0mgraph_function\u001b[0m\u001b[1;33m,\u001b[0m \u001b[0m_\u001b[0m \u001b[1;33m=\u001b[0m \u001b[0mself\u001b[0m\u001b[1;33m.\u001b[0m\u001b[0m_maybe_define_function\u001b[0m\u001b[1;33m(\u001b[0m\u001b[0margs\u001b[0m\u001b[1;33m,\u001b[0m \u001b[0mkwargs\u001b[0m\u001b[1;33m)\u001b[0m\u001b[1;33m\u001b[0m\u001b[1;33m\u001b[0m\u001b[0m\n\u001b[0m\u001b[0;32m   3067\u001b[0m     \u001b[1;32mreturn\u001b[0m \u001b[0mgraph_function\u001b[0m\u001b[1;33m\u001b[0m\u001b[1;33m\u001b[0m\u001b[0m\n\u001b[0;32m   3068\u001b[0m \u001b[1;33m\u001b[0m\u001b[0m\n",
      "\u001b[1;32mD:\\Users\\admin\\lib\\site-packages\\tensorflow\\python\\eager\\function.py\u001b[0m in \u001b[0;36m_maybe_define_function\u001b[1;34m(self, args, kwargs)\u001b[0m\n\u001b[0;32m   3461\u001b[0m \u001b[1;33m\u001b[0m\u001b[0m\n\u001b[0;32m   3462\u001b[0m           \u001b[0mself\u001b[0m\u001b[1;33m.\u001b[0m\u001b[0m_function_cache\u001b[0m\u001b[1;33m.\u001b[0m\u001b[0mmissed\u001b[0m\u001b[1;33m.\u001b[0m\u001b[0madd\u001b[0m\u001b[1;33m(\u001b[0m\u001b[0mcall_context_key\u001b[0m\u001b[1;33m)\u001b[0m\u001b[1;33m\u001b[0m\u001b[1;33m\u001b[0m\u001b[0m\n\u001b[1;32m-> 3463\u001b[1;33m           \u001b[0mgraph_function\u001b[0m \u001b[1;33m=\u001b[0m \u001b[0mself\u001b[0m\u001b[1;33m.\u001b[0m\u001b[0m_create_graph_function\u001b[0m\u001b[1;33m(\u001b[0m\u001b[0margs\u001b[0m\u001b[1;33m,\u001b[0m \u001b[0mkwargs\u001b[0m\u001b[1;33m)\u001b[0m\u001b[1;33m\u001b[0m\u001b[1;33m\u001b[0m\u001b[0m\n\u001b[0m\u001b[0;32m   3464\u001b[0m           \u001b[0mself\u001b[0m\u001b[1;33m.\u001b[0m\u001b[0m_function_cache\u001b[0m\u001b[1;33m.\u001b[0m\u001b[0mprimary\u001b[0m\u001b[1;33m[\u001b[0m\u001b[0mcache_key\u001b[0m\u001b[1;33m]\u001b[0m \u001b[1;33m=\u001b[0m \u001b[0mgraph_function\u001b[0m\u001b[1;33m\u001b[0m\u001b[1;33m\u001b[0m\u001b[0m\n\u001b[0;32m   3465\u001b[0m \u001b[1;33m\u001b[0m\u001b[0m\n",
      "\u001b[1;32mD:\\Users\\admin\\lib\\site-packages\\tensorflow\\python\\eager\\function.py\u001b[0m in \u001b[0;36m_create_graph_function\u001b[1;34m(self, args, kwargs, override_flat_arg_shapes)\u001b[0m\n\u001b[0;32m   3296\u001b[0m     \u001b[0marg_names\u001b[0m \u001b[1;33m=\u001b[0m \u001b[0mbase_arg_names\u001b[0m \u001b[1;33m+\u001b[0m \u001b[0mmissing_arg_names\u001b[0m\u001b[1;33m\u001b[0m\u001b[1;33m\u001b[0m\u001b[0m\n\u001b[0;32m   3297\u001b[0m     graph_function = ConcreteFunction(\n\u001b[1;32m-> 3298\u001b[1;33m         func_graph_module.func_graph_from_py_func(\n\u001b[0m\u001b[0;32m   3299\u001b[0m             \u001b[0mself\u001b[0m\u001b[1;33m.\u001b[0m\u001b[0m_name\u001b[0m\u001b[1;33m,\u001b[0m\u001b[1;33m\u001b[0m\u001b[1;33m\u001b[0m\u001b[0m\n\u001b[0;32m   3300\u001b[0m             \u001b[0mself\u001b[0m\u001b[1;33m.\u001b[0m\u001b[0m_python_function\u001b[0m\u001b[1;33m,\u001b[0m\u001b[1;33m\u001b[0m\u001b[1;33m\u001b[0m\u001b[0m\n",
      "\u001b[1;32mD:\\Users\\admin\\lib\\site-packages\\tensorflow\\python\\framework\\func_graph.py\u001b[0m in \u001b[0;36mfunc_graph_from_py_func\u001b[1;34m(name, python_func, args, kwargs, signature, func_graph, autograph, autograph_options, add_control_dependencies, arg_names, op_return_value, collections, capture_by_value, override_flat_arg_shapes, acd_record_initial_resource_uses)\u001b[0m\n\u001b[0;32m   1005\u001b[0m         \u001b[0m_\u001b[0m\u001b[1;33m,\u001b[0m \u001b[0moriginal_func\u001b[0m \u001b[1;33m=\u001b[0m \u001b[0mtf_decorator\u001b[0m\u001b[1;33m.\u001b[0m\u001b[0munwrap\u001b[0m\u001b[1;33m(\u001b[0m\u001b[0mpython_func\u001b[0m\u001b[1;33m)\u001b[0m\u001b[1;33m\u001b[0m\u001b[1;33m\u001b[0m\u001b[0m\n\u001b[0;32m   1006\u001b[0m \u001b[1;33m\u001b[0m\u001b[0m\n\u001b[1;32m-> 1007\u001b[1;33m       \u001b[0mfunc_outputs\u001b[0m \u001b[1;33m=\u001b[0m \u001b[0mpython_func\u001b[0m\u001b[1;33m(\u001b[0m\u001b[1;33m*\u001b[0m\u001b[0mfunc_args\u001b[0m\u001b[1;33m,\u001b[0m \u001b[1;33m**\u001b[0m\u001b[0mfunc_kwargs\u001b[0m\u001b[1;33m)\u001b[0m\u001b[1;33m\u001b[0m\u001b[1;33m\u001b[0m\u001b[0m\n\u001b[0m\u001b[0;32m   1008\u001b[0m \u001b[1;33m\u001b[0m\u001b[0m\n\u001b[0;32m   1009\u001b[0m       \u001b[1;31m# invariant: `func_outputs` contains only Tensors, CompositeTensors,\u001b[0m\u001b[1;33m\u001b[0m\u001b[1;33m\u001b[0m\u001b[1;33m\u001b[0m\u001b[0m\n",
      "\u001b[1;32mD:\\Users\\admin\\lib\\site-packages\\tensorflow\\python\\eager\\def_function.py\u001b[0m in \u001b[0;36mwrapped_fn\u001b[1;34m(*args, **kwds)\u001b[0m\n\u001b[0;32m    666\u001b[0m         \u001b[1;31m# the function a weak reference to itself to avoid a reference cycle.\u001b[0m\u001b[1;33m\u001b[0m\u001b[1;33m\u001b[0m\u001b[1;33m\u001b[0m\u001b[0m\n\u001b[0;32m    667\u001b[0m         \u001b[1;32mwith\u001b[0m \u001b[0mOptionalXlaContext\u001b[0m\u001b[1;33m(\u001b[0m\u001b[0mcompile_with_xla\u001b[0m\u001b[1;33m)\u001b[0m\u001b[1;33m:\u001b[0m\u001b[1;33m\u001b[0m\u001b[1;33m\u001b[0m\u001b[0m\n\u001b[1;32m--> 668\u001b[1;33m           \u001b[0mout\u001b[0m \u001b[1;33m=\u001b[0m \u001b[0mweak_wrapped_fn\u001b[0m\u001b[1;33m(\u001b[0m\u001b[1;33m)\u001b[0m\u001b[1;33m.\u001b[0m\u001b[0m__wrapped__\u001b[0m\u001b[1;33m(\u001b[0m\u001b[1;33m*\u001b[0m\u001b[0margs\u001b[0m\u001b[1;33m,\u001b[0m \u001b[1;33m**\u001b[0m\u001b[0mkwds\u001b[0m\u001b[1;33m)\u001b[0m\u001b[1;33m\u001b[0m\u001b[1;33m\u001b[0m\u001b[0m\n\u001b[0m\u001b[0;32m    669\u001b[0m         \u001b[1;32mreturn\u001b[0m \u001b[0mout\u001b[0m\u001b[1;33m\u001b[0m\u001b[1;33m\u001b[0m\u001b[0m\n\u001b[0;32m    670\u001b[0m \u001b[1;33m\u001b[0m\u001b[0m\n",
      "\u001b[1;32mD:\\Users\\admin\\lib\\site-packages\\tensorflow\\python\\framework\\func_graph.py\u001b[0m in \u001b[0;36mwrapper\u001b[1;34m(*args, **kwargs)\u001b[0m\n\u001b[0;32m    992\u001b[0m           \u001b[1;32mexcept\u001b[0m \u001b[0mException\u001b[0m \u001b[1;32mas\u001b[0m \u001b[0me\u001b[0m\u001b[1;33m:\u001b[0m  \u001b[1;31m# pylint:disable=broad-except\u001b[0m\u001b[1;33m\u001b[0m\u001b[1;33m\u001b[0m\u001b[0m\n\u001b[0;32m    993\u001b[0m             \u001b[1;32mif\u001b[0m \u001b[0mhasattr\u001b[0m\u001b[1;33m(\u001b[0m\u001b[0me\u001b[0m\u001b[1;33m,\u001b[0m \u001b[1;34m\"ag_error_metadata\"\u001b[0m\u001b[1;33m)\u001b[0m\u001b[1;33m:\u001b[0m\u001b[1;33m\u001b[0m\u001b[1;33m\u001b[0m\u001b[0m\n\u001b[1;32m--> 994\u001b[1;33m               \u001b[1;32mraise\u001b[0m \u001b[0me\u001b[0m\u001b[1;33m.\u001b[0m\u001b[0mag_error_metadata\u001b[0m\u001b[1;33m.\u001b[0m\u001b[0mto_exception\u001b[0m\u001b[1;33m(\u001b[0m\u001b[0me\u001b[0m\u001b[1;33m)\u001b[0m\u001b[1;33m\u001b[0m\u001b[1;33m\u001b[0m\u001b[0m\n\u001b[0m\u001b[0;32m    995\u001b[0m             \u001b[1;32melse\u001b[0m\u001b[1;33m:\u001b[0m\u001b[1;33m\u001b[0m\u001b[1;33m\u001b[0m\u001b[0m\n\u001b[0;32m    996\u001b[0m               \u001b[1;32mraise\u001b[0m\u001b[1;33m\u001b[0m\u001b[1;33m\u001b[0m\u001b[0m\n",
      "\u001b[1;31mValueError\u001b[0m: in user code:\n\n    D:\\Users\\admin\\lib\\site-packages\\keras\\engine\\training.py:853 train_function  *\n        return step_function(self, iterator)\n    D:\\Users\\admin\\lib\\site-packages\\keras\\engine\\training.py:842 step_function  **\n        outputs = model.distribute_strategy.run(run_step, args=(data,))\n    D:\\Users\\admin\\lib\\site-packages\\tensorflow\\python\\distribute\\distribute_lib.py:1286 run\n        return self._extended.call_for_each_replica(fn, args=args, kwargs=kwargs)\n    D:\\Users\\admin\\lib\\site-packages\\tensorflow\\python\\distribute\\distribute_lib.py:2849 call_for_each_replica\n        return self._call_for_each_replica(fn, args, kwargs)\n    D:\\Users\\admin\\lib\\site-packages\\tensorflow\\python\\distribute\\distribute_lib.py:3632 _call_for_each_replica\n        return fn(*args, **kwargs)\n    D:\\Users\\admin\\lib\\site-packages\\keras\\engine\\training.py:835 run_step  **\n        outputs = model.train_step(data)\n    D:\\Users\\admin\\lib\\site-packages\\keras\\engine\\training.py:788 train_step\n        loss = self.compiled_loss(\n    D:\\Users\\admin\\lib\\site-packages\\keras\\engine\\compile_utils.py:201 __call__\n        loss_value = loss_obj(y_t, y_p, sample_weight=sw)\n    D:\\Users\\admin\\lib\\site-packages\\keras\\losses.py:141 __call__\n        losses = call_fn(y_true, y_pred)\n    D:\\Users\\admin\\lib\\site-packages\\keras\\losses.py:245 call  **\n        return ag_fn(y_true, y_pred, **self._fn_kwargs)\n    D:\\Users\\admin\\lib\\site-packages\\tensorflow\\python\\util\\dispatch.py:206 wrapper\n        return target(*args, **kwargs)\n    D:\\Users\\admin\\lib\\site-packages\\keras\\losses.py:1665 categorical_crossentropy\n        return backend.categorical_crossentropy(\n    D:\\Users\\admin\\lib\\site-packages\\tensorflow\\python\\util\\dispatch.py:206 wrapper\n        return target(*args, **kwargs)\n    D:\\Users\\admin\\lib\\site-packages\\keras\\backend.py:4839 categorical_crossentropy\n        target.shape.assert_is_compatible_with(output.shape)\n    D:\\Users\\admin\\lib\\site-packages\\tensorflow\\python\\framework\\tensor_shape.py:1161 assert_is_compatible_with\n        raise ValueError(\"Shapes %s and %s are incompatible\" % (self, other))\n\n    ValueError: Shapes (None, 1) and (None, 12) are incompatible\n"
     ]
    }
   ],
   "source": [
    "model.compile(loss='categorical_crossentropy', optimizer='adam', metrics=['accuracy'])\n",
    "model.fit(train_features, train_labels, epochs=10, batch_size=250, verbose=1, validation_split=0.2)"
   ]
  },
  {
   "cell_type": "code",
   "execution_count": null,
   "metadata": {},
   "outputs": [],
   "source": []
  }
 ],
 "metadata": {
  "kernelspec": {
   "display_name": "Python 3",
   "language": "python",
   "name": "python3"
  },
  "language_info": {
   "codemirror_mode": {
    "name": "ipython",
    "version": 3
   },
   "file_extension": ".py",
   "mimetype": "text/x-python",
   "name": "python",
   "nbconvert_exporter": "python",
   "pygments_lexer": "ipython3",
   "version": "3.8.5"
  }
 },
 "nbformat": 4,
 "nbformat_minor": 4
}

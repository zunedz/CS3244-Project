{
 "cells": [
  {
   "cell_type": "code",
   "execution_count": 1,
   "metadata": {},
   "outputs": [],
   "source": [
    "import pandas as pd\n",
    "import seaborn as sns\n",
    "import numpy as np\n",
    "import matplotlib.pyplot as plt\n",
    "from factor_analyzer import FactorAnalyzer\n",
    "from sklearn.decomposition import FactorAnalysis\n",
    "from sklearn.preprocessing import StandardScaler\n",
    "from mpl_toolkits.mplot3d import Axes3D\n",
    "from sklearn.pipeline import Pipeline"
   ]
  },
  {
   "cell_type": "code",
   "execution_count": 2,
   "metadata": {},
   "outputs": [
    {
     "name": "stdout",
     "output_type": "stream",
     "text": [
      "shape of train:  (7767, 563) shape of test:  (3162, 563)\n"
     ]
    }
   ],
   "source": [
    "train = pd.read_csv(\"./input/Train/train.csv\")\n",
    "test = pd.read_csv(\"./input/Test/test.csv\")\n",
    "\n",
    "print(\"shape of train: \", train.shape, \"shape of test: \", test.shape)"
   ]
  },
  {
   "cell_type": "code",
   "execution_count": 3,
   "metadata": {},
   "outputs": [],
   "source": [
    "from sklearn.model_selection import train_test_split\n",
    "from sklearn.preprocessing import StandardScaler"
   ]
  },
  {
   "cell_type": "code",
   "execution_count": 248,
   "metadata": {},
   "outputs": [
    {
     "name": "stdout",
     "output_type": "stream",
     "text": [
      "(5825, 561)\n",
      "(3162, 561)\n"
     ]
    }
   ],
   "source": [
    "# First, we need to standardize the data to get better performance\n",
    "features = train.columns.values.tolist()\n",
    "features.remove('Activity')\n",
    "features.remove('subject')\n",
    "\n",
    "# Separating out the features\n",
    "x = train.loc[:, features].values\n",
    "test_features = test.loc[:, features].values\n",
    "\n",
    "# Separating out the target\n",
    "y = train.loc[:,['Activity']].values\n",
    "test_labels = test.loc[:,['Activity']].values\n",
    "\n",
    "train_features, validation_features, train_labels, validation_labels = train_test_split(x, y, test_size=0.25, random_state=1300)\n",
    "\n",
    "train_labels = pd.DataFrame(train_labels, columns=['Activity'])\n",
    "validation_labels = pd.DataFrame(validation_labels, columns=['Activity'])\n",
    "print(train_features.shape)\n",
    "print(test_features.shape)"
   ]
  },
  {
   "cell_type": "code",
   "execution_count": 6,
   "metadata": {},
   "outputs": [],
   "source": [
    "from sklearn.neural_network import MLPClassifier"
   ]
  },
  {
   "cell_type": "code",
   "execution_count": 195,
   "metadata": {},
   "outputs": [],
   "source": [
    "mlp = MLPClassifier(hidden_layer_sizes=(10, 10), max_iter=1000, solver='adam', activation='relu', verbose=False)"
   ]
  },
  {
   "cell_type": "code",
   "execution_count": 196,
   "metadata": {},
   "outputs": [
    {
     "data": {
      "text/plain": [
       "MLPClassifier(hidden_layer_sizes=(10, 10), max_iter=1000)"
      ]
     },
     "execution_count": 196,
     "metadata": {},
     "output_type": "execute_result"
    }
   ],
   "source": [
    "mlp.fit(train_features, np.ravel(train_labels))"
   ]
  },
  {
   "cell_type": "code",
   "execution_count": 197,
   "metadata": {},
   "outputs": [
    {
     "data": {
      "text/plain": [
       "array(['WALKING', 'WALKING_DOWNSTAIRS', 'LAYING', ..., 'WALKING',\n",
       "       'STANDING', 'WALKING_DOWNSTAIRS'], dtype='<U18')"
      ]
     },
     "execution_count": 197,
     "metadata": {},
     "output_type": "execute_result"
    }
   ],
   "source": [
    "pred_train = mlp.predict(train_features)\n",
    "pred_train"
   ]
  },
  {
   "cell_type": "code",
   "execution_count": 198,
   "metadata": {},
   "outputs": [],
   "source": [
    "from sklearn.metrics import classification_report, confusion_matrix"
   ]
  },
  {
   "cell_type": "code",
   "execution_count": 199,
   "metadata": {},
   "outputs": [
    {
     "data": {
      "text/plain": [
       "array([[1049,    0,    0,    0,    0,    0,    0,    0,    0,    0,    0,\n",
       "           0],\n",
       "       [   0,   36,    8,    0,    0,    0,    0,    0,    0,    0,    0,\n",
       "           0],\n",
       "       [   1,   13,   25,    0,    0,    0,    0,    0,    0,    0,    0,\n",
       "           0],\n",
       "       [   0,    0,    0,  926,    0,    1,   30,    0,    0,    0,    0,\n",
       "           0],\n",
       "       [   0,    0,    0,    0,   43,    0,    0,   12,    0,    0,    0,\n",
       "           0],\n",
       "       [   0,    0,    0,    1,    0,   14,    0,    0,    1,    0,    0,\n",
       "           0],\n",
       "       [   0,    0,    0,    7,    0,    0, 1059,    0,    0,    0,    0,\n",
       "           0],\n",
       "       [   0,    0,    2,    0,    3,    0,    0,   64,    1,    0,    0,\n",
       "           0],\n",
       "       [   0,    0,    0,    0,    0,    0,    0,    1,   38,    0,    0,\n",
       "           0],\n",
       "       [   0,    0,    0,    0,    0,    0,    0,    0,    0,  928,    0,\n",
       "           0],\n",
       "       [   0,    0,    0,    0,    0,    0,    0,    0,    0,    0,  757,\n",
       "           0],\n",
       "       [   0,    0,    0,    0,    0,    0,    0,    0,    0,    0,    0,\n",
       "         805]], dtype=int64)"
      ]
     },
     "execution_count": 199,
     "metadata": {},
     "output_type": "execute_result"
    }
   ],
   "source": [
    "confusion_matrix(train_labels, pred_train)"
   ]
  },
  {
   "cell_type": "code",
   "execution_count": 200,
   "metadata": {},
   "outputs": [
    {
     "name": "stdout",
     "output_type": "stream",
     "text": [
      "                    precision    recall  f1-score   support\n",
      "\n",
      "            LAYING       1.00      1.00      1.00      1049\n",
      "        LIE_TO_SIT       0.73      0.82      0.77        44\n",
      "      LIE_TO_STAND       0.71      0.64      0.68        39\n",
      "           SITTING       0.99      0.97      0.98       957\n",
      "        SIT_TO_LIE       0.93      0.78      0.85        55\n",
      "      SIT_TO_STAND       0.93      0.88      0.90        16\n",
      "          STANDING       0.97      0.99      0.98      1066\n",
      "      STAND_TO_LIE       0.83      0.91      0.87        70\n",
      "      STAND_TO_SIT       0.95      0.97      0.96        39\n",
      "           WALKING       1.00      1.00      1.00       928\n",
      "WALKING_DOWNSTAIRS       1.00      1.00      1.00       757\n",
      "  WALKING_UPSTAIRS       1.00      1.00      1.00       805\n",
      "\n",
      "          accuracy                           0.99      5825\n",
      "         macro avg       0.92      0.91      0.92      5825\n",
      "      weighted avg       0.99      0.99      0.99      5825\n",
      "\n"
     ]
    }
   ],
   "source": [
    "print(classification_report(train_labels, pred_train, zero_division=0))"
   ]
  },
  {
   "cell_type": "code",
   "execution_count": 201,
   "metadata": {},
   "outputs": [
    {
     "data": {
      "text/plain": [
       "array(['STANDING', 'WALKING_UPSTAIRS', 'SITTING', ...,\n",
       "       'WALKING_DOWNSTAIRS', 'LAYING', 'LAYING'], dtype='<U18')"
      ]
     },
     "execution_count": 201,
     "metadata": {},
     "output_type": "execute_result"
    }
   ],
   "source": [
    "pred = mlp.predict(validation_features)\n",
    "pred"
   ]
  },
  {
   "cell_type": "code",
   "execution_count": 202,
   "metadata": {},
   "outputs": [
    {
     "data": {
      "text/plain": [
       "array([[360,   0,   2,   1,   1,   0,   0,   0,   0,   0,   0,   0],\n",
       "       [  0,  14,   1,   0,   0,   0,   0,   1,   0,   0,   0,   0],\n",
       "       [  0,   8,   8,   1,   0,   0,   0,   1,   0,   0,   0,   0],\n",
       "       [  0,   0,   0, 311,   0,   0,  25,   0,   0,   0,   0,   0],\n",
       "       [  0,   0,   0,   0,  10,   1,   1,   7,   1,   0,   0,   0],\n",
       "       [  0,   0,   0,   1,   0,   5,   0,   0,   1,   0,   0,   0],\n",
       "       [  0,   0,   0,   5,   0,   0, 352,   0,   0,   0,   0,   0],\n",
       "       [  0,   0,   0,   0,   6,   0,   0,  13,   1,   0,   0,   0],\n",
       "       [  0,   0,   0,   0,   0,   0,   0,   0,   8,   0,   0,   0],\n",
       "       [  0,   0,   0,   0,   0,   0,   0,   0,   0, 297,   1,   0],\n",
       "       [  0,   0,   0,   0,   0,   0,   0,   0,   0,   1, 229,   0],\n",
       "       [  0,   0,   0,   0,   0,   0,   0,   0,   0,   0,   2, 266]],\n",
       "      dtype=int64)"
      ]
     },
     "execution_count": 202,
     "metadata": {},
     "output_type": "execute_result"
    }
   ],
   "source": [
    "confusion_matrix(validation_labels, pred)"
   ]
  },
  {
   "cell_type": "code",
   "execution_count": 203,
   "metadata": {},
   "outputs": [
    {
     "name": "stdout",
     "output_type": "stream",
     "text": [
      "                    precision    recall  f1-score   support\n",
      "\n",
      "            LAYING       1.00      0.99      0.99       364\n",
      "        LIE_TO_SIT       0.64      0.88      0.74        16\n",
      "      LIE_TO_STAND       0.73      0.44      0.55        18\n",
      "           SITTING       0.97      0.93      0.95       336\n",
      "        SIT_TO_LIE       0.59      0.50      0.54        20\n",
      "      SIT_TO_STAND       0.83      0.71      0.77         7\n",
      "          STANDING       0.93      0.99      0.96       357\n",
      "      STAND_TO_LIE       0.59      0.65      0.62        20\n",
      "      STAND_TO_SIT       0.73      1.00      0.84         8\n",
      "           WALKING       1.00      1.00      1.00       298\n",
      "WALKING_DOWNSTAIRS       0.99      1.00      0.99       230\n",
      "  WALKING_UPSTAIRS       1.00      0.99      1.00       268\n",
      "\n",
      "          accuracy                           0.96      1942\n",
      "         macro avg       0.83      0.84      0.83      1942\n",
      "      weighted avg       0.97      0.96      0.96      1942\n",
      "\n"
     ]
    }
   ],
   "source": [
    "print(classification_report(validation_labels, pred, zero_division=0))"
   ]
  },
  {
   "cell_type": "code",
   "execution_count": 204,
   "metadata": {},
   "outputs": [
    {
     "name": "stdout",
     "output_type": "stream",
     "text": [
      "(3162, 561)\n"
     ]
    }
   ],
   "source": [
    "# First, we need to standardize the data to get better performance\n",
    "test_features = test.columns.values.tolist()\n",
    "test_features.remove('Activity')\n",
    "test_features.remove('subject')\n",
    "\n",
    "# Separating out the features\n",
    "x_test = test.loc[:, test_features].values\n",
    "\n",
    "# Separating out the target\n",
    "y_test = test.loc[:,['Activity']].values\n",
    "\n",
    "print(x_test.shape)"
   ]
  },
  {
   "cell_type": "code",
   "execution_count": 205,
   "metadata": {},
   "outputs": [
    {
     "data": {
      "text/plain": [
       "array(['STANDING', 'STANDING', 'STANDING', ..., 'WALKING_UPSTAIRS',\n",
       "       'WALKING_UPSTAIRS', 'WALKING_UPSTAIRS'], dtype='<U18')"
      ]
     },
     "execution_count": 205,
     "metadata": {},
     "output_type": "execute_result"
    }
   ],
   "source": [
    "result = mlp.predict(x_test)\n",
    "result"
   ]
  },
  {
   "cell_type": "code",
   "execution_count": 206,
   "metadata": {},
   "outputs": [
    {
     "data": {
      "text/plain": [
       "array([[539,   0,   3,   0,   0,   0,   2,   0,   0,   0,   0,   1],\n",
       "       [  0,  16,   8,   0,   0,   0,   0,   0,   1,   0,   0,   0],\n",
       "       [  0,  13,  10,   0,   0,   0,   0,   1,   2,   0,   0,   1],\n",
       "       [  0,   0,   0, 427,   0,   0,  77,   1,   3,   0,   0,   0],\n",
       "       [  0,   0,   0,   0,  21,   0,   0,  10,   0,   0,   0,   1],\n",
       "       [  0,   0,   0,   0,   0,   9,   0,   0,   1,   0,   0,   0],\n",
       "       [  0,   0,   0,   8,   0,   0, 545,   0,   2,   1,   0,   0],\n",
       "       [  0,   1,   0,   1,  10,   0,   2,  24,   9,   0,   0,   2],\n",
       "       [  0,   0,   0,   2,   0,   2,   0,   3,  14,   1,   0,   1],\n",
       "       [  0,   0,   0,   0,   0,   0,   0,   0,   0, 479,   3,  14],\n",
       "       [  0,   0,   0,   0,   0,   0,   0,   0,   0,   9, 395,  16],\n",
       "       [  0,   0,   0,   0,   0,   0,   0,   1,   3,  51,   3, 413]],\n",
       "      dtype=int64)"
      ]
     },
     "execution_count": 206,
     "metadata": {},
     "output_type": "execute_result"
    }
   ],
   "source": [
    "confusion_matrix(y_test, result)"
   ]
  },
  {
   "cell_type": "code",
   "execution_count": 208,
   "metadata": {},
   "outputs": [
    {
     "name": "stdout",
     "output_type": "stream",
     "text": [
      "                    precision    recall  f1-score   support\n",
      "\n",
      "            LAYING       1.00      0.99      0.99       545\n",
      "        LIE_TO_SIT       0.53      0.64      0.58        25\n",
      "      LIE_TO_STAND       0.48      0.37      0.42        27\n",
      "           SITTING       0.97      0.84      0.90       508\n",
      "        SIT_TO_LIE       0.68      0.66      0.67        32\n",
      "      SIT_TO_STAND       0.82      0.90      0.86        10\n",
      "          STANDING       0.87      0.98      0.92       556\n",
      "      STAND_TO_LIE       0.60      0.49      0.54        49\n",
      "      STAND_TO_SIT       0.40      0.61      0.48        23\n",
      "           WALKING       0.89      0.97      0.92       496\n",
      "WALKING_DOWNSTAIRS       0.99      0.94      0.96       420\n",
      "  WALKING_UPSTAIRS       0.92      0.88      0.90       471\n",
      "\n",
      "          accuracy                           0.91      3162\n",
      "         macro avg       0.76      0.77      0.76      3162\n",
      "      weighted avg       0.92      0.91      0.91      3162\n",
      "\n"
     ]
    }
   ],
   "source": [
    "print(classification_report(y_test, result, zero_division=0))"
   ]
  },
  {
   "cell_type": "markdown",
   "metadata": {},
   "source": [
    "### Train on selected features from RFE"
   ]
  },
  {
   "cell_type": "code",
   "execution_count": 301,
   "metadata": {},
   "outputs": [
    {
     "data": {
      "text/plain": [
       "(131,)"
      ]
     },
     "execution_count": 301,
     "metadata": {},
     "output_type": "execute_result"
    }
   ],
   "source": [
    "rfe_features = np.array(['tBodyAcc-Mean-1                ', 'tBodyAcc-Mean-2                ',\n",
    " 'tBodyAcc-STD-1                 ', 'tBodyAcc-Mad-1                 ',\n",
    " 'tBodyAcc-Max-1                 ', 'tBodyAcc-Energy-1              ',\n",
    " 'tBodyAcc-ropy-1                ', 'tBodyAcc-Correlation-1         ',\n",
    " 'tBodyAcc-Correlation-3         ', 'tGravityAcc-Mean-1             ',\n",
    " 'tGravityAcc-Mean-2             ', 'tGravityAcc-Mean-3             ',\n",
    " 'tGravityAcc-STD-1              ', 'tGravityAcc-Mad-1              ',\n",
    " 'tGravityAcc-Mad-2              ', 'tGravityAcc-Max-1              ',\n",
    " 'tGravityAcc-Max-2              ', 'tGravityAcc-Max-3              ',\n",
    " 'tGravityAcc-Min-1              ', 'tGravityAcc-Min-2              ',\n",
    " 'tGravityAcc-Min-3              ', 'tGravityAcc-SMA-1              ',\n",
    " 'tGravityAcc-Energy-1           ', 'tGravityAcc-Energy-2           ',\n",
    " 'tGravityAcc-Energy-3           ', 'tGravityAcc-ropy-1             ',\n",
    " 'tGravityAcc-ropy-1             .1', 'tGravityAcc-ARCoeff-1          ',\n",
    " 'tGravityAcc-ARCoeff-2          ', 'tGravityAcc-ARCoeff-3          ',\n",
    " 'tGravityAcc-ARCoeff-4          ', 'tGravityAcc-ARCoeff-5          ',\n",
    " 'tGravityAcc-ARCoeff-6          ', 'tGravityAcc-ARCoeff-7          ',\n",
    " 'tGravityAcc-ARCoeff-8          ', 'tGravityAcc-ARCoeff-9          ',\n",
    " 'tGravityAcc-ARCoeff-10         ', 'tGravityAcc-ARCoeff-11         ',\n",
    " 'tGravityAcc-ARCoeff-12         ', 'tGravityAcc-Correlation-1      ',\n",
    " 'tBodyAccJerk-STD-1             ', 'tBodyAccJerk-Mad-1             ',\n",
    " 'tBodyAccJerk-Mad-2             ', 'tBodyAccJerk-Max-1             ',\n",
    " 'tBodyAccJerk-SMA-1             ', 'tBodyAccJerk-Energy-1          ',\n",
    " 'tBodyAccJerk-IQR-1             ', 'tBodyAccJerk-IQR-2             ',\n",
    " 'tBodyAccJerk-ropy-1            ', 'tBodyAccJerk-ropy-1            .1',\n",
    " 'tBodyGyro-STD-1                ', 'tBodyGyro-Mad-1                ',\n",
    " 'tBodyGyro-Mad-2                ', 'tBodyGyro-Max-1                ',\n",
    " 'tBodyGyro-Min-1                ', 'tBodyGyro-IQR-1                ',\n",
    " 'tBodyGyro-IQR-2                ', 'tBodyGyro-IQR-3                ',\n",
    " 'tBodyGyro-ropy-1               ', 'tBodyGyro-Correlation-3        ',\n",
    " 'tBodyGyroJerk-STD-1            ', 'tBodyGyroJerk-Mad-1            ',\n",
    " 'tBodyGyroJerk-SMA-1            ', 'tBodyGyroJerk-Energy-1         ',\n",
    " 'tBodyGyroJerk-IQR-1            ', 'tBodyGyroJerk-IQR-3            ',\n",
    " 'tBodyGyroJerk-Correlation-1    ', 'tBodyAccMag-Mean-1             ',\n",
    " 'tBodyAccMag-STD-1              ', 'tBodyAccMag-Mad-1              ',\n",
    " 'tBodyAccMag-SMA-1              ', 'tBodyAccMag-ARCoeff-1          ',\n",
    " 'tBodyAccMag-ARCoeff-2          ', 'tGravityAccMag-Mean-1          ',\n",
    " 'tGravityAccMag-STD-1           ', 'tGravityAccMag-Mad-1           ',\n",
    " 'tGravityAccMag-Energy-1        ', 'tGravityAccMag-ARCoeff-1       ',\n",
    " 'tGravityAccMag-ARCoeff-2       ', 'tBodyAccJerkMag-Mean-1         ',\n",
    " 'tBodyAccJerkMag-Mad-1          ', 'tBodyAccJerkMag-SMA-1          ',\n",
    " 'tBodyAccJerkMag-Energy-1       ', 'tBodyAccJerkMag-IQR-1          ',\n",
    " 'tBodyAccJerkMag-ropy-1         ', 'fBodyAcc-Mean-1                ',\n",
    " 'fBodyAcc-STD-1                 ', 'fBodyAcc-Mad-1                 ',\n",
    " 'fBodyAcc-Max-1                 ', 'fBodyAcc-SMA-1                 ',\n",
    " 'fBodyAcc-Energy-1              ', 'fBodyAcc-MaxInds-1             ',\n",
    " 'fBodyAcc-MeanFreq-3            ', 'fBodyAcc-BandsEnergyOld-1      ',\n",
    " 'fBodyAcc-BandsEnergyOld-9      ', 'fBodyAcc-BandsEnergyOld-13     ',\n",
    " 'fBodyAccJerk-STD-1             ', 'fBodyAccJerk-Max-1             ',\n",
    " 'fBodyAccJerk-Energy-1          ', 'fBodyAccJerk-ropy-1            ',\n",
    " 'fBodyAccJerk-MaxInds-1         ', 'fBodyAccJerk-MaxInds-3         ',\n",
    " 'fBodyAccJerk-BandsEnergyOld-1  ', 'fBodyAccJerk-BandsEnergyOld-9  ',\n",
    " 'fBodyAccJerk-BandsEnergyOld-13 ', 'fBodyGyro-Mean-1               ',\n",
    " 'fBodyGyro-STD-1                ', 'fBodyGyro-STD-3                ',\n",
    " 'fBodyGyro-Mad-1                ', 'fBodyGyro-Max-1                ',\n",
    " 'fBodyGyro-Max-2                ', 'fBodyGyro-Max-3                ',\n",
    " 'fBodyGyro-MaxInds-1            ', 'fBodyGyro-MaxInds-3            ',\n",
    " 'fBodyGyro-MeanFreq-1           ', 'fBodyGyro-Skewness-1           .2',\n",
    " 'fBodyGyro-BandsEnergyOld-1     ', 'fBodyGyro-BandsEnergyOld-2     ',\n",
    " 'fBodyGyro-BandsEnergyOld-9     ', 'fBodyGyro-BandsEnergyOld-13    ',\n",
    " 'fBodyGyro-BandsEnergyOld-15    ', 'fBodyGyro-BandsEnergyOld-41    ',\n",
    " 'fBodyAccMag-Mean-1             ', 'fBodyAccMag-STD-1              ',\n",
    " 'fBodyAccMag-Mad-1              ', 'fBodyAccMag-Max-1              ',\n",
    " 'fBodyAccMag-SMA-1              ', 'fBodyAccMag-Energy-1           ',\n",
    " 'tXAxisAcc-AngleWRTGravity-1    ', 'tYAxisAcc-AngleWRTGravity-1    ',\n",
    " 'tZAxisAcc-AngleWRTGravity-1    ']\n",
    ")\n",
    "\n",
    "rfe_features.shape"
   ]
  },
  {
   "cell_type": "code",
   "execution_count": 523,
   "metadata": {},
   "outputs": [],
   "source": [
    "# Imports\n",
    "import tensorflow\n",
    "from tensorflow.keras.models import Sequential\n",
    "from tensorflow.keras.layers import Dense, Dropout\n",
    "from tensorflow.keras.utils import to_categorical"
   ]
  },
  {
   "cell_type": "code",
   "execution_count": 524,
   "metadata": {},
   "outputs": [],
   "source": [
    "# Configuration options\n",
    "feature_vector_length = 561\n",
    "num_classes = 12"
   ]
  },
  {
   "cell_type": "code",
   "execution_count": 525,
   "metadata": {},
   "outputs": [
    {
     "name": "stdout",
     "output_type": "stream",
     "text": [
      "(7767, 561)\n",
      "(3162, 561)\n",
      "(7767, 1)\n",
      "(3162, 1)\n"
     ]
    }
   ],
   "source": [
    "# First, we need to standardize the data to get better performance\n",
    "features = train.columns.values.tolist()\n",
    "features.remove('Activity')\n",
    "features.remove('subject')\n",
    "\n",
    "# Separating out the features\n",
    "train_features = train.loc[:, features].values\n",
    "test_features = test.loc[:, features].values\n",
    "\n",
    "# Separating out the target\n",
    "train_labels = train.loc[:,['Activity']].values\n",
    "test_labels = test.loc[:,['Activity']].values\n",
    "\n",
    "train_labels = pd.DataFrame(train_labels, columns=['Activity'])\n",
    "validation_labels = pd.DataFrame(validation_labels, columns=['Activity'])\n",
    "\n",
    "print(train_features.shape)\n",
    "print(test_features.shape)\n",
    "\n",
    "mapping = {\n",
    "  \"WALKING\": 1,\n",
    "  \"WALKING_UPSTAIRS\": 2,\n",
    "  \"WALKING_DOWNSTAIRS\": 3,\n",
    "  \"SITTING\": 4,\n",
    "  \"STANDING\": 5,\n",
    "  \"LAYING\": 6,\n",
    "  \"STAND_TO_SIT\": 7,\n",
    "  \"SIT_TO_STAND\": 8,\n",
    "  \"SIT_TO_LIE\": 9,\n",
    "  \"LIE_TO_SIT\": 10,\n",
    "  \"STAND_TO_LIE\": 11,\n",
    "  \"LIE_TO_STAND\": 12\n",
    "}\n",
    "\n",
    "mapToNumber = lambda x: mapping[x] - 1\n",
    "vfunc = np.vectorize(mapToNumber)\n",
    "train_labels = vfunc(train_labels)\n",
    "test_labels = vfunc(test_labels)\n",
    "print(train_labels.shape)\n",
    "print(test_labels.shape)"
   ]
  },
  {
   "cell_type": "code",
   "execution_count": 526,
   "metadata": {},
   "outputs": [],
   "source": [
    "X_train = train_features\n",
    "X_test = test_features\n",
    "\n",
    "Y_train = to_categorical(train_labels, num_classes)\n",
    "Y_test = to_categorical(test_labels, num_classes)"
   ]
  },
  {
   "cell_type": "code",
   "execution_count": 527,
   "metadata": {},
   "outputs": [],
   "source": [
    "input_shape = (feature_vector_length,)\n",
    "\n",
    "model = Sequential()\n",
    "model.add(Dense(70, input_shape=input_shape, activation='relu'))\n",
    "model.add(Dropout(0.1))\n",
    "model.add(Dense(30, activation='relu'))\n",
    "model.add(Dense(num_classes, activation='softmax'))"
   ]
  },
  {
   "cell_type": "code",
   "execution_count": 528,
   "metadata": {},
   "outputs": [
    {
     "data": {
      "text/plain": [
       "<keras.callbacks.History at 0x20d8243eb50>"
      ]
     },
     "execution_count": 528,
     "metadata": {},
     "output_type": "execute_result"
    }
   ],
   "source": [
    "model.compile(loss='categorical_crossentropy', optimizer='adam', metrics=['accuracy'])\n",
    "model.fit(X_train, Y_train, epochs=60, batch_size=250, verbose=0, validation_split=0.2)"
   ]
  },
  {
   "cell_type": "code",
   "execution_count": 529,
   "metadata": {},
   "outputs": [
    {
     "name": "stdout",
     "output_type": "stream",
     "text": [
      "99/99 [==============================] - 0s 490us/step - loss: 0.2291 - accuracy: 0.9279\n"
     ]
    }
   ],
   "source": [
    "test_results = model.evaluate(X_test, Y_test, verbose=1)"
   ]
  },
  {
   "cell_type": "code",
   "execution_count": 530,
   "metadata": {},
   "outputs": [],
   "source": [
    "# Configuration options\n",
    "feature_vector_length = 131\n",
    "num_classes = 12"
   ]
  },
  {
   "cell_type": "code",
   "execution_count": 531,
   "metadata": {},
   "outputs": [
    {
     "name": "stdout",
     "output_type": "stream",
     "text": [
      "(7767, 131)\n",
      "(3162, 131)\n",
      "(7767, 1)\n",
      "(3162, 1)\n"
     ]
    }
   ],
   "source": [
    "# First, we need to standardize the data to get better performance\n",
    "features = rfe_features\n",
    "\n",
    "# Separating out the features\n",
    "train_features = train.loc[:, features].values\n",
    "test_features = test.loc[:, features].values\n",
    "\n",
    "# Separating out the target\n",
    "train_labels = train.loc[:,['Activity']].values\n",
    "test_labels = test.loc[:,['Activity']].values\n",
    "\n",
    "train_labels = pd.DataFrame(train_labels, columns=['Activity'])\n",
    "validation_labels = pd.DataFrame(validation_labels, columns=['Activity'])\n",
    "\n",
    "print(train_features.shape)\n",
    "print(test_features.shape)\n",
    "\n",
    "mapping = {\n",
    "  \"WALKING\": 1,\n",
    "  \"WALKING_UPSTAIRS\": 2,\n",
    "  \"WALKING_DOWNSTAIRS\": 3,\n",
    "  \"SITTING\": 4,\n",
    "  \"STANDING\": 5,\n",
    "  \"LAYING\": 6,\n",
    "  \"STAND_TO_SIT\": 7,\n",
    "  \"SIT_TO_STAND\": 8,\n",
    "  \"SIT_TO_LIE\": 9,\n",
    "  \"LIE_TO_SIT\": 10,\n",
    "  \"STAND_TO_LIE\": 11,\n",
    "  \"LIE_TO_STAND\": 12\n",
    "}\n",
    "\n",
    "mapToNumber = lambda x: mapping[x] - 1\n",
    "vfunc = np.vectorize(mapToNumber)\n",
    "train_labels = vfunc(train_labels)\n",
    "test_labels = vfunc(test_labels)\n",
    "print(train_labels.shape)\n",
    "print(test_labels.shape)"
   ]
  },
  {
   "cell_type": "code",
   "execution_count": 532,
   "metadata": {},
   "outputs": [],
   "source": [
    "X_train = train_features\n",
    "X_test = test_features\n",
    "\n",
    "Y_train = to_categorical(train_labels, num_classes)\n",
    "Y_test = to_categorical(test_labels, num_classes)"
   ]
  },
  {
   "cell_type": "code",
   "execution_count": 533,
   "metadata": {},
   "outputs": [],
   "source": [
    "input_shape = (feature_vector_length,)\n",
    "\n",
    "model = Sequential()\n",
    "model.add(Dense(70, input_shape=input_shape, activation='relu'))\n",
    "model.add(Dropout(0.1))\n",
    "model.add(Dense(30, activation='relu'))\n",
    "model.add(Dense(num_classes, activation='softmax'))"
   ]
  },
  {
   "cell_type": "code",
   "execution_count": 534,
   "metadata": {},
   "outputs": [
    {
     "name": "stdout",
     "output_type": "stream",
     "text": [
      "Epoch 1/60\n",
      "25/25 [==============================] - 0s 5ms/step - loss: 1.7657 - accuracy: 0.3892 - val_loss: 1.2775 - val_accuracy: 0.5644\n",
      "Epoch 2/60\n",
      "25/25 [==============================] - 0s 2ms/step - loss: 1.1278 - accuracy: 0.6350 - val_loss: 0.7740 - val_accuracy: 0.8353\n",
      "Epoch 3/60\n",
      "25/25 [==============================] - 0s 2ms/step - loss: 0.7554 - accuracy: 0.7706 - val_loss: 0.5171 - val_accuracy: 0.8668\n",
      "Epoch 4/60\n",
      "25/25 [==============================] - 0s 2ms/step - loss: 0.5614 - accuracy: 0.8136 - val_loss: 0.4046 - val_accuracy: 0.8790\n",
      "Epoch 5/60\n",
      "25/25 [==============================] - 0s 2ms/step - loss: 0.4586 - accuracy: 0.8366 - val_loss: 0.3405 - val_accuracy: 0.8867\n",
      "Epoch 6/60\n",
      "25/25 [==============================] - 0s 2ms/step - loss: 0.3883 - accuracy: 0.8584 - val_loss: 0.2978 - val_accuracy: 0.8983\n",
      "Epoch 7/60\n",
      "25/25 [==============================] - 0s 2ms/step - loss: 0.3396 - accuracy: 0.8783 - val_loss: 0.2686 - val_accuracy: 0.9048\n",
      "Epoch 8/60\n",
      "25/25 [==============================] - 0s 2ms/step - loss: 0.3108 - accuracy: 0.8857 - val_loss: 0.2486 - val_accuracy: 0.9060\n",
      "Epoch 9/60\n",
      "25/25 [==============================] - 0s 2ms/step - loss: 0.2728 - accuracy: 0.9034 - val_loss: 0.2384 - val_accuracy: 0.9106\n",
      "Epoch 10/60\n",
      "25/25 [==============================] - 0s 2ms/step - loss: 0.2574 - accuracy: 0.9057 - val_loss: 0.2222 - val_accuracy: 0.9138\n",
      "Epoch 11/60\n",
      "25/25 [==============================] - 0s 2ms/step - loss: 0.2389 - accuracy: 0.9128 - val_loss: 0.2210 - val_accuracy: 0.9086\n",
      "Epoch 12/60\n",
      "25/25 [==============================] - 0s 2ms/step - loss: 0.2324 - accuracy: 0.9132 - val_loss: 0.2314 - val_accuracy: 0.9086\n",
      "Epoch 13/60\n",
      "25/25 [==============================] - 0s 2ms/step - loss: 0.2105 - accuracy: 0.9219 - val_loss: 0.2141 - val_accuracy: 0.9073\n",
      "Epoch 14/60\n",
      "25/25 [==============================] - 0s 2ms/step - loss: 0.2010 - accuracy: 0.9235 - val_loss: 0.2005 - val_accuracy: 0.9189\n",
      "Epoch 15/60\n",
      "25/25 [==============================] - 0s 2ms/step - loss: 0.1897 - accuracy: 0.9268 - val_loss: 0.2024 - val_accuracy: 0.9215\n",
      "Epoch 16/60\n",
      "25/25 [==============================] - 0s 2ms/step - loss: 0.1825 - accuracy: 0.9327 - val_loss: 0.1930 - val_accuracy: 0.9241\n",
      "Epoch 17/60\n",
      "25/25 [==============================] - 0s 2ms/step - loss: 0.1747 - accuracy: 0.9319 - val_loss: 0.1965 - val_accuracy: 0.9202\n",
      "Epoch 18/60\n",
      "25/25 [==============================] - 0s 2ms/step - loss: 0.1742 - accuracy: 0.9345 - val_loss: 0.2000 - val_accuracy: 0.9228\n",
      "Epoch 19/60\n",
      "25/25 [==============================] - 0s 2ms/step - loss: 0.1617 - accuracy: 0.9361 - val_loss: 0.2008 - val_accuracy: 0.9215\n",
      "Epoch 20/60\n",
      "25/25 [==============================] - 0s 2ms/step - loss: 0.1611 - accuracy: 0.9342 - val_loss: 0.1927 - val_accuracy: 0.9241\n",
      "Epoch 21/60\n",
      "25/25 [==============================] - 0s 2ms/step - loss: 0.1543 - accuracy: 0.9385 - val_loss: 0.1914 - val_accuracy: 0.9273\n",
      "Epoch 22/60\n",
      "25/25 [==============================] - 0s 2ms/step - loss: 0.1535 - accuracy: 0.9421 - val_loss: 0.2054 - val_accuracy: 0.9215\n",
      "Epoch 23/60\n",
      "25/25 [==============================] - 0s 2ms/step - loss: 0.1514 - accuracy: 0.9398 - val_loss: 0.2012 - val_accuracy: 0.9234\n",
      "Epoch 24/60\n",
      "25/25 [==============================] - 0s 2ms/step - loss: 0.1468 - accuracy: 0.9422 - val_loss: 0.1872 - val_accuracy: 0.9279\n",
      "Epoch 25/60\n",
      "25/25 [==============================] - 0s 2ms/step - loss: 0.1402 - accuracy: 0.9450 - val_loss: 0.1900 - val_accuracy: 0.9292\n",
      "Epoch 26/60\n",
      "25/25 [==============================] - 0s 2ms/step - loss: 0.1359 - accuracy: 0.9469 - val_loss: 0.1838 - val_accuracy: 0.9273\n",
      "Epoch 27/60\n",
      "25/25 [==============================] - 0s 2ms/step - loss: 0.1302 - accuracy: 0.9501 - val_loss: 0.1872 - val_accuracy: 0.9266\n",
      "Epoch 28/60\n",
      "25/25 [==============================] - 0s 2ms/step - loss: 0.1302 - accuracy: 0.9493 - val_loss: 0.1859 - val_accuracy: 0.9234\n",
      "Epoch 29/60\n",
      "25/25 [==============================] - 0s 2ms/step - loss: 0.1288 - accuracy: 0.9504 - val_loss: 0.1821 - val_accuracy: 0.9273\n",
      "Epoch 30/60\n",
      "25/25 [==============================] - 0s 2ms/step - loss: 0.1260 - accuracy: 0.9506 - val_loss: 0.1785 - val_accuracy: 0.9305\n",
      "Epoch 31/60\n",
      "25/25 [==============================] - 0s 2ms/step - loss: 0.1204 - accuracy: 0.9540 - val_loss: 0.1820 - val_accuracy: 0.9305\n",
      "Epoch 32/60\n",
      "25/25 [==============================] - 0s 2ms/step - loss: 0.1208 - accuracy: 0.9527 - val_loss: 0.1773 - val_accuracy: 0.9305\n",
      "Epoch 33/60\n",
      "25/25 [==============================] - 0s 2ms/step - loss: 0.1190 - accuracy: 0.9503 - val_loss: 0.1835 - val_accuracy: 0.9279\n",
      "Epoch 34/60\n",
      "25/25 [==============================] - 0s 2ms/step - loss: 0.1154 - accuracy: 0.9553 - val_loss: 0.1849 - val_accuracy: 0.9286\n",
      "Epoch 35/60\n",
      "25/25 [==============================] - 0s 2ms/step - loss: 0.1206 - accuracy: 0.9514 - val_loss: 0.1777 - val_accuracy: 0.9318\n",
      "Epoch 36/60\n",
      "25/25 [==============================] - 0s 2ms/step - loss: 0.1094 - accuracy: 0.9601 - val_loss: 0.1855 - val_accuracy: 0.9311\n",
      "Epoch 37/60\n",
      "25/25 [==============================] - 0s 2ms/step - loss: 0.1113 - accuracy: 0.9578 - val_loss: 0.1886 - val_accuracy: 0.9273\n",
      "Epoch 38/60\n",
      "25/25 [==============================] - 0s 2ms/step - loss: 0.1089 - accuracy: 0.9564 - val_loss: 0.1864 - val_accuracy: 0.9299\n",
      "Epoch 39/60\n",
      "25/25 [==============================] - 0s 2ms/step - loss: 0.1071 - accuracy: 0.9567 - val_loss: 0.1903 - val_accuracy: 0.9279\n",
      "Epoch 40/60\n",
      "25/25 [==============================] - 0s 2ms/step - loss: 0.1086 - accuracy: 0.9556 - val_loss: 0.1909 - val_accuracy: 0.9292\n",
      "Epoch 41/60\n",
      "25/25 [==============================] - 0s 2ms/step - loss: 0.1030 - accuracy: 0.9601 - val_loss: 0.1764 - val_accuracy: 0.9318\n",
      "Epoch 42/60\n",
      "25/25 [==============================] - 0s 2ms/step - loss: 0.1012 - accuracy: 0.9591 - val_loss: 0.1785 - val_accuracy: 0.9363\n",
      "Epoch 43/60\n",
      "25/25 [==============================] - 0s 2ms/step - loss: 0.1053 - accuracy: 0.9559 - val_loss: 0.1811 - val_accuracy: 0.9344\n",
      "Epoch 44/60\n",
      "25/25 [==============================] - 0s 2ms/step - loss: 0.0994 - accuracy: 0.9607 - val_loss: 0.1795 - val_accuracy: 0.9337\n",
      "Epoch 45/60\n",
      "25/25 [==============================] - 0s 2ms/step - loss: 0.1032 - accuracy: 0.9594 - val_loss: 0.1816 - val_accuracy: 0.9331\n",
      "Epoch 46/60\n",
      "25/25 [==============================] - 0s 2ms/step - loss: 0.0969 - accuracy: 0.9619 - val_loss: 0.1839 - val_accuracy: 0.9299\n",
      "Epoch 47/60\n",
      "25/25 [==============================] - 0s 2ms/step - loss: 0.0984 - accuracy: 0.9615 - val_loss: 0.1742 - val_accuracy: 0.9350\n",
      "Epoch 48/60\n",
      "25/25 [==============================] - 0s 2ms/step - loss: 0.0944 - accuracy: 0.9601 - val_loss: 0.1767 - val_accuracy: 0.9389\n",
      "Epoch 49/60\n",
      "25/25 [==============================] - 0s 2ms/step - loss: 0.0904 - accuracy: 0.9644 - val_loss: 0.1843 - val_accuracy: 0.9331\n",
      "Epoch 50/60\n",
      "25/25 [==============================] - 0s 2ms/step - loss: 0.0914 - accuracy: 0.9643 - val_loss: 0.1855 - val_accuracy: 0.9382\n",
      "Epoch 51/60\n",
      "25/25 [==============================] - 0s 2ms/step - loss: 0.0938 - accuracy: 0.9639 - val_loss: 0.1859 - val_accuracy: 0.9350\n",
      "Epoch 52/60\n",
      "25/25 [==============================] - ETA: 0s - loss: 0.0760 - accuracy: 0.97 - 0s 2ms/step - loss: 0.0930 - accuracy: 0.9622 - val_loss: 0.1829 - val_accuracy: 0.9344\n",
      "Epoch 53/60\n",
      "25/25 [==============================] - 0s 2ms/step - loss: 0.0911 - accuracy: 0.9643 - val_loss: 0.1893 - val_accuracy: 0.9363\n",
      "Epoch 54/60\n",
      "25/25 [==============================] - 0s 2ms/step - loss: 0.0867 - accuracy: 0.9643 - val_loss: 0.1868 - val_accuracy: 0.9356\n",
      "Epoch 55/60\n",
      "25/25 [==============================] - 0s 2ms/step - loss: 0.0890 - accuracy: 0.9623 - val_loss: 0.1699 - val_accuracy: 0.9402\n",
      "Epoch 56/60\n",
      "25/25 [==============================] - 0s 2ms/step - loss: 0.0905 - accuracy: 0.9627 - val_loss: 0.1748 - val_accuracy: 0.9382\n",
      "Epoch 57/60\n",
      "25/25 [==============================] - 0s 2ms/step - loss: 0.0865 - accuracy: 0.9644 - val_loss: 0.1823 - val_accuracy: 0.9395\n",
      "Epoch 58/60\n",
      "25/25 [==============================] - 0s 2ms/step - loss: 0.0867 - accuracy: 0.9662 - val_loss: 0.1886 - val_accuracy: 0.9382\n"
     ]
    },
    {
     "name": "stdout",
     "output_type": "stream",
     "text": [
      "Epoch 59/60\n",
      "25/25 [==============================] - 0s 2ms/step - loss: 0.0833 - accuracy: 0.9659 - val_loss: 0.1893 - val_accuracy: 0.9356\n",
      "Epoch 60/60\n",
      "25/25 [==============================] - 0s 2ms/step - loss: 0.0824 - accuracy: 0.9680 - val_loss: 0.1876 - val_accuracy: 0.9363\n"
     ]
    },
    {
     "data": {
      "text/plain": [
       "<keras.callbacks.History at 0x20d81876700>"
      ]
     },
     "execution_count": 534,
     "metadata": {},
     "output_type": "execute_result"
    }
   ],
   "source": [
    "model.compile(loss='categorical_crossentropy', optimizer='adam', metrics=['accuracy'])\n",
    "model.fit(X_train, Y_train, epochs=60, batch_size=250, verbose=1, validation_split=0.2)"
   ]
  },
  {
   "cell_type": "code",
   "execution_count": 535,
   "metadata": {},
   "outputs": [
    {
     "name": "stdout",
     "output_type": "stream",
     "text": [
      "99/99 [==============================] - 0s 388us/step - loss: 0.2658 - accuracy: 0.9099\n"
     ]
    }
   ],
   "source": [
    "test_results = model.evaluate(X_test, Y_test, verbose=1)"
   ]
  },
  {
   "cell_type": "code",
   "execution_count": 536,
   "metadata": {},
   "outputs": [
    {
     "name": "stdout",
     "output_type": "stream",
     "text": [
      "shape of train:  (7767, 563) shape of test:  (3162, 563)\n"
     ]
    }
   ],
   "source": [
    "train = pd.read_csv(\"./input/Train/train.csv\")\n",
    "test = pd.read_csv(\"./input/Test/test.csv\")\n",
    "\n",
    "print(\"shape of train: \", train.shape, \"shape of test: \", test.shape)"
   ]
  },
  {
   "cell_type": "code",
   "execution_count": 537,
   "metadata": {},
   "outputs": [],
   "source": [
    "from imblearn.over_sampling import SMOTE\n",
    "\n",
    "# Separating out the features for training data\n",
    "features = train.columns.values.tolist()\n",
    "features.remove('Activity')\n",
    "features.remove('subject')\n",
    "\n",
    "# Separating out the features\n",
    "train_features = train.loc[:, features].values\n",
    "test_features = test.loc[:, features].values\n",
    "\n",
    "# Separating out the target\n",
    "train_labels = train.loc[:,['Activity']].values\n",
    "test_labels = test.loc[:,['Activity']].values\n",
    "\n",
    "# applying smote on training data\n",
    "smt = SMOTE()\n",
    "xtrain_sm, ytrain_sm = smt.fit_resample(train_features, train_labels)\n",
    "\n",
    "train_labels = pd.DataFrame(ytrain_sm, columns=['Activity'])"
   ]
  },
  {
   "cell_type": "code",
   "execution_count": 538,
   "metadata": {},
   "outputs": [],
   "source": [
    "# Configuration options\n",
    "feature_vector_length = 561\n",
    "num_classes = 12"
   ]
  },
  {
   "cell_type": "code",
   "execution_count": 539,
   "metadata": {},
   "outputs": [
    {
     "name": "stdout",
     "output_type": "stream",
     "text": [
      "(17076, 1)\n",
      "(3162, 1)\n"
     ]
    }
   ],
   "source": [
    "mapping = {\n",
    "  \"WALKING\": 1,\n",
    "  \"WALKING_UPSTAIRS\": 2,\n",
    "  \"WALKING_DOWNSTAIRS\": 3,\n",
    "  \"SITTING\": 4,\n",
    "  \"STANDING\": 5,\n",
    "  \"LAYING\": 6,\n",
    "  \"STAND_TO_SIT\": 7,\n",
    "  \"SIT_TO_STAND\": 8,\n",
    "  \"SIT_TO_LIE\": 9,\n",
    "  \"LIE_TO_SIT\": 10,\n",
    "  \"STAND_TO_LIE\": 11,\n",
    "  \"LIE_TO_STAND\": 12\n",
    "}\n",
    "\n",
    "mapToNumber = lambda x: mapping[x] - 1\n",
    "vfunc = np.vectorize(mapToNumber)\n",
    "train_labels = vfunc(train_labels)\n",
    "test_labels = vfunc(test_labels)\n",
    "print(train_labels.shape)\n",
    "print(test_labels.shape)"
   ]
  },
  {
   "cell_type": "code",
   "execution_count": 540,
   "metadata": {},
   "outputs": [],
   "source": [
    "X_train = xtrain_sm\n",
    "X_test = test_features\n",
    "\n",
    "Y_train = to_categorical(train_labels, num_classes)\n",
    "Y_test = to_categorical(test_labels, num_classes)"
   ]
  },
  {
   "cell_type": "code",
   "execution_count": 541,
   "metadata": {},
   "outputs": [],
   "source": [
    "input_shape = (feature_vector_length,)\n",
    "\n",
    "model = Sequential()\n",
    "model.add(Dense(70, input_shape=input_shape, activation='relu'))\n",
    "model.add(Dropout(0.1))\n",
    "model.add(Dense(30, activation='relu'))\n",
    "model.add(Dense(num_classes, activation='softmax'))"
   ]
  },
  {
   "cell_type": "code",
   "execution_count": 542,
   "metadata": {},
   "outputs": [],
   "source": [
    "model.compile(loss='categorical_crossentropy', optimizer='adam', metrics=['accuracy'])\n",
    "model_history = model.fit(X_train, Y_train, epochs=60, batch_size=250, verbose=0, validation_split=0.2)"
   ]
  },
  {
   "cell_type": "code",
   "execution_count": 543,
   "metadata": {},
   "outputs": [
    {
     "name": "stdout",
     "output_type": "stream",
     "text": [
      "99/99 [==============================] - 0s 561us/step - loss: 0.2284 - accuracy: 0.9405\n"
     ]
    }
   ],
   "source": [
    "test_results = model.evaluate(X_test, Y_test, verbose=1)"
   ]
  },
  {
   "cell_type": "code",
   "execution_count": 544,
   "metadata": {},
   "outputs": [
    {
     "data": {
      "image/png": "[encoded data removed]",
      "text/plain": [
       "<Figure size 720x432 with 1 Axes>"
      ]
     },
     "metadata": {
      "needs_background": "light"
     },
     "output_type": "display_data"
    },
    {
     "data": {
      "image/png": "[encoded data removed]",
      "text/plain": [
       "<Figure size 720x432 with 1 Axes>"
      ]
     },
     "metadata": {
      "needs_background": "light"
     },
     "output_type": "display_data"
    }
   ],
   "source": [
    "# Plot the loss function\n",
    "fig, ax = plt.subplots(1, 1, figsize=(10,6))\n",
    "ax.plot(np.sqrt(model_history.history['loss']), 'r', label='train')\n",
    "ax.plot(np.sqrt(model_history.history['val_loss']), 'b' ,label='val')\n",
    "ax.set_xlabel(r'Epoch', fontsize=20)\n",
    "ax.set_ylabel(r'Loss', fontsize=20)\n",
    "ax.legend()\n",
    "ax.tick_params(labelsize=20)\n",
    "\n",
    "# Plot the accuracy\n",
    "fig, ax = plt.subplots(1, 1, figsize=(10,6))\n",
    "ax.plot(np.sqrt(model_history.history['accuracy']), 'r', label='train')\n",
    "ax.plot(np.sqrt(model_history.history['val_accuracy']), 'b' ,label='val')\n",
    "ax.set_xlabel(r'Epoch', fontsize=20)\n",
    "ax.set_ylabel(r'Accuracy', fontsize=20)\n",
    "ax.legend()\n",
    "ax.tick_params(labelsize=20)"
   ]
  },
  {
   "cell_type": "code",
   "execution_count": 545,
   "metadata": {},
   "outputs": [],
   "source": [
    "import numpy\n",
    "from sklearn.model_selection import GridSearchCV\n",
    "from keras.wrappers.scikit_learn import KerasClassifier"
   ]
  },
  {
   "cell_type": "code",
   "execution_count": 546,
   "metadata": {},
   "outputs": [],
   "source": [
    "def create_model_2(optimizer='adam'):\n",
    "    model = Sequential()\n",
    "    model.add(Dense(70, input_shape=input_shape, activation='relu'))\n",
    "    model.add(Dropout(0.1))\n",
    "    model.add(Dense(30, activation='relu'))\n",
    "    model.add(Dense(num_classes, activation='softmax'))\n",
    "\n",
    "    # compile model\n",
    "    model.compile(loss='categorical_crossentropy', optimizer='adam', metrics=['accuracy'])\n",
    "    return model"
   ]
  },
  {
   "cell_type": "code",
   "execution_count": 547,
   "metadata": {},
   "outputs": [],
   "source": [
    "model_init_batch_epoch_CV = KerasClassifier(build_fn=create_model_2, verbose=0)\n",
    "\n",
    "# we choose the initializers that came at the top in our previous cross-validation!!\n",
    "batches = [128, 256, 512]\n",
    "epochs = [40, 50, 60]\n",
    "\n",
    "# grid search for initializer, batch size and number of epochs\n",
    "param_grid = dict(epochs=epochs, batch_size=batches)\n",
    "grid = GridSearchCV(estimator=model_init_batch_epoch_CV, \n",
    "                    param_grid=param_grid,\n",
    "                    cv=3)\n",
    "grid_result = grid.fit(X_train, Y_train)"
   ]
  },
  {
   "cell_type": "code",
   "execution_count": 548,
   "metadata": {},
   "outputs": [
    {
     "name": "stdout",
     "output_type": "stream",
     "text": [
      "Best Accuracy for 0.9687 using {'batch_size': 128, 'epochs': 60}\n",
      "mean=0.9654, std=0.01752 using {'batch_size': 128, 'epochs': 40}\n",
      "mean=0.9599, std=0.006815 using {'batch_size': 128, 'epochs': 50}\n",
      "mean=0.9687, std=0.02222 using {'batch_size': 128, 'epochs': 60}\n",
      "mean=0.9212, std=0.04927 using {'batch_size': 256, 'epochs': 40}\n",
      "mean=0.9637, std=0.02435 using {'batch_size': 256, 'epochs': 50}\n",
      "mean=0.964, std=0.02513 using {'batch_size': 256, 'epochs': 60}\n",
      "mean=0.9097, std=0.03169 using {'batch_size': 512, 'epochs': 40}\n",
      "mean=0.9339, std=0.00359 using {'batch_size': 512, 'epochs': 50}\n",
      "mean=0.9406, std=0.02483 using {'batch_size': 512, 'epochs': 60}\n"
     ]
    }
   ],
   "source": [
    "print(f'Best Accuracy for {grid_result.best_score_:.4} using {grid_result.best_params_}')\n",
    "means = grid_result.cv_results_['mean_test_score']\n",
    "stds = grid_result.cv_results_['std_test_score']\n",
    "params = grid_result.cv_results_['params']\n",
    "for mean, stdev, param in zip(means, stds, params):\n",
    "    print(f'mean={mean:.4}, std={stdev:.4} using {param}')"
   ]
  },
  {
   "cell_type": "code",
   "execution_count": null,
   "metadata": {},
   "outputs": [],
   "source": []
  }
 ],
 "metadata": {
  "kernelspec": {
   "display_name": "Python 3",
   "language": "python",
   "name": "python3"
  },
  "language_info": {
   "codemirror_mode": {
    "name": "ipython",
    "version": 3
   },
   "file_extension": ".py",
   "mimetype": "text/x-python",
   "name": "python",
   "nbconvert_exporter": "python",
   "pygments_lexer": "ipython3",
   "version": "3.8.5"
  }
 },
 "nbformat": 4,
 "nbformat_minor": 4
}

{
 "cells": [
  {
   "cell_type": "code",
   "execution_count": 1,
   "metadata": {},
   "outputs": [],
   "source": [
    "import pandas as pd\n",
    "import seaborn as sns\n",
    "import numpy as np\n",
    "import matplotlib.pyplot as plt\n",
    "from factor_analyzer import FactorAnalyzer\n",
    "from sklearn.decomposition import FactorAnalysis\n",
    "from sklearn.preprocessing import StandardScaler\n",
    "from mpl_toolkits.mplot3d import Axes3D\n",
    "from sklearn.pipeline import Pipeline"
   ]
  },
  {
   "cell_type": "code",
   "execution_count": 2,
   "metadata": {},
   "outputs": [
    {
     "name": "stdout",
     "output_type": "stream",
     "text": [
      "shape of train:  (7767, 563) shape of test:  (3162, 563)\n"
     ]
    }
   ],
   "source": [
    "train = pd.read_csv(\"./input/Train/train.csv\")\n",
    "test = pd.read_csv(\"./input/Test/test.csv\")\n",
    "\n",
    "print(\"shape of train: \", train.shape, \"shape of test: \", test.shape)"
   ]
  },
  {
   "cell_type": "code",
   "execution_count": 3,
   "metadata": {},
   "outputs": [],
   "source": [
    "from sklearn.model_selection import train_test_split\n",
    "from sklearn.preprocessing import StandardScaler"
   ]
  },
  {
   "cell_type": "code",
   "execution_count": 4,
   "metadata": {},
   "outputs": [
    {
     "name": "stdout",
     "output_type": "stream",
     "text": [
      "(5825, 561)\n",
      "(3162, 561)\n"
     ]
    }
   ],
   "source": [
    "# First, we need to standardize the data to get better performance\n",
    "features = train.columns.values.tolist()\n",
    "features.remove('Activity')\n",
    "features.remove('subject')\n",
    "\n",
    "# Separating out the features\n",
    "x = train.loc[:, features].values\n",
    "test_features = test.loc[:, features].values\n",
    "\n",
    "# Separating out the target\n",
    "y = train.loc[:,['Activity']].values\n",
    "test_labels = test.loc[:,['Activity']].values\n",
    "\n",
    "train_features, validation_features, train_labels, validation_labels = train_test_split(x, y, test_size=0.25, random_state=1300)\n",
    "\n",
    "train_labels = pd.DataFrame(train_labels, columns=['Activity'])\n",
    "validation_labels = pd.DataFrame(validation_labels, columns=['Activity'])\n",
    "print(train_features.shape)\n",
    "print(test_features.shape)"
   ]
  },
  {
   "cell_type": "code",
   "execution_count": 5,
   "metadata": {},
   "outputs": [],
   "source": [
    "from sklearn.neural_network import MLPClassifier"
   ]
  },
  {
   "cell_type": "code",
   "execution_count": 6,
   "metadata": {},
   "outputs": [],
   "source": [
    "mlp = MLPClassifier(hidden_layer_sizes=(10, 10), max_iter=1000, solver='adam', activation='relu', verbose=False)"
   ]
  },
  {
   "cell_type": "code",
   "execution_count": 7,
   "metadata": {},
   "outputs": [
    {
     "data": {
      "text/plain": [
       "MLPClassifier(hidden_layer_sizes=(10, 10), max_iter=1000)"
      ]
     },
     "execution_count": 7,
     "metadata": {},
     "output_type": "execute_result"
    }
   ],
   "source": [
    "mlp.fit(train_features, np.ravel(train_labels))"
   ]
  },
  {
   "cell_type": "code",
   "execution_count": 8,
   "metadata": {},
   "outputs": [
    {
     "data": {
      "text/plain": [
       "array(['WALKING', 'WALKING_DOWNSTAIRS', 'LAYING', ..., 'WALKING',\n",
       "       'STANDING', 'WALKING_DOWNSTAIRS'], dtype='<U18')"
      ]
     },
     "execution_count": 8,
     "metadata": {},
     "output_type": "execute_result"
    }
   ],
   "source": [
    "pred_train = mlp.predict(train_features)\n",
    "pred_train"
   ]
  },
  {
   "cell_type": "code",
   "execution_count": 9,
   "metadata": {},
   "outputs": [],
   "source": [
    "from sklearn.metrics import classification_report, confusion_matrix"
   ]
  },
  {
   "cell_type": "code",
   "execution_count": 10,
   "metadata": {},
   "outputs": [
    {
     "data": {
      "text/plain": [
       "array([[1049,    0,    0,    0,    0,    0,    0,    0,    0,    0,    0,\n",
       "           0],\n",
       "       [   0,   43,    1,    0,    0,    0,    0,    0,    0,    0,    0,\n",
       "           0],\n",
       "       [   0,    1,   38,    0,    0,    0,    0,    0,    0,    0,    0,\n",
       "           0],\n",
       "       [   0,    0,    0,  936,    0,    0,   21,    0,    0,    0,    0,\n",
       "           0],\n",
       "       [   0,    0,    0,    0,   54,    0,    0,    1,    0,    0,    0,\n",
       "           0],\n",
       "       [   0,    0,    0,    0,    0,   16,    0,    0,    0,    0,    0,\n",
       "           0],\n",
       "       [   0,    0,    0,   16,    0,    0, 1050,    0,    0,    0,    0,\n",
       "           0],\n",
       "       [   0,    0,    0,    0,    0,    0,    0,   70,    0,    0,    0,\n",
       "           0],\n",
       "       [   0,    0,    0,    0,    0,    0,    0,    0,   39,    0,    0,\n",
       "           0],\n",
       "       [   0,    0,    0,    0,    0,    0,    0,    0,    0,  928,    0,\n",
       "           0],\n",
       "       [   0,    0,    0,    0,    0,    0,    0,    0,    0,    0,  757,\n",
       "           0],\n",
       "       [   0,    0,    0,    0,    0,    0,    0,    0,    0,    0,    0,\n",
       "         805]], dtype=int64)"
      ]
     },
     "execution_count": 10,
     "metadata": {},
     "output_type": "execute_result"
    }
   ],
   "source": [
    "confusion_matrix(train_labels, pred_train)"
   ]
  },
  {
   "cell_type": "code",
   "execution_count": 11,
   "metadata": {},
   "outputs": [
    {
     "name": "stdout",
     "output_type": "stream",
     "text": [
      "                    precision    recall  f1-score   support\n",
      "\n",
      "            LAYING       1.00      1.00      1.00      1049\n",
      "        LIE_TO_SIT       0.98      0.98      0.98        44\n",
      "      LIE_TO_STAND       0.97      0.97      0.97        39\n",
      "           SITTING       0.98      0.98      0.98       957\n",
      "        SIT_TO_LIE       1.00      0.98      0.99        55\n",
      "      SIT_TO_STAND       1.00      1.00      1.00        16\n",
      "          STANDING       0.98      0.98      0.98      1066\n",
      "      STAND_TO_LIE       0.99      1.00      0.99        70\n",
      "      STAND_TO_SIT       1.00      1.00      1.00        39\n",
      "           WALKING       1.00      1.00      1.00       928\n",
      "WALKING_DOWNSTAIRS       1.00      1.00      1.00       757\n",
      "  WALKING_UPSTAIRS       1.00      1.00      1.00       805\n",
      "\n",
      "          accuracy                           0.99      5825\n",
      "         macro avg       0.99      0.99      0.99      5825\n",
      "      weighted avg       0.99      0.99      0.99      5825\n",
      "\n"
     ]
    }
   ],
   "source": [
    "print(classification_report(train_labels, pred_train, zero_division=0))"
   ]
  },
  {
   "cell_type": "code",
   "execution_count": 12,
   "metadata": {},
   "outputs": [
    {
     "data": {
      "text/plain": [
       "array(['STANDING', 'WALKING_UPSTAIRS', 'SITTING', ...,\n",
       "       'WALKING_DOWNSTAIRS', 'LAYING', 'LAYING'], dtype='<U18')"
      ]
     },
     "execution_count": 12,
     "metadata": {},
     "output_type": "execute_result"
    }
   ],
   "source": [
    "pred = mlp.predict(validation_features)\n",
    "pred"
   ]
  },
  {
   "cell_type": "code",
   "execution_count": 13,
   "metadata": {},
   "outputs": [
    {
     "data": {
      "text/plain": [
       "array([[361,   0,   0,   2,   0,   0,   1,   0,   0,   0,   0,   0],\n",
       "       [  0,  14,   2,   0,   0,   0,   0,   0,   0,   0,   0,   0],\n",
       "       [  0,   8,   9,   0,   0,   1,   0,   0,   0,   0,   0,   0],\n",
       "       [  0,   0,   0, 320,   0,   0,  16,   0,   0,   0,   0,   0],\n",
       "       [  0,   0,   0,   0,  12,   2,   0,   5,   1,   0,   0,   0],\n",
       "       [  0,   0,   0,   1,   0,   4,   0,   0,   2,   0,   0,   0],\n",
       "       [  0,   0,   0,  12,   0,   0, 345,   0,   0,   0,   0,   0],\n",
       "       [  0,   0,   0,   0,   4,   0,   0,  15,   1,   0,   0,   0],\n",
       "       [  0,   0,   0,   0,   0,   0,   0,   0,   8,   0,   0,   0],\n",
       "       [  0,   0,   0,   0,   0,   0,   0,   0,   0, 297,   1,   0],\n",
       "       [  0,   0,   0,   0,   0,   0,   0,   0,   0,   0, 229,   1],\n",
       "       [  0,   0,   0,   0,   0,   0,   0,   0,   0,   1,   1, 266]],\n",
       "      dtype=int64)"
      ]
     },
     "execution_count": 13,
     "metadata": {},
     "output_type": "execute_result"
    }
   ],
   "source": [
    "confusion_matrix(validation_labels, pred)"
   ]
  },
  {
   "cell_type": "code",
   "execution_count": 14,
   "metadata": {},
   "outputs": [
    {
     "name": "stdout",
     "output_type": "stream",
     "text": [
      "                    precision    recall  f1-score   support\n",
      "\n",
      "            LAYING       1.00      0.99      1.00       364\n",
      "        LIE_TO_SIT       0.64      0.88      0.74        16\n",
      "      LIE_TO_STAND       0.82      0.50      0.62        18\n",
      "           SITTING       0.96      0.95      0.95       336\n",
      "        SIT_TO_LIE       0.75      0.60      0.67        20\n",
      "      SIT_TO_STAND       0.57      0.57      0.57         7\n",
      "          STANDING       0.95      0.97      0.96       357\n",
      "      STAND_TO_LIE       0.75      0.75      0.75        20\n",
      "      STAND_TO_SIT       0.67      1.00      0.80         8\n",
      "           WALKING       1.00      1.00      1.00       298\n",
      "WALKING_DOWNSTAIRS       0.99      1.00      0.99       230\n",
      "  WALKING_UPSTAIRS       1.00      0.99      0.99       268\n",
      "\n",
      "          accuracy                           0.97      1942\n",
      "         macro avg       0.84      0.85      0.84      1942\n",
      "      weighted avg       0.97      0.97      0.97      1942\n",
      "\n"
     ]
    }
   ],
   "source": [
    "print(classification_report(validation_labels, pred, zero_division=0))"
   ]
  },
  {
   "cell_type": "code",
   "execution_count": 15,
   "metadata": {},
   "outputs": [
    {
     "name": "stdout",
     "output_type": "stream",
     "text": [
      "(3162, 561)\n"
     ]
    }
   ],
   "source": [
    "test_features = test.columns.values.tolist()\n",
    "test_features.remove('Activity')\n",
    "test_features.remove('subject')\n",
    "\n",
    "# Separating out the features\n",
    "x_test = test.loc[:, test_features].values\n",
    "\n",
    "# Separating out the target\n",
    "y_test = test.loc[:,['Activity']].values\n",
    "\n",
    "print(x_test.shape)"
   ]
  },
  {
   "cell_type": "code",
   "execution_count": 16,
   "metadata": {},
   "outputs": [
    {
     "data": {
      "text/plain": [
       "array(['STANDING', 'STANDING', 'STANDING', ..., 'WALKING_UPSTAIRS',\n",
       "       'WALKING_UPSTAIRS', 'WALKING_UPSTAIRS'], dtype='<U18')"
      ]
     },
     "execution_count": 16,
     "metadata": {},
     "output_type": "execute_result"
    }
   ],
   "source": [
    "result = mlp.predict(x_test)\n",
    "result"
   ]
  },
  {
   "cell_type": "code",
   "execution_count": 17,
   "metadata": {},
   "outputs": [
    {
     "data": {
      "text/plain": [
       "array([[538,   0,   0,   2,   0,   0,   1,   0,   0,   4,   0,   0],\n",
       "       [  0,  16,   8,   0,   0,   0,   0,   1,   0,   0,   0,   0],\n",
       "       [  0,  10,  11,   0,   1,   2,   0,   1,   1,   1,   0,   0],\n",
       "       [  0,   0,   0, 440,   0,   0,  65,   0,   0,   0,   0,   3],\n",
       "       [  1,   1,   0,   1,  11,   0,   0,  12,   5,   0,   0,   1],\n",
       "       [  0,   0,   0,   0,   1,   7,   0,   0,   1,   0,   0,   1],\n",
       "       [  1,   0,   0,  14,   0,   0, 540,   0,   1,   0,   0,   0],\n",
       "       [  0,   2,   0,   1,   7,   0,   1,  31,   4,   1,   0,   2],\n",
       "       [  0,   0,   0,   1,   0,   1,   1,   1,  18,   0,   0,   1],\n",
       "       [  0,   0,   0,   0,   0,   0,   0,   0,   0, 484,   3,   9],\n",
       "       [  0,   0,   0,   0,   0,   0,   0,   0,   0,   9, 397,  14],\n",
       "       [  0,   0,   0,   0,   0,   0,   0,   0,   0,  10,   7, 454]],\n",
       "      dtype=int64)"
      ]
     },
     "execution_count": 17,
     "metadata": {},
     "output_type": "execute_result"
    }
   ],
   "source": [
    "confusion_matrix(y_test, result)"
   ]
  },
  {
   "cell_type": "code",
   "execution_count": 18,
   "metadata": {},
   "outputs": [
    {
     "name": "stdout",
     "output_type": "stream",
     "text": [
      "                    precision    recall  f1-score   support\n",
      "\n",
      "            LAYING       1.00      0.99      0.99       545\n",
      "        LIE_TO_SIT       0.55      0.64      0.59        25\n",
      "      LIE_TO_STAND       0.58      0.41      0.48        27\n",
      "           SITTING       0.96      0.87      0.91       508\n",
      "        SIT_TO_LIE       0.55      0.34      0.42        32\n",
      "      SIT_TO_STAND       0.70      0.70      0.70        10\n",
      "          STANDING       0.89      0.97      0.93       556\n",
      "      STAND_TO_LIE       0.67      0.63      0.65        49\n",
      "      STAND_TO_SIT       0.60      0.78      0.68        23\n",
      "           WALKING       0.95      0.98      0.96       496\n",
      "WALKING_DOWNSTAIRS       0.98      0.95      0.96       420\n",
      "  WALKING_UPSTAIRS       0.94      0.96      0.95       471\n",
      "\n",
      "          accuracy                           0.93      3162\n",
      "         macro avg       0.78      0.77      0.77      3162\n",
      "      weighted avg       0.93      0.93      0.93      3162\n",
      "\n"
     ]
    }
   ],
   "source": [
    "print(classification_report(y_test, result, zero_division=0))"
   ]
  },
  {
   "cell_type": "markdown",
   "metadata": {},
   "source": [
    "### Train on selected features from RFE"
   ]
  },
  {
   "cell_type": "code",
   "execution_count": 19,
   "metadata": {},
   "outputs": [
    {
     "data": {
      "text/plain": [
       "(131,)"
      ]
     },
     "execution_count": 19,
     "metadata": {},
     "output_type": "execute_result"
    }
   ],
   "source": [
    "rfe_features = np.array(['tBodyAcc-Mean-1                ', 'tBodyAcc-Mean-2                ',\n",
    " 'tBodyAcc-STD-1                 ', 'tBodyAcc-Mad-1                 ',\n",
    " 'tBodyAcc-Max-1                 ', 'tBodyAcc-Energy-1              ',\n",
    " 'tBodyAcc-ropy-1                ', 'tBodyAcc-Correlation-1         ',\n",
    " 'tBodyAcc-Correlation-3         ', 'tGravityAcc-Mean-1             ',\n",
    " 'tGravityAcc-Mean-2             ', 'tGravityAcc-Mean-3             ',\n",
    " 'tGravityAcc-STD-1              ', 'tGravityAcc-Mad-1              ',\n",
    " 'tGravityAcc-Mad-2              ', 'tGravityAcc-Max-1              ',\n",
    " 'tGravityAcc-Max-2              ', 'tGravityAcc-Max-3              ',\n",
    " 'tGravityAcc-Min-1              ', 'tGravityAcc-Min-2              ',\n",
    " 'tGravityAcc-Min-3              ', 'tGravityAcc-SMA-1              ',\n",
    " 'tGravityAcc-Energy-1           ', 'tGravityAcc-Energy-2           ',\n",
    " 'tGravityAcc-Energy-3           ', 'tGravityAcc-ropy-1             ',\n",
    " 'tGravityAcc-ropy-1             .1', 'tGravityAcc-ARCoeff-1          ',\n",
    " 'tGravityAcc-ARCoeff-2          ', 'tGravityAcc-ARCoeff-3          ',\n",
    " 'tGravityAcc-ARCoeff-4          ', 'tGravityAcc-ARCoeff-5          ',\n",
    " 'tGravityAcc-ARCoeff-6          ', 'tGravityAcc-ARCoeff-7          ',\n",
    " 'tGravityAcc-ARCoeff-8          ', 'tGravityAcc-ARCoeff-9          ',\n",
    " 'tGravityAcc-ARCoeff-10         ', 'tGravityAcc-ARCoeff-11         ',\n",
    " 'tGravityAcc-ARCoeff-12         ', 'tGravityAcc-Correlation-1      ',\n",
    " 'tBodyAccJerk-STD-1             ', 'tBodyAccJerk-Mad-1             ',\n",
    " 'tBodyAccJerk-Mad-2             ', 'tBodyAccJerk-Max-1             ',\n",
    " 'tBodyAccJerk-SMA-1             ', 'tBodyAccJerk-Energy-1          ',\n",
    " 'tBodyAccJerk-IQR-1             ', 'tBodyAccJerk-IQR-2             ',\n",
    " 'tBodyAccJerk-ropy-1            ', 'tBodyAccJerk-ropy-1            .1',\n",
    " 'tBodyGyro-STD-1                ', 'tBodyGyro-Mad-1                ',\n",
    " 'tBodyGyro-Mad-2                ', 'tBodyGyro-Max-1                ',\n",
    " 'tBodyGyro-Min-1                ', 'tBodyGyro-IQR-1                ',\n",
    " 'tBodyGyro-IQR-2                ', 'tBodyGyro-IQR-3                ',\n",
    " 'tBodyGyro-ropy-1               ', 'tBodyGyro-Correlation-3        ',\n",
    " 'tBodyGyroJerk-STD-1            ', 'tBodyGyroJerk-Mad-1            ',\n",
    " 'tBodyGyroJerk-SMA-1            ', 'tBodyGyroJerk-Energy-1         ',\n",
    " 'tBodyGyroJerk-IQR-1            ', 'tBodyGyroJerk-IQR-3            ',\n",
    " 'tBodyGyroJerk-Correlation-1    ', 'tBodyAccMag-Mean-1             ',\n",
    " 'tBodyAccMag-STD-1              ', 'tBodyAccMag-Mad-1              ',\n",
    " 'tBodyAccMag-SMA-1              ', 'tBodyAccMag-ARCoeff-1          ',\n",
    " 'tBodyAccMag-ARCoeff-2          ', 'tGravityAccMag-Mean-1          ',\n",
    " 'tGravityAccMag-STD-1           ', 'tGravityAccMag-Mad-1           ',\n",
    " 'tGravityAccMag-Energy-1        ', 'tGravityAccMag-ARCoeff-1       ',\n",
    " 'tGravityAccMag-ARCoeff-2       ', 'tBodyAccJerkMag-Mean-1         ',\n",
    " 'tBodyAccJerkMag-Mad-1          ', 'tBodyAccJerkMag-SMA-1          ',\n",
    " 'tBodyAccJerkMag-Energy-1       ', 'tBodyAccJerkMag-IQR-1          ',\n",
    " 'tBodyAccJerkMag-ropy-1         ', 'fBodyAcc-Mean-1                ',\n",
    " 'fBodyAcc-STD-1                 ', 'fBodyAcc-Mad-1                 ',\n",
    " 'fBodyAcc-Max-1                 ', 'fBodyAcc-SMA-1                 ',\n",
    " 'fBodyAcc-Energy-1              ', 'fBodyAcc-MaxInds-1             ',\n",
    " 'fBodyAcc-MeanFreq-3            ', 'fBodyAcc-BandsEnergyOld-1      ',\n",
    " 'fBodyAcc-BandsEnergyOld-9      ', 'fBodyAcc-BandsEnergyOld-13     ',\n",
    " 'fBodyAccJerk-STD-1             ', 'fBodyAccJerk-Max-1             ',\n",
    " 'fBodyAccJerk-Energy-1          ', 'fBodyAccJerk-ropy-1            ',\n",
    " 'fBodyAccJerk-MaxInds-1         ', 'fBodyAccJerk-MaxInds-3         ',\n",
    " 'fBodyAccJerk-BandsEnergyOld-1  ', 'fBodyAccJerk-BandsEnergyOld-9  ',\n",
    " 'fBodyAccJerk-BandsEnergyOld-13 ', 'fBodyGyro-Mean-1               ',\n",
    " 'fBodyGyro-STD-1                ', 'fBodyGyro-STD-3                ',\n",
    " 'fBodyGyro-Mad-1                ', 'fBodyGyro-Max-1                ',\n",
    " 'fBodyGyro-Max-2                ', 'fBodyGyro-Max-3                ',\n",
    " 'fBodyGyro-MaxInds-1            ', 'fBodyGyro-MaxInds-3            ',\n",
    " 'fBodyGyro-MeanFreq-1           ', 'fBodyGyro-Skewness-1           .2',\n",
    " 'fBodyGyro-BandsEnergyOld-1     ', 'fBodyGyro-BandsEnergyOld-2     ',\n",
    " 'fBodyGyro-BandsEnergyOld-9     ', 'fBodyGyro-BandsEnergyOld-13    ',\n",
    " 'fBodyGyro-BandsEnergyOld-15    ', 'fBodyGyro-BandsEnergyOld-41    ',\n",
    " 'fBodyAccMag-Mean-1             ', 'fBodyAccMag-STD-1              ',\n",
    " 'fBodyAccMag-Mad-1              ', 'fBodyAccMag-Max-1              ',\n",
    " 'fBodyAccMag-SMA-1              ', 'fBodyAccMag-Energy-1           ',\n",
    " 'tXAxisAcc-AngleWRTGravity-1    ', 'tYAxisAcc-AngleWRTGravity-1    ',\n",
    " 'tZAxisAcc-AngleWRTGravity-1    ']\n",
    ")\n",
    "\n",
    "rfe_features.shape"
   ]
  },
  {
   "cell_type": "code",
   "execution_count": 20,
   "metadata": {},
   "outputs": [],
   "source": [
    "# Imports\n",
    "import tensorflow\n",
    "from tensorflow.keras.models import Sequential\n",
    "from tensorflow.keras.layers import Dense, Dropout\n",
    "from tensorflow.keras.utils import to_categorical"
   ]
  },
  {
   "cell_type": "code",
   "execution_count": 53,
   "metadata": {},
   "outputs": [],
   "source": [
    "# Configuration options\n",
    "feature_vector_length = 561\n",
    "num_classes = 12"
   ]
  },
  {
   "cell_type": "code",
   "execution_count": 66,
   "metadata": {},
   "outputs": [
    {
     "name": "stdout",
     "output_type": "stream",
     "text": [
      "(5825, 561)\n",
      "(3162, 561)\n"
     ]
    }
   ],
   "source": [
    "# First, we need to standardize the data to get better performance\n",
    "features = train.columns.values.tolist()\n",
    "features.remove('Activity')\n",
    "features.remove('subject')\n",
    "\n",
    "# Separating out the features\n",
    "x = train.loc[:, features].values\n",
    "test_features = test.loc[:, features].values\n",
    "\n",
    "# Separating out the target\n",
    "y = train.loc[:,['Activity']].values\n",
    "test_labels = test.loc[:,['Activity']].values\n",
    "\n",
    "train_features, validation_features, train_labels, validation_labels = train_test_split(x, y, test_size=0.25, random_state=1300)\n",
    "\n",
    "train_labels = pd.DataFrame(train_labels, columns=['Activity'])\n",
    "validation_labels = pd.DataFrame(validation_labels, columns=['Activity'])\n",
    "\n",
    "print(train_features.shape)\n",
    "print(test_features.shape)"
   ]
  },
  {
   "cell_type": "code",
   "execution_count": 67,
   "metadata": {},
   "outputs": [
    {
     "name": "stdout",
     "output_type": "stream",
     "text": [
      "(5825, 1)\n",
      "(3162, 1)\n",
      "(1942, 1)\n"
     ]
    }
   ],
   "source": [
    "mapping = {\n",
    "  \"WALKING\": 1,\n",
    "  \"WALKING_UPSTAIRS\": 2,\n",
    "  \"WALKING_DOWNSTAIRS\": 3,\n",
    "  \"SITTING\": 4,\n",
    "  \"STANDING\": 5,\n",
    "  \"LAYING\": 6,\n",
    "  \"STAND_TO_SIT\": 7,\n",
    "  \"SIT_TO_STAND\": 8,\n",
    "  \"SIT_TO_LIE\": 9,\n",
    "  \"LIE_TO_SIT\": 10,\n",
    "  \"STAND_TO_LIE\": 11,\n",
    "  \"LIE_TO_STAND\": 12\n",
    "}\n",
    "\n",
    "mapToNumber = lambda x: mapping[x] - 1\n",
    "vfunc = np.vectorize(mapToNumber)\n",
    "train_labels = vfunc(train_labels)\n",
    "test_labels = vfunc(test_labels)\n",
    "validation_labels = vfunc(validation_labels)\n",
    "\n",
    "print(train_labels.shape)\n",
    "print(test_labels.shape)\n",
    "print(validation_labels.shape)"
   ]
  },
  {
   "cell_type": "code",
   "execution_count": 68,
   "metadata": {},
   "outputs": [],
   "source": [
    "X_train = train_features\n",
    "X_val = validation_features\n",
    "X_test = test_features\n",
    "\n",
    "Y_train = to_categorical(train_labels, num_classes)\n",
    "Y_val = to_categorical(validation_labels, num_classes)\n",
    "Y_test = to_categorical(test_labels, num_classes)"
   ]
  },
  {
   "cell_type": "code",
   "execution_count": 69,
   "metadata": {},
   "outputs": [],
   "source": [
    "input_shape = (feature_vector_length,)\n",
    "\n",
    "model = Sequential()\n",
    "model.add(Dense(70, input_shape=input_shape, activation='relu'))\n",
    "model.add(Dropout(0.1))\n",
    "model.add(Dense(30, activation='relu'))\n",
    "model.add(Dense(num_classes, activation='softmax'))"
   ]
  },
  {
   "cell_type": "code",
   "execution_count": 79,
   "metadata": {},
   "outputs": [
    {
     "data": {
      "text/plain": [
       "<keras.callbacks.History at 0x1ad00d079a0>"
      ]
     },
     "execution_count": 79,
     "metadata": {},
     "output_type": "execute_result"
    }
   ],
   "source": [
    "model.compile(loss='categorical_crossentropy', optimizer='adam', metrics=['accuracy'])\n",
    "model.fit(X_train, Y_train, epochs=60, batch_size=250, verbose=0, validation_split=0.2)"
   ]
  },
  {
   "cell_type": "code",
   "execution_count": 80,
   "metadata": {},
   "outputs": [
    {
     "name": "stdout",
     "output_type": "stream",
     "text": [
      "61/61 [==============================] - 0s 484us/step - loss: 0.1220 - accuracy: 0.9701\n"
     ]
    }
   ],
   "source": [
    "val_results = model.evaluate(X_val, Y_val, verbose=1)"
   ]
  },
  {
   "cell_type": "code",
   "execution_count": 81,
   "metadata": {},
   "outputs": [
    {
     "name": "stdout",
     "output_type": "stream",
     "text": [
      "99/99 [==============================] - 0s 459us/step - loss: 0.4020 - accuracy: 0.9320\n"
     ]
    }
   ],
   "source": [
    "test_results = model.evaluate(X_test, Y_test, verbose=1)"
   ]
  },
  {
   "cell_type": "code",
   "execution_count": 82,
   "metadata": {},
   "outputs": [],
   "source": [
    "# Configuration options\n",
    "feature_vector_length = 131\n",
    "num_classes = 12"
   ]
  },
  {
   "cell_type": "code",
   "execution_count": 83,
   "metadata": {},
   "outputs": [
    {
     "name": "stdout",
     "output_type": "stream",
     "text": [
      "(5825, 131)\n",
      "(3162, 131)\n"
     ]
    }
   ],
   "source": [
    "# First, we need to standardize the data to get better performance\n",
    "features = rfe_features\n",
    "\n",
    "# Separating out the features\n",
    "x = train.loc[:, features].values\n",
    "test_features = test.loc[:, features].values\n",
    "\n",
    "# Separating out the target\n",
    "y = train.loc[:,['Activity']].values\n",
    "test_labels = test.loc[:,['Activity']].values\n",
    "\n",
    "train_features, validation_features, train_labels, validation_labels = train_test_split(x, y, test_size=0.25, random_state=1300)\n",
    "\n",
    "train_labels = pd.DataFrame(train_labels, columns=['Activity'])\n",
    "validation_labels = pd.DataFrame(validation_labels, columns=['Activity'])\n",
    "\n",
    "print(train_features.shape)\n",
    "print(test_features.shape)"
   ]
  },
  {
   "cell_type": "code",
   "execution_count": 84,
   "metadata": {},
   "outputs": [
    {
     "name": "stdout",
     "output_type": "stream",
     "text": [
      "(5825, 1)\n",
      "(3162, 1)\n",
      "(1942, 1)\n"
     ]
    }
   ],
   "source": [
    "mapping = {\n",
    "  \"WALKING\": 1,\n",
    "  \"WALKING_UPSTAIRS\": 2,\n",
    "  \"WALKING_DOWNSTAIRS\": 3,\n",
    "  \"SITTING\": 4,\n",
    "  \"STANDING\": 5,\n",
    "  \"LAYING\": 6,\n",
    "  \"STAND_TO_SIT\": 7,\n",
    "  \"SIT_TO_STAND\": 8,\n",
    "  \"SIT_TO_LIE\": 9,\n",
    "  \"LIE_TO_SIT\": 10,\n",
    "  \"STAND_TO_LIE\": 11,\n",
    "  \"LIE_TO_STAND\": 12\n",
    "}\n",
    "\n",
    "mapToNumber = lambda x: mapping[x] - 1\n",
    "vfunc = np.vectorize(mapToNumber)\n",
    "train_labels = vfunc(train_labels)\n",
    "test_labels = vfunc(test_labels)\n",
    "validation_labels = vfunc(validation_labels)\n",
    "\n",
    "print(train_labels.shape)\n",
    "print(test_labels.shape)\n",
    "print(validation_labels.shape)"
   ]
  },
  {
   "cell_type": "code",
   "execution_count": 85,
   "metadata": {},
   "outputs": [],
   "source": [
    "X_train = train_features\n",
    "X_val = validation_features\n",
    "X_test = test_features\n",
    "\n",
    "Y_train = to_categorical(train_labels, num_classes)\n",
    "Y_val = to_categorical(validation_labels, num_classes)\n",
    "Y_test = to_categorical(test_labels, num_classes)"
   ]
  },
  {
   "cell_type": "code",
   "execution_count": 86,
   "metadata": {},
   "outputs": [],
   "source": [
    "input_shape = (feature_vector_length,)\n",
    "\n",
    "model = Sequential()\n",
    "model.add(Dense(70, input_shape=input_shape, activation='relu'))\n",
    "model.add(Dropout(0.1))\n",
    "model.add(Dense(30, activation='relu'))\n",
    "model.add(Dense(num_classes, activation='softmax'))"
   ]
  },
  {
   "cell_type": "code",
   "execution_count": 88,
   "metadata": {},
   "outputs": [
    {
     "data": {
      "text/plain": [
       "<keras.callbacks.History at 0x1ad614e4a30>"
      ]
     },
     "execution_count": 88,
     "metadata": {},
     "output_type": "execute_result"
    }
   ],
   "source": [
    "model.compile(loss='categorical_crossentropy', optimizer='adam', metrics=['accuracy'])\n",
    "model.fit(X_train, Y_train, epochs=60, batch_size=250, verbose=0, validation_split=0.2)"
   ]
  },
  {
   "cell_type": "code",
   "execution_count": 89,
   "metadata": {},
   "outputs": [
    {
     "name": "stdout",
     "output_type": "stream",
     "text": [
      "61/61 [==============================] - 0s 400us/step - loss: 0.1104 - accuracy: 0.9619\n"
     ]
    }
   ],
   "source": [
    "val_results = model.evaluate(X_val, Y_val, verbose=1)"
   ]
  },
  {
   "cell_type": "code",
   "execution_count": 90,
   "metadata": {},
   "outputs": [
    {
     "name": "stdout",
     "output_type": "stream",
     "text": [
      "99/99 [==============================] - 0s 388us/step - loss: 0.2564 - accuracy: 0.9152\n"
     ]
    }
   ],
   "source": [
    "test_results = model.evaluate(X_test, Y_test, verbose=1)"
   ]
  },
  {
   "cell_type": "code",
   "execution_count": 33,
   "metadata": {},
   "outputs": [
    {
     "name": "stdout",
     "output_type": "stream",
     "text": [
      "shape of train:  (7767, 563) shape of test:  (3162, 563)\n"
     ]
    }
   ],
   "source": [
    "train = pd.read_csv(\"./input/Train/train.csv\")\n",
    "test = pd.read_csv(\"./input/Test/test.csv\")\n",
    "\n",
    "print(\"shape of train: \", train.shape, \"shape of test: \", test.shape)"
   ]
  },
  {
   "cell_type": "code",
   "execution_count": 41,
   "metadata": {},
   "outputs": [],
   "source": [
    "from imblearn.over_sampling import SMOTE\n",
    "\n",
    "# Separating out the features for training data\n",
    "features = train.columns.values.tolist()\n",
    "features.remove('Activity')\n",
    "features.remove('subject')\n",
    "\n",
    "# Separating out the features\n",
    "train_features = train.loc[:, features].values\n",
    "test_features = test.loc[:, features].values\n",
    "\n",
    "# Separating out the target\n",
    "train_labels = train.loc[:,['Activity']].values\n",
    "test_labels = test.loc[:,['Activity']].values\n",
    "\n",
    "# applying smote on training data\n",
    "smt = SMOTE()\n",
    "xtrain_sm, ytrain_sm = smt.fit_resample(train_features, train_labels)\n",
    "\n",
    "train_labels = pd.DataFrame(ytrain_sm, columns=['Activity'])"
   ]
  },
  {
   "cell_type": "code",
   "execution_count": 42,
   "metadata": {},
   "outputs": [],
   "source": [
    "# Configuration options\n",
    "feature_vector_length = 561\n",
    "num_classes = 12"
   ]
  },
  {
   "cell_type": "code",
   "execution_count": 43,
   "metadata": {},
   "outputs": [
    {
     "name": "stdout",
     "output_type": "stream",
     "text": [
      "(17076, 1)\n",
      "(3162, 1)\n"
     ]
    }
   ],
   "source": [
    "mapping = {\n",
    "  \"WALKING\": 1,\n",
    "  \"WALKING_UPSTAIRS\": 2,\n",
    "  \"WALKING_DOWNSTAIRS\": 3,\n",
    "  \"SITTING\": 4,\n",
    "  \"STANDING\": 5,\n",
    "  \"LAYING\": 6,\n",
    "  \"STAND_TO_SIT\": 7,\n",
    "  \"SIT_TO_STAND\": 8,\n",
    "  \"SIT_TO_LIE\": 9,\n",
    "  \"LIE_TO_SIT\": 10,\n",
    "  \"STAND_TO_LIE\": 11,\n",
    "  \"LIE_TO_STAND\": 12\n",
    "}\n",
    "\n",
    "mapToNumber = lambda x: mapping[x] - 1\n",
    "vfunc = np.vectorize(mapToNumber)\n",
    "train_labels = vfunc(train_labels)\n",
    "test_labels = vfunc(test_labels)\n",
    "print(train_labels.shape)\n",
    "print(test_labels.shape)"
   ]
  },
  {
   "cell_type": "code",
   "execution_count": 44,
   "metadata": {},
   "outputs": [],
   "source": [
    "X_train = xtrain_sm\n",
    "X_test = test_features\n",
    "\n",
    "Y_train = to_categorical(train_labels, num_classes)\n",
    "Y_test = to_categorical(test_labels, num_classes)"
   ]
  },
  {
   "cell_type": "code",
   "execution_count": 45,
   "metadata": {},
   "outputs": [],
   "source": [
    "input_shape = (feature_vector_length,)\n",
    "\n",
    "model = Sequential()\n",
    "model.add(Dense(70, input_shape=input_shape, activation='relu'))\n",
    "model.add(Dropout(0.1))\n",
    "model.add(Dense(30, activation='relu'))\n",
    "model.add(Dense(num_classes, activation='softmax'))"
   ]
  },
  {
   "cell_type": "code",
   "execution_count": 46,
   "metadata": {},
   "outputs": [],
   "source": [
    "model.compile(loss='categorical_crossentropy', optimizer='adam', metrics=['accuracy'])\n",
    "model_history = model.fit(X_train, Y_train, epochs=60, batch_size=250, verbose=0, validation_split=0.2)"
   ]
  },
  {
   "cell_type": "code",
   "execution_count": 47,
   "metadata": {},
   "outputs": [
    {
     "name": "stdout",
     "output_type": "stream",
     "text": [
      "99/99 [==============================] - 0s 449us/step - loss: 0.2405 - accuracy: 0.9402\n"
     ]
    }
   ],
   "source": [
    "test_results = model.evaluate(X_test, Y_test, verbose=1)"
   ]
  },
  {
   "cell_type": "code",
   "execution_count": 48,
   "metadata": {},
   "outputs": [
    {
     "data": {
      "image/png": "[encoded data removed]",
      "text/plain": [
       "<Figure size 720x432 with 1 Axes>"
      ]
     },
     "metadata": {
      "needs_background": "light"
     },
     "output_type": "display_data"
    },
    {
     "data": {
      "image/png": "[encoded data removed]",
      "text/plain": [
       "<Figure size 720x432 with 1 Axes>"
      ]
     },
     "metadata": {
      "needs_background": "light"
     },
     "output_type": "display_data"
    }
   ],
   "source": [
    "# Plot the loss function\n",
    "fig, ax = plt.subplots(1, 1, figsize=(10,6))\n",
    "ax.plot(np.sqrt(model_history.history['loss']), 'r', label='train')\n",
    "ax.plot(np.sqrt(model_history.history['val_loss']), 'b' ,label='val')\n",
    "ax.set_xlabel(r'Epoch', fontsize=20)\n",
    "ax.set_ylabel(r'Loss', fontsize=20)\n",
    "ax.legend()\n",
    "ax.tick_params(labelsize=20)\n",
    "\n",
    "# Plot the accuracy\n",
    "fig, ax = plt.subplots(1, 1, figsize=(10,6))\n",
    "ax.plot(np.sqrt(model_history.history['accuracy']), 'r', label='train')\n",
    "ax.plot(np.sqrt(model_history.history['val_accuracy']), 'b' ,label='val')\n",
    "ax.set_xlabel(r'Epoch', fontsize=20)\n",
    "ax.set_ylabel(r'Accuracy', fontsize=20)\n",
    "ax.legend()\n",
    "ax.tick_params(labelsize=20)"
   ]
  },
  {
   "cell_type": "code",
   "execution_count": 49,
   "metadata": {},
   "outputs": [],
   "source": [
    "import numpy\n",
    "from sklearn.model_selection import GridSearchCV\n",
    "from keras.wrappers.scikit_learn import KerasClassifier"
   ]
  },
  {
   "cell_type": "code",
   "execution_count": 50,
   "metadata": {},
   "outputs": [],
   "source": [
    "def create_model_2(optimizer='adam'):\n",
    "    model = Sequential()\n",
    "    model.add(Dense(70, input_shape=input_shape, activation='relu'))\n",
    "    model.add(Dropout(0.1))\n",
    "    model.add(Dense(30, activation='relu'))\n",
    "    model.add(Dense(num_classes, activation='softmax'))\n",
    "\n",
    "    # compile model\n",
    "    model.compile(loss='categorical_crossentropy', optimizer='adam', metrics=['accuracy'])\n",
    "    return model"
   ]
  },
  {
   "cell_type": "code",
   "execution_count": 51,
   "metadata": {},
   "outputs": [],
   "source": [
    "model_init_batch_epoch_CV = KerasClassifier(build_fn=create_model_2, verbose=0)\n",
    "\n",
    "# we choose the initializers that came at the top in our previous cross-validation!!\n",
    "batches = [128, 256, 512]\n",
    "epochs = [40, 50, 60]\n",
    "\n",
    "# grid search for initializer, batch size and number of epochs\n",
    "param_grid = dict(epochs=epochs, batch_size=batches)\n",
    "grid = GridSearchCV(estimator=model_init_batch_epoch_CV, \n",
    "                    param_grid=param_grid,\n",
    "                    cv=3)\n",
    "grid_result = grid.fit(X_train, Y_train)"
   ]
  },
  {
   "cell_type": "code",
   "execution_count": 52,
   "metadata": {},
   "outputs": [
    {
     "name": "stdout",
     "output_type": "stream",
     "text": [
      "Best Accuracy for 0.9677 using {'batch_size': 128, 'epochs': 60}\n",
      "mean=0.9494, std=0.03413 using {'batch_size': 128, 'epochs': 40}\n",
      "mean=0.958, std=0.03363 using {'batch_size': 128, 'epochs': 50}\n",
      "mean=0.9677, std=0.02836 using {'batch_size': 128, 'epochs': 60}\n",
      "mean=0.9437, std=0.01636 using {'batch_size': 256, 'epochs': 40}\n",
      "mean=0.9243, std=0.06509 using {'batch_size': 256, 'epochs': 50}\n",
      "mean=0.9592, std=0.02423 using {'batch_size': 256, 'epochs': 60}\n",
      "mean=0.9184, std=0.01635 using {'batch_size': 512, 'epochs': 40}\n",
      "mean=0.9383, std=0.02014 using {'batch_size': 512, 'epochs': 50}\n",
      "mean=0.9488, std=0.01829 using {'batch_size': 512, 'epochs': 60}\n"
     ]
    }
   ],
   "source": [
    "print(f'Best Accuracy for {grid_result.best_score_:.4} using {grid_result.best_params_}')\n",
    "means = grid_result.cv_results_['mean_test_score']\n",
    "stds = grid_result.cv_results_['std_test_score']\n",
    "params = grid_result.cv_results_['params']\n",
    "for mean, stdev, param in zip(means, stds, params):\n",
    "    print(f'mean={mean:.4}, std={stdev:.4} using {param}')"
   ]
  },
  {
   "cell_type": "code",
   "execution_count": null,
   "metadata": {},
   "outputs": [],
   "source": []
  }
 ],
 "metadata": {
  "kernelspec": {
   "display_name": "Python 3",
   "language": "python",
   "name": "python3"
  },
  "language_info": {
   "codemirror_mode": {
    "name": "ipython",
    "version": 3
   },
   "file_extension": ".py",
   "mimetype": "text/x-python",
   "name": "python",
   "nbconvert_exporter": "python",
   "pygments_lexer": "ipython3",
   "version": "3.8.5"
  }
 },
 "nbformat": 4,
 "nbformat_minor": 4
}
